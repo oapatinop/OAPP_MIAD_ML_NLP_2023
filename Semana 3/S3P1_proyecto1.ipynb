{
 "cells": [
  {
   "cell_type": "markdown",
   "metadata": {},
   "source": [
    "![image info](https://raw.githubusercontent.com/albahnsen/MIAD_ML_and_NLP/main/images/banner_1.png)"
   ]
  },
  {
   "cell_type": "markdown",
   "metadata": {},
   "source": [
    "# Proyecto 1 - Predicción de precios de vehículos usados\n",
    "\n",
    "En este proyecto podrán poner en práctica sus conocimientos sobre modelos predictivos basados en árboles y ensambles, y sobre la disponibilización de modelos. Para su desasrrollo tengan en cuenta las instrucciones dadas en la \"Guía del proyecto 1: Predicción de precios de vehículos usados\".\n",
    "\n",
    "**Entrega**: La entrega del proyecto deberán realizarla durante la semana 4. Sin embargo, es importante que avancen en la semana 3 en el modelado del problema y en parte del informe, tal y como se les indicó en la guía.\n",
    "\n",
    "Para hacer la entrega, deberán adjuntar el informe autocontenido en PDF a la actividad de entrega del proyecto que encontrarán en la semana 4, y subir el archivo de predicciones a la [competencia de Kaggle](https://www.kaggle.com/t/4bd64c1deb3c4ffb8ca7ff93c1f1497d)."
   ]
  },
  {
   "cell_type": "markdown",
   "metadata": {},
   "source": [
    "## Datos para la predicción de precios de vehículos usados\n",
    "\n",
    "En este proyecto se usará el conjunto de datos de Car Listings de Kaggle, donde cada observación representa el precio de un automóvil teniendo en cuenta distintas variables como: año, marca, modelo, entre otras. El objetivo es predecir el precio del automóvil. Para más detalles puede visitar el siguiente enlace: [datos](https://www.kaggle.com/jpayne/852k-used-car-listings)."
   ]
  },
  {
   "cell_type": "markdown",
   "metadata": {},
   "source": [
    "## Ejemplo predicción conjunto de test para envío a Kaggle\n",
    "\n",
    "En esta sección encontrarán el formato en el que deben guardar los resultados de la predicción para que puedan subirlos a la competencia en Kaggle."
   ]
  },
  {
   "cell_type": "code",
   "execution_count": 2,
   "metadata": {},
   "outputs": [],
   "source": [
    "import warnings\n",
    "warnings.filterwarnings('ignore')"
   ]
  },
  {
   "cell_type": "code",
   "execution_count": 30,
   "metadata": {},
   "outputs": [],
   "source": [
    "# Importación librerías\n",
    "import pandas as pd\n",
    "import numpy as np\n",
    "import matplotlib.pyplot as plt\n",
    "import joblib\n",
    "from sklearn.model_selection import train_test_split\n",
    "from sklearn.model_selection import cross_val_score\n",
    "from sklearn.model_selection import GridSearchCV\n",
    "from sklearn.tree import DecisionTreeRegressor\n",
    "from sklearn.ensemble import RandomForestRegressor\n",
    "from xgboost import XGBRegressor\n",
    "from sklearn.metrics import mean_squared_error as mse\n",
    "from sklearn.metrics import mean_absolute_error as mae\n",
    "from sklearn.preprocessing import LabelEncoder"
   ]
  },
  {
   "cell_type": "code",
   "execution_count": 4,
   "metadata": {},
   "outputs": [],
   "source": [
    "# Carga de datos de archivo .csv\n",
    "dataTraining = pd.read_csv('https://raw.githubusercontent.com/davidzarruk/MIAD_ML_NLP_2023/main/datasets/dataTrain_carListings.zip')\n",
    "dataTesting = pd.read_csv('https://raw.githubusercontent.com/davidzarruk/MIAD_ML_NLP_2023/main/datasets/dataTest_carListings.zip', index_col=0)"
   ]
  },
  {
   "cell_type": "code",
   "execution_count": 5,
   "metadata": {},
   "outputs": [
    {
     "data": {
      "text/html": [
       "<div>\n",
       "<style scoped>\n",
       "    .dataframe tbody tr th:only-of-type {\n",
       "        vertical-align: middle;\n",
       "    }\n",
       "\n",
       "    .dataframe tbody tr th {\n",
       "        vertical-align: top;\n",
       "    }\n",
       "\n",
       "    .dataframe thead th {\n",
       "        text-align: right;\n",
       "    }\n",
       "</style>\n",
       "<table border=\"1\" class=\"dataframe\">\n",
       "  <thead>\n",
       "    <tr style=\"text-align: right;\">\n",
       "      <th></th>\n",
       "      <th>Price</th>\n",
       "      <th>Year</th>\n",
       "      <th>Mileage</th>\n",
       "      <th>State</th>\n",
       "      <th>Make</th>\n",
       "      <th>Model</th>\n",
       "    </tr>\n",
       "  </thead>\n",
       "  <tbody>\n",
       "    <tr>\n",
       "      <th>0</th>\n",
       "      <td>34995</td>\n",
       "      <td>2017</td>\n",
       "      <td>9913</td>\n",
       "      <td>FL</td>\n",
       "      <td>Jeep</td>\n",
       "      <td>Wrangler</td>\n",
       "    </tr>\n",
       "    <tr>\n",
       "      <th>1</th>\n",
       "      <td>37895</td>\n",
       "      <td>2015</td>\n",
       "      <td>20578</td>\n",
       "      <td>OH</td>\n",
       "      <td>Chevrolet</td>\n",
       "      <td>Tahoe4WD</td>\n",
       "    </tr>\n",
       "    <tr>\n",
       "      <th>2</th>\n",
       "      <td>18430</td>\n",
       "      <td>2012</td>\n",
       "      <td>83716</td>\n",
       "      <td>TX</td>\n",
       "      <td>BMW</td>\n",
       "      <td>X5AWD</td>\n",
       "    </tr>\n",
       "    <tr>\n",
       "      <th>3</th>\n",
       "      <td>24681</td>\n",
       "      <td>2014</td>\n",
       "      <td>28729</td>\n",
       "      <td>OH</td>\n",
       "      <td>Cadillac</td>\n",
       "      <td>SRXLuxury</td>\n",
       "    </tr>\n",
       "    <tr>\n",
       "      <th>4</th>\n",
       "      <td>26998</td>\n",
       "      <td>2013</td>\n",
       "      <td>64032</td>\n",
       "      <td>CO</td>\n",
       "      <td>Jeep</td>\n",
       "      <td>Wrangler</td>\n",
       "    </tr>\n",
       "  </tbody>\n",
       "</table>\n",
       "</div>"
      ],
      "text/plain": [
       "   Price  Year  Mileage State       Make      Model\n",
       "0  34995  2017     9913    FL       Jeep   Wrangler\n",
       "1  37895  2015    20578    OH  Chevrolet   Tahoe4WD\n",
       "2  18430  2012    83716    TX        BMW      X5AWD\n",
       "3  24681  2014    28729    OH   Cadillac  SRXLuxury\n",
       "4  26998  2013    64032    CO       Jeep   Wrangler"
      ]
     },
     "execution_count": 5,
     "metadata": {},
     "output_type": "execute_result"
    }
   ],
   "source": [
    "# Visualización datos de entrenamiento\n",
    "dataTraining.head()"
   ]
  },
  {
   "cell_type": "code",
   "execution_count": 6,
   "metadata": {},
   "outputs": [
    {
     "data": {
      "text/html": [
       "<div>\n",
       "<style scoped>\n",
       "    .dataframe tbody tr th:only-of-type {\n",
       "        vertical-align: middle;\n",
       "    }\n",
       "\n",
       "    .dataframe tbody tr th {\n",
       "        vertical-align: top;\n",
       "    }\n",
       "\n",
       "    .dataframe thead th {\n",
       "        text-align: right;\n",
       "    }\n",
       "</style>\n",
       "<table border=\"1\" class=\"dataframe\">\n",
       "  <thead>\n",
       "    <tr style=\"text-align: right;\">\n",
       "      <th></th>\n",
       "      <th>Year</th>\n",
       "      <th>Mileage</th>\n",
       "      <th>State</th>\n",
       "      <th>Make</th>\n",
       "      <th>Model</th>\n",
       "    </tr>\n",
       "    <tr>\n",
       "      <th>ID</th>\n",
       "      <th></th>\n",
       "      <th></th>\n",
       "      <th></th>\n",
       "      <th></th>\n",
       "      <th></th>\n",
       "    </tr>\n",
       "  </thead>\n",
       "  <tbody>\n",
       "    <tr>\n",
       "      <th>0</th>\n",
       "      <td>2014</td>\n",
       "      <td>31909</td>\n",
       "      <td>MD</td>\n",
       "      <td>Nissan</td>\n",
       "      <td>MuranoAWD</td>\n",
       "    </tr>\n",
       "    <tr>\n",
       "      <th>1</th>\n",
       "      <td>2017</td>\n",
       "      <td>5362</td>\n",
       "      <td>FL</td>\n",
       "      <td>Jeep</td>\n",
       "      <td>Wrangler</td>\n",
       "    </tr>\n",
       "    <tr>\n",
       "      <th>2</th>\n",
       "      <td>2014</td>\n",
       "      <td>50300</td>\n",
       "      <td>OH</td>\n",
       "      <td>Ford</td>\n",
       "      <td>FlexLimited</td>\n",
       "    </tr>\n",
       "    <tr>\n",
       "      <th>3</th>\n",
       "      <td>2004</td>\n",
       "      <td>132160</td>\n",
       "      <td>WA</td>\n",
       "      <td>BMW</td>\n",
       "      <td>5</td>\n",
       "    </tr>\n",
       "    <tr>\n",
       "      <th>4</th>\n",
       "      <td>2015</td>\n",
       "      <td>25226</td>\n",
       "      <td>MA</td>\n",
       "      <td>Jeep</td>\n",
       "      <td>Grand</td>\n",
       "    </tr>\n",
       "  </tbody>\n",
       "</table>\n",
       "</div>"
      ],
      "text/plain": [
       "    Year  Mileage State    Make        Model\n",
       "ID                                          \n",
       "0   2014    31909    MD  Nissan    MuranoAWD\n",
       "1   2017     5362    FL    Jeep     Wrangler\n",
       "2   2014    50300    OH    Ford  FlexLimited\n",
       "3   2004   132160    WA     BMW            5\n",
       "4   2015    25226    MA    Jeep        Grand"
      ]
     },
     "execution_count": 6,
     "metadata": {},
     "output_type": "execute_result"
    }
   ],
   "source": [
    "# Visualización datos de test\n",
    "dataTesting.head()"
   ]
  },
  {
   "cell_type": "markdown",
   "metadata": {},
   "source": [
    "# FUNCIONES"
   ]
  },
  {
   "cell_type": "code",
   "execution_count": 7,
   "metadata": {},
   "outputs": [],
   "source": [
    "def guardar(ypred,nombre):\n",
    "    ypred = pd.DataFrame(ypred,index=dataTesting.index, columns=['Price'])\n",
    "    # Guardar predicciones en formato exigido en la competencia de kaggle\n",
    "    archivo = nombre + '.csv'\n",
    "    ypred.to_csv(archivo, index_label='ID')\n",
    "    return ypred"
   ]
  },
  {
   "cell_type": "code",
   "execution_count": 8,
   "metadata": {},
   "outputs": [],
   "source": [
    "def calculo_rmse(ypred,yTest,ypredTr,yTrain):\n",
    "    RMSE = round(mse(ypred, yTest, squared = False))\n",
    "    MSE = round(mse(ypred, yTest))\n",
    "    MAE = round(mae(ypred, yTest))\n",
    "\n",
    "    RMSE_Tr = round(mse(ypredTr, yTrain, squared = False))\n",
    "    MSE_Tr = round(mse(ypredTr, yTrain))\n",
    "    MAE_Tr = round(mae(ypredTr, yTrain))\n",
    "\n",
    "    # Cálculo del desempeño del modelo utilizando el RMSE y el MAE\n",
    "    print(f'El RMSE del modelo es de {RMSE}')\n",
    "    print(f'El MSE del modelo es de {MSE}')\n",
    "    print(f'El MAE del modelo es de {MAE}')\n",
    "\n",
    "    print(f'El RMSE del modelo es de {RMSE_Tr}')\n",
    "    print(f'El MSE del modelo es de {MSE_Tr}')\n",
    "    print(f'El MAE del modelo es de {MAE_Tr}')"
   ]
  },
  {
   "cell_type": "markdown",
   "metadata": {},
   "source": [
    "# Análisis exploratorio"
   ]
  },
  {
   "cell_type": "code",
   "execution_count": 9,
   "metadata": {},
   "outputs": [],
   "source": [
    "dTr = dataTraining.copy()"
   ]
  },
  {
   "cell_type": "code",
   "execution_count": 10,
   "metadata": {
    "scrolled": true
   },
   "outputs": [
    {
     "data": {
      "text/html": [
       "<div>\n",
       "<style scoped>\n",
       "    .dataframe tbody tr th:only-of-type {\n",
       "        vertical-align: middle;\n",
       "    }\n",
       "\n",
       "    .dataframe tbody tr th {\n",
       "        vertical-align: top;\n",
       "    }\n",
       "\n",
       "    .dataframe thead th {\n",
       "        text-align: right;\n",
       "    }\n",
       "</style>\n",
       "<table border=\"1\" class=\"dataframe\">\n",
       "  <thead>\n",
       "    <tr style=\"text-align: right;\">\n",
       "      <th></th>\n",
       "      <th>count</th>\n",
       "      <th>unique</th>\n",
       "      <th>top</th>\n",
       "      <th>freq</th>\n",
       "      <th>mean</th>\n",
       "      <th>std</th>\n",
       "      <th>min</th>\n",
       "      <th>25%</th>\n",
       "      <th>50%</th>\n",
       "      <th>75%</th>\n",
       "      <th>max</th>\n",
       "    </tr>\n",
       "  </thead>\n",
       "  <tbody>\n",
       "    <tr>\n",
       "      <th>Price</th>\n",
       "      <td>400000.0</td>\n",
       "      <td>NaN</td>\n",
       "      <td>NaN</td>\n",
       "      <td>NaN</td>\n",
       "      <td>21146.919312</td>\n",
       "      <td>10753.66494</td>\n",
       "      <td>5001.0</td>\n",
       "      <td>13499.0</td>\n",
       "      <td>18450.0</td>\n",
       "      <td>26999.0</td>\n",
       "      <td>79999.0</td>\n",
       "    </tr>\n",
       "    <tr>\n",
       "      <th>Year</th>\n",
       "      <td>400000.0</td>\n",
       "      <td>NaN</td>\n",
       "      <td>NaN</td>\n",
       "      <td>NaN</td>\n",
       "      <td>2013.198125</td>\n",
       "      <td>3.292326</td>\n",
       "      <td>1997.0</td>\n",
       "      <td>2012.0</td>\n",
       "      <td>2014.0</td>\n",
       "      <td>2016.0</td>\n",
       "      <td>2018.0</td>\n",
       "    </tr>\n",
       "    <tr>\n",
       "      <th>Mileage</th>\n",
       "      <td>400000.0</td>\n",
       "      <td>NaN</td>\n",
       "      <td>NaN</td>\n",
       "      <td>NaN</td>\n",
       "      <td>55072.956895</td>\n",
       "      <td>40881.018845</td>\n",
       "      <td>5.0</td>\n",
       "      <td>25841.0</td>\n",
       "      <td>42955.0</td>\n",
       "      <td>77433.0</td>\n",
       "      <td>2457832.0</td>\n",
       "    </tr>\n",
       "    <tr>\n",
       "      <th>State</th>\n",
       "      <td>400000</td>\n",
       "      <td>51</td>\n",
       "      <td>TX</td>\n",
       "      <td>45918</td>\n",
       "      <td>NaN</td>\n",
       "      <td>NaN</td>\n",
       "      <td>NaN</td>\n",
       "      <td>NaN</td>\n",
       "      <td>NaN</td>\n",
       "      <td>NaN</td>\n",
       "      <td>NaN</td>\n",
       "    </tr>\n",
       "    <tr>\n",
       "      <th>Make</th>\n",
       "      <td>400000</td>\n",
       "      <td>38</td>\n",
       "      <td>Ford</td>\n",
       "      <td>62899</td>\n",
       "      <td>NaN</td>\n",
       "      <td>NaN</td>\n",
       "      <td>NaN</td>\n",
       "      <td>NaN</td>\n",
       "      <td>NaN</td>\n",
       "      <td>NaN</td>\n",
       "      <td>NaN</td>\n",
       "    </tr>\n",
       "    <tr>\n",
       "      <th>Model</th>\n",
       "      <td>400000</td>\n",
       "      <td>525</td>\n",
       "      <td>Silverado</td>\n",
       "      <td>18085</td>\n",
       "      <td>NaN</td>\n",
       "      <td>NaN</td>\n",
       "      <td>NaN</td>\n",
       "      <td>NaN</td>\n",
       "      <td>NaN</td>\n",
       "      <td>NaN</td>\n",
       "      <td>NaN</td>\n",
       "    </tr>\n",
       "  </tbody>\n",
       "</table>\n",
       "</div>"
      ],
      "text/plain": [
       "            count unique        top   freq          mean           std  \\\n",
       "Price    400000.0    NaN        NaN    NaN  21146.919312   10753.66494   \n",
       "Year     400000.0    NaN        NaN    NaN   2013.198125      3.292326   \n",
       "Mileage  400000.0    NaN        NaN    NaN  55072.956895  40881.018845   \n",
       "State      400000     51         TX  45918           NaN           NaN   \n",
       "Make       400000     38       Ford  62899           NaN           NaN   \n",
       "Model      400000    525  Silverado  18085           NaN           NaN   \n",
       "\n",
       "            min      25%      50%      75%        max  \n",
       "Price    5001.0  13499.0  18450.0  26999.0    79999.0  \n",
       "Year     1997.0   2012.0   2014.0   2016.0     2018.0  \n",
       "Mileage     5.0  25841.0  42955.0  77433.0  2457832.0  \n",
       "State       NaN      NaN      NaN      NaN        NaN  \n",
       "Make        NaN      NaN      NaN      NaN        NaN  \n",
       "Model       NaN      NaN      NaN      NaN        NaN  "
      ]
     },
     "execution_count": 10,
     "metadata": {},
     "output_type": "execute_result"
    }
   ],
   "source": [
    "dTr.describe(include=\"all\").T"
   ]
  },
  {
   "cell_type": "code",
   "execution_count": 11,
   "metadata": {},
   "outputs": [
    {
     "data": {
      "text/plain": [
       "array([' AK', ' AL', ' AR', ' AZ', ' CA', ' CO', ' CT', ' DC', ' DE',\n",
       "       ' FL', ' GA', ' HI', ' IA', ' ID', ' IL', ' IN', ' KS', ' KY',\n",
       "       ' LA', ' MA', ' MD', ' ME', ' MI', ' MN', ' MO', ' MS', ' MT',\n",
       "       ' NC', ' ND', ' NE', ' NH', ' NJ', ' NM', ' NV', ' NY', ' OH',\n",
       "       ' OK', ' OR', ' PA', ' RI', ' SC', ' SD', ' TN', ' TX', ' UT',\n",
       "       ' VA', ' VT', ' WA', ' WI', ' WV', ' WY'], dtype=object)"
      ]
     },
     "execution_count": 11,
     "metadata": {},
     "output_type": "execute_result"
    }
   ],
   "source": [
    "np.sort(dTr.State.unique())"
   ]
  },
  {
   "cell_type": "code",
   "execution_count": 12,
   "metadata": {},
   "outputs": [
    {
     "data": {
      "text/plain": [
       "array(['Acura', 'Audi', 'BMW', 'Bentley', 'Buick', 'Cadillac',\n",
       "       'Chevrolet', 'Chrysler', 'Dodge', 'FIAT', 'Ford', 'Freightliner',\n",
       "       'GMC', 'Honda', 'Hyundai', 'INFINITI', 'Jaguar', 'Jeep', 'Kia',\n",
       "       'Land', 'Lexus', 'Lincoln', 'MINI', 'Mazda', 'Mercedes-Benz',\n",
       "       'Mercury', 'Mitsubishi', 'Nissan', 'Pontiac', 'Porsche', 'Ram',\n",
       "       'Scion', 'Subaru', 'Suzuki', 'Tesla', 'Toyota', 'Volkswagen',\n",
       "       'Volvo'], dtype=object)"
      ]
     },
     "execution_count": 12,
     "metadata": {},
     "output_type": "execute_result"
    }
   ],
   "source": [
    "np.sort(dTr.Make.unique())"
   ]
  },
  {
   "cell_type": "code",
   "execution_count": 13,
   "metadata": {
    "tags": []
   },
   "outputs": [
    {
     "data": {
      "text/plain": [
       "array(['1', '15002WD', '15004WD', '1500Laramie', '1500Tradesman', '200LX',\n",
       "       '200Limited', '200S', '200Touring', '25002WD', '25004WD', '3',\n",
       "       '300300C', '300300S', '3004dr', '300Base', '300Limited',\n",
       "       '300Touring', '35004WD', '350Z2dr', '4Runner2WD', '4Runner4WD',\n",
       "       '4Runner4dr', '4RunnerLimited', '4RunnerRWD', '4RunnerSR5',\n",
       "       '4RunnerTrail', '5', '500Pop', '6', '7', '911', '9112dr', 'A34dr',\n",
       "       'A44dr', 'A64dr', 'A8', 'AcadiaAWD', 'AcadiaFWD', 'Accent4dr',\n",
       "       'Accord', 'AccordEX', 'AccordEX-L', 'AccordLX', 'AccordLX-S',\n",
       "       'AccordSE', 'Altima4dr', 'Armada2WD', 'Armada4WD', 'Avalanche2WD',\n",
       "       'Avalanche4WD', 'Avalon4dr', 'AvalonLimited', 'AvalonTouring',\n",
       "       'AvalonXLE', 'Azera4dr', 'Boxster2dr', 'C-Class4dr', 'C-ClassC',\n",
       "       'C-ClassC300', 'C-ClassC350', 'C702dr', 'CC4dr', 'CR-V2WD',\n",
       "       'CR-V4WD', 'CR-VEX', 'CR-VEX-L', 'CR-VLX', 'CR-VSE', 'CR-ZEX',\n",
       "       'CT', 'CTCT', 'CTS', 'CTS-V', 'CTS4dr', 'CX-7FWD', 'CX-9AWD',\n",
       "       'CX-9FWD', 'CX-9Grand', 'CX-9Touring', 'Caliber4dr', 'Camaro2dr',\n",
       "       'CamaroConvertible', 'CamaroCoupe', 'Camry', 'Camry4dr',\n",
       "       'CamryBase', 'CamryL', 'CamryLE', 'CamrySE', 'CamryXLE',\n",
       "       'Canyon2WD', 'Canyon4WD', 'CanyonCrew', 'CanyonExtended',\n",
       "       'CayenneAWD', 'Cayman2dr', 'Challenger2dr', 'ChallengerR/T',\n",
       "       'Charger4dr', 'ChargerSE', 'ChargerSXT', 'CherokeeLimited',\n",
       "       'CherokeeSport', 'Civic', 'CivicEX', 'CivicEX-L', 'CivicLX',\n",
       "       'CivicSi', 'Cobalt2dr', 'Cobalt4dr', 'Colorado2WD', 'Colorado4WD',\n",
       "       'ColoradoCrew', 'ColoradoExtended', 'Compass4WD',\n",
       "       'CompassLatitude', 'CompassLimited', 'CompassSport', 'Continental',\n",
       "       'Cooper', 'Corolla4dr', 'CorollaL', 'CorollaLE', 'CorollaS',\n",
       "       'Corvette2dr', 'CorvetteConvertible', 'CorvetteCoupe', 'CruzeLT',\n",
       "       'CruzeSedan', 'DTS4dr', 'Dakota2WD', 'Dakota4WD', 'Durango2WD',\n",
       "       'Durango4dr', 'DurangoAWD', 'DurangoSXT', 'E-ClassE',\n",
       "       'E-ClassE320', 'E-ClassE350', 'ES', 'ESES', 'Eclipse3dr',\n",
       "       'Econoline', 'EdgeLimited', 'EdgeSE', 'EdgeSEL', 'EdgeSport',\n",
       "       'Elantra', 'Elantra4dr', 'ElantraLimited', 'Element2WD',\n",
       "       'Element4WD', 'EnclaveConvenience', 'EnclaveLeather',\n",
       "       'EnclavePremium', 'Eos2dr', 'EquinoxAWD', 'EquinoxFWD', 'Escalade',\n",
       "       'Escalade2WD', 'Escalade4dr', 'EscaladeAWD', 'Escape4WD',\n",
       "       'Escape4dr', 'EscapeFWD', 'EscapeLImited', 'EscapeLimited',\n",
       "       'EscapeS', 'EscapeSE', 'EscapeXLT', 'Excursion137\"', 'Expedition',\n",
       "       'Expedition2WD', 'Expedition4WD', 'ExpeditionLimited',\n",
       "       'ExpeditionXLT', 'Explorer', 'Explorer4WD', 'Explorer4dr',\n",
       "       'ExplorerBase', 'ExplorerEddie', 'ExplorerFWD', 'ExplorerLimited',\n",
       "       'ExplorerXLT', 'Express', 'F-1502WD', 'F-1504WD', 'F-150FX2',\n",
       "       'F-150FX4', 'F-150King', 'F-150Lariat', 'F-150Limited',\n",
       "       'F-150Platinum', 'F-150STX', 'F-150SuperCrew', 'F-150XL',\n",
       "       'F-150XLT', 'F-250King', 'F-250Lariat', 'F-250XL', 'F-250XLT',\n",
       "       'F-350King', 'F-350Lariat', 'F-350XL', 'F-350XLT', 'FJ', 'FX35AWD',\n",
       "       'FiestaS', 'FiestaSE', 'FitSport', 'FlexLimited', 'FlexSE',\n",
       "       'FlexSEL', 'Focus4dr', 'Focus5dr', 'FocusS', 'FocusSE', 'FocusSEL',\n",
       "       'FocusST', 'FocusTitanium', 'Forester2.5X', 'Forester4dr', 'Forte',\n",
       "       'ForteEX', 'ForteLX', 'ForteSX', 'Frontier', 'Frontier2WD',\n",
       "       'Frontier4WD', 'Fusion4dr', 'FusionHybrid', 'FusionS', 'FusionSE',\n",
       "       'FusionSEL', 'G35', 'G37', 'G64dr', 'GLI4dr', 'GS', 'GSGS',\n",
       "       'GTI2dr', 'GTI4dr', 'GX', 'GXGX', 'Galant4dr', 'Genesis', 'Golf',\n",
       "       'Grand', 'Highlander', 'Highlander4WD', 'Highlander4dr',\n",
       "       'HighlanderBase', 'HighlanderFWD', 'HighlanderLimited',\n",
       "       'HighlanderSE', 'IS', 'ISIS', 'Impala4dr', 'ImpalaLS', 'ImpalaLT',\n",
       "       'Impreza', 'Impreza2.0i', 'ImprezaSport', 'Jetta', 'JourneyAWD',\n",
       "       'JourneyFWD', 'JourneySXT', 'LS', 'LSLS', 'LX', 'LXLX',\n",
       "       'LaCrosse4dr', 'LaCrosseAWD', 'LaCrosseFWD', 'Lancer4dr', 'Land',\n",
       "       'Legacy', 'Legacy2.5i', 'Legacy3.6R', 'Liberty4WD',\n",
       "       'LibertyLimited', 'LibertySport', 'Lucerne4dr', 'M-ClassML350',\n",
       "       'MDX4WD', 'MDXAWD', 'MKXAWD', 'MKXFWD', 'MKZ4dr', 'MX5', 'Malibu',\n",
       "       'Malibu1LT', 'Malibu4dr', 'MalibuLS', 'MalibuLT', 'Matrix5dr',\n",
       "       'Maxima4dr', 'Mazda34dr', 'Mazda35dr', 'Mazda64dr', 'Milan4dr',\n",
       "       'Model', 'Monte', 'Murano2WD', 'MuranoAWD', 'MuranoS',\n",
       "       'Mustang2dr', 'MustangBase', 'MustangDeluxe', 'MustangGT',\n",
       "       'MustangPremium', 'MustangShelby', 'Navigator', 'Navigator2WD',\n",
       "       'Navigator4WD', 'Navigator4dr', 'New', 'OdysseyEX', 'OdysseyEX-L',\n",
       "       'OdysseyLX', 'OdysseyTouring', 'Optima4dr', 'OptimaEX', 'OptimaLX',\n",
       "       'OptimaSX', 'Outback2.5i', 'Outback3.6R', 'Outlander',\n",
       "       'Outlander2WD', 'Outlander4WD', 'PT', 'PacificaLimited',\n",
       "       'PacificaTouring', 'Passat', 'Passat4dr', 'Pathfinder2WD',\n",
       "       'Pathfinder4WD', 'PathfinderS', 'PathfinderSE', 'Patriot4WD',\n",
       "       'PatriotLatitude', 'PatriotLimited', 'PatriotSport', 'Pilot2WD',\n",
       "       'Pilot4WD', 'PilotEX', 'PilotEX-L', 'PilotLX', 'PilotSE',\n",
       "       'PilotTouring', 'Prius', 'Prius5dr', 'PriusBase', 'PriusFive',\n",
       "       'PriusFour', 'PriusOne', 'PriusThree', 'PriusTwo', 'Q5quattro',\n",
       "       'Q7quattro', 'QX562WD', 'QX564WD', 'Quest4dr', 'RAV4', 'RAV44WD',\n",
       "       'RAV44dr', 'RAV4Base', 'RAV4FWD', 'RAV4LE', 'RAV4Limited',\n",
       "       'RAV4Sport', 'RAV4XLE', 'RDXAWD', 'RDXFWD', 'RX', 'RX-84dr',\n",
       "       'RXRX', 'Ram', 'Ranger2WD', 'Ranger4WD', 'RangerSuperCab',\n",
       "       'Regal4dr', 'RegalGS', 'RegalPremium', 'RegalTurbo',\n",
       "       'RidgelineRTL', 'RidgelineSport', 'RioLX', 'RogueFWD', 'Rover',\n",
       "       'S2000Manual', 'S44dr', 'S60T5', 'S804dr', 'SC', 'SL-ClassSL500',\n",
       "       'SLK-ClassSLK350', 'SRXLuxury', 'STS4dr', 'Santa', 'Savana',\n",
       "       'Sedona4dr', 'SedonaEX', 'SedonaLX', 'Sentra4dr', 'Sequoia4WD',\n",
       "       'Sequoia4dr', 'SequoiaLimited', 'SequoiaPlatinum', 'SequoiaSR5',\n",
       "       'Sienna5dr', 'SiennaLE', 'SiennaLimited', 'SiennaSE', 'SiennaXLE',\n",
       "       'Sierra', 'Silverado', 'Sonata4dr', 'SonataLimited', 'SonataSE',\n",
       "       'SonicHatch', 'SonicSedan', 'Sorento2WD', 'SorentoEX', 'SorentoLX',\n",
       "       'SorentoSX', 'Soul+', 'SoulBase', 'Sportage2WD', 'SportageAWD',\n",
       "       'SportageEX', 'SportageLX', 'SportageSX', 'Sprinter',\n",
       "       'Suburban2WD', 'Suburban4WD', 'Suburban4dr', 'Super', 'TL4dr',\n",
       "       'TLAutomatic', 'TSXAutomatic', 'TT2dr', 'Tacoma2WD', 'Tacoma4WD',\n",
       "       'TacomaBase', 'TacomaPreRunner', 'Tahoe2WD', 'Tahoe4WD',\n",
       "       'Tahoe4dr', 'TahoeLS', 'TahoeLT', 'Taurus4dr', 'TaurusLimited',\n",
       "       'TaurusSE', 'TaurusSEL', 'TaurusSHO', 'TerrainAWD', 'TerrainFWD',\n",
       "       'Tiguan2WD', 'TiguanS', 'TiguanSE', 'TiguanSEL', 'Titan',\n",
       "       'Titan2WD', 'Titan4WD', 'Touareg4dr', 'Town', 'Transit',\n",
       "       'TraverseAWD', 'TraverseFWD', 'TucsonAWD', 'TucsonFWD',\n",
       "       'TucsonLimited', 'Tundra', 'Tundra2WD', 'Tundra4WD', 'TundraBase',\n",
       "       'TundraLimited', 'TundraSR5', 'VeracruzAWD', 'VeracruzFWD',\n",
       "       'Versa4dr', 'Versa5dr', 'Vibe4dr', 'WRXBase', 'WRXLimited',\n",
       "       'WRXPremium', 'WRXSTI', 'Wrangler', 'Wrangler2dr', 'Wrangler4WD',\n",
       "       'WranglerRubicon', 'WranglerSahara', 'WranglerSport', 'WranglerX',\n",
       "       'X1xDrive28i', 'X3AWD', 'X3xDrive28i', 'X5AWD', 'X5xDrive35i',\n",
       "       'XC60AWD', 'XC60FWD', 'XC60T6', 'XC704dr', 'XC90AWD', 'XC90FWD',\n",
       "       'XC90T6', 'XF4dr', 'XJ4dr', 'XK2dr', 'Xterra2WD', 'Xterra4WD',\n",
       "       'Xterra4dr', 'Yaris', 'Yaris4dr', 'YarisBase', 'YarisLE', 'Yukon',\n",
       "       'Yukon2WD', 'Yukon4WD', 'Yukon4dr', 'tC2dr', 'xB5dr', 'xD5dr'],\n",
       "      dtype=object)"
      ]
     },
     "execution_count": 13,
     "metadata": {},
     "output_type": "execute_result"
    }
   ],
   "source": [
    "np.sort(dTr.Model.unique())"
   ]
  },
  {
   "cell_type": "code",
   "execution_count": 14,
   "metadata": {},
   "outputs": [
    {
     "data": {
      "text/plain": [
       "Price      0.0\n",
       "Year       0.0\n",
       "Mileage    0.0\n",
       "State      0.0\n",
       "Make       0.0\n",
       "Model      0.0\n",
       "dtype: float64"
      ]
     },
     "execution_count": 14,
     "metadata": {},
     "output_type": "execute_result"
    }
   ],
   "source": [
    "dTr.isnull().sum() / dTr.shape[0] * 100"
   ]
  },
  {
   "cell_type": "code",
   "execution_count": 15,
   "metadata": {
    "scrolled": true
   },
   "outputs": [
    {
     "data": {
      "text/html": [
       "<div>\n",
       "<style scoped>\n",
       "    .dataframe tbody tr th:only-of-type {\n",
       "        vertical-align: middle;\n",
       "    }\n",
       "\n",
       "    .dataframe tbody tr th {\n",
       "        vertical-align: top;\n",
       "    }\n",
       "\n",
       "    .dataframe thead th {\n",
       "        text-align: right;\n",
       "    }\n",
       "</style>\n",
       "<table border=\"1\" class=\"dataframe\">\n",
       "  <thead>\n",
       "    <tr style=\"text-align: right;\">\n",
       "      <th></th>\n",
       "      <th>Price</th>\n",
       "      <th>Year</th>\n",
       "      <th>Mileage</th>\n",
       "      <th>State</th>\n",
       "      <th>Make</th>\n",
       "    </tr>\n",
       "    <tr>\n",
       "      <th>Model</th>\n",
       "      <th></th>\n",
       "      <th></th>\n",
       "      <th></th>\n",
       "      <th></th>\n",
       "      <th></th>\n",
       "    </tr>\n",
       "  </thead>\n",
       "  <tbody>\n",
       "    <tr>\n",
       "      <th>Wrangler</th>\n",
       "      <td>5914</td>\n",
       "      <td>5914</td>\n",
       "      <td>5914</td>\n",
       "      <td>5914</td>\n",
       "      <td>5914</td>\n",
       "    </tr>\n",
       "    <tr>\n",
       "      <th>Tahoe4WD</th>\n",
       "      <td>1912</td>\n",
       "      <td>1912</td>\n",
       "      <td>1912</td>\n",
       "      <td>1912</td>\n",
       "      <td>1912</td>\n",
       "    </tr>\n",
       "    <tr>\n",
       "      <th>X5AWD</th>\n",
       "      <td>601</td>\n",
       "      <td>601</td>\n",
       "      <td>601</td>\n",
       "      <td>601</td>\n",
       "      <td>601</td>\n",
       "    </tr>\n",
       "    <tr>\n",
       "      <th>SRXLuxury</th>\n",
       "      <td>1270</td>\n",
       "      <td>1270</td>\n",
       "      <td>1270</td>\n",
       "      <td>1270</td>\n",
       "      <td>1270</td>\n",
       "    </tr>\n",
       "    <tr>\n",
       "      <th>3</th>\n",
       "      <td>5516</td>\n",
       "      <td>5516</td>\n",
       "      <td>5516</td>\n",
       "      <td>5516</td>\n",
       "      <td>5516</td>\n",
       "    </tr>\n",
       "    <tr>\n",
       "      <th>...</th>\n",
       "      <td>...</td>\n",
       "      <td>...</td>\n",
       "      <td>...</td>\n",
       "      <td>...</td>\n",
       "      <td>...</td>\n",
       "    </tr>\n",
       "    <tr>\n",
       "      <th>PriusOne</th>\n",
       "      <td>75</td>\n",
       "      <td>75</td>\n",
       "      <td>75</td>\n",
       "      <td>75</td>\n",
       "      <td>75</td>\n",
       "    </tr>\n",
       "    <tr>\n",
       "      <th>Element2WD</th>\n",
       "      <td>57</td>\n",
       "      <td>57</td>\n",
       "      <td>57</td>\n",
       "      <td>57</td>\n",
       "      <td>57</td>\n",
       "    </tr>\n",
       "    <tr>\n",
       "      <th>Excursion137\"</th>\n",
       "      <td>92</td>\n",
       "      <td>92</td>\n",
       "      <td>92</td>\n",
       "      <td>92</td>\n",
       "      <td>92</td>\n",
       "    </tr>\n",
       "    <tr>\n",
       "      <th>WRXPremium</th>\n",
       "      <td>72</td>\n",
       "      <td>72</td>\n",
       "      <td>72</td>\n",
       "      <td>72</td>\n",
       "      <td>72</td>\n",
       "    </tr>\n",
       "    <tr>\n",
       "      <th>RX-84dr</th>\n",
       "      <td>48</td>\n",
       "      <td>48</td>\n",
       "      <td>48</td>\n",
       "      <td>48</td>\n",
       "      <td>48</td>\n",
       "    </tr>\n",
       "  </tbody>\n",
       "</table>\n",
       "<p>525 rows × 5 columns</p>\n",
       "</div>"
      ],
      "text/plain": [
       "               Price  Year  Mileage  State  Make\n",
       "Model                                           \n",
       "Wrangler        5914  5914     5914   5914  5914\n",
       "Tahoe4WD        1912  1912     1912   1912  1912\n",
       "X5AWD            601   601      601    601   601\n",
       "SRXLuxury       1270  1270     1270   1270  1270\n",
       "3               5516  5516     5516   5516  5516\n",
       "...              ...   ...      ...    ...   ...\n",
       "PriusOne          75    75       75     75    75\n",
       "Element2WD        57    57       57     57    57\n",
       "Excursion137\"     92    92       92     92    92\n",
       "WRXPremium        72    72       72     72    72\n",
       "RX-84dr           48    48       48     48    48\n",
       "\n",
       "[525 rows x 5 columns]"
      ]
     },
     "execution_count": 15,
     "metadata": {},
     "output_type": "execute_result"
    }
   ],
   "source": [
    "dTr.groupby([\"Model\"],sort=False).count()"
   ]
  },
  {
   "cell_type": "code",
   "execution_count": 16,
   "metadata": {
    "scrolled": true
   },
   "outputs": [
    {
     "data": {
      "text/html": [
       "<div>\n",
       "<style scoped>\n",
       "    .dataframe tbody tr th:only-of-type {\n",
       "        vertical-align: middle;\n",
       "    }\n",
       "\n",
       "    .dataframe tbody tr th {\n",
       "        vertical-align: top;\n",
       "    }\n",
       "\n",
       "    .dataframe thead th {\n",
       "        text-align: right;\n",
       "    }\n",
       "</style>\n",
       "<table border=\"1\" class=\"dataframe\">\n",
       "  <thead>\n",
       "    <tr style=\"text-align: right;\">\n",
       "      <th></th>\n",
       "      <th>Price</th>\n",
       "      <th>Year</th>\n",
       "      <th>Mileage</th>\n",
       "      <th>State</th>\n",
       "      <th>Model</th>\n",
       "    </tr>\n",
       "    <tr>\n",
       "      <th>Make</th>\n",
       "      <th></th>\n",
       "      <th></th>\n",
       "      <th></th>\n",
       "      <th></th>\n",
       "      <th></th>\n",
       "    </tr>\n",
       "  </thead>\n",
       "  <tbody>\n",
       "    <tr>\n",
       "      <th>Jeep</th>\n",
       "      <td>24369</td>\n",
       "      <td>24369</td>\n",
       "      <td>24369</td>\n",
       "      <td>24369</td>\n",
       "      <td>24369</td>\n",
       "    </tr>\n",
       "    <tr>\n",
       "      <th>Chevrolet</th>\n",
       "      <td>58383</td>\n",
       "      <td>58383</td>\n",
       "      <td>58383</td>\n",
       "      <td>58383</td>\n",
       "      <td>58383</td>\n",
       "    </tr>\n",
       "    <tr>\n",
       "      <th>BMW</th>\n",
       "      <td>12326</td>\n",
       "      <td>12326</td>\n",
       "      <td>12326</td>\n",
       "      <td>12326</td>\n",
       "      <td>12326</td>\n",
       "    </tr>\n",
       "    <tr>\n",
       "      <th>Cadillac</th>\n",
       "      <td>5414</td>\n",
       "      <td>5414</td>\n",
       "      <td>5414</td>\n",
       "      <td>5414</td>\n",
       "      <td>5414</td>\n",
       "    </tr>\n",
       "    <tr>\n",
       "      <th>Mercedes-Benz</th>\n",
       "      <td>7575</td>\n",
       "      <td>7575</td>\n",
       "      <td>7575</td>\n",
       "      <td>7575</td>\n",
       "      <td>7575</td>\n",
       "    </tr>\n",
       "    <tr>\n",
       "      <th>Toyota</th>\n",
       "      <td>45941</td>\n",
       "      <td>45941</td>\n",
       "      <td>45941</td>\n",
       "      <td>45941</td>\n",
       "      <td>45941</td>\n",
       "    </tr>\n",
       "    <tr>\n",
       "      <th>Buick</th>\n",
       "      <td>4842</td>\n",
       "      <td>4842</td>\n",
       "      <td>4842</td>\n",
       "      <td>4842</td>\n",
       "      <td>4842</td>\n",
       "    </tr>\n",
       "    <tr>\n",
       "      <th>Dodge</th>\n",
       "      <td>16159</td>\n",
       "      <td>16159</td>\n",
       "      <td>16159</td>\n",
       "      <td>16159</td>\n",
       "      <td>16159</td>\n",
       "    </tr>\n",
       "    <tr>\n",
       "      <th>Volkswagen</th>\n",
       "      <td>11110</td>\n",
       "      <td>11110</td>\n",
       "      <td>11110</td>\n",
       "      <td>11110</td>\n",
       "      <td>11110</td>\n",
       "    </tr>\n",
       "    <tr>\n",
       "      <th>GMC</th>\n",
       "      <td>20834</td>\n",
       "      <td>20834</td>\n",
       "      <td>20834</td>\n",
       "      <td>20834</td>\n",
       "      <td>20834</td>\n",
       "    </tr>\n",
       "    <tr>\n",
       "      <th>Ford</th>\n",
       "      <td>62899</td>\n",
       "      <td>62899</td>\n",
       "      <td>62899</td>\n",
       "      <td>62899</td>\n",
       "      <td>62899</td>\n",
       "    </tr>\n",
       "    <tr>\n",
       "      <th>Hyundai</th>\n",
       "      <td>15057</td>\n",
       "      <td>15057</td>\n",
       "      <td>15057</td>\n",
       "      <td>15057</td>\n",
       "      <td>15057</td>\n",
       "    </tr>\n",
       "    <tr>\n",
       "      <th>Mitsubishi</th>\n",
       "      <td>1272</td>\n",
       "      <td>1272</td>\n",
       "      <td>1272</td>\n",
       "      <td>1272</td>\n",
       "      <td>1272</td>\n",
       "    </tr>\n",
       "    <tr>\n",
       "      <th>Honda</th>\n",
       "      <td>33191</td>\n",
       "      <td>33191</td>\n",
       "      <td>33191</td>\n",
       "      <td>33191</td>\n",
       "      <td>33191</td>\n",
       "    </tr>\n",
       "    <tr>\n",
       "      <th>Nissan</th>\n",
       "      <td>10569</td>\n",
       "      <td>10569</td>\n",
       "      <td>10569</td>\n",
       "      <td>10569</td>\n",
       "      <td>10569</td>\n",
       "    </tr>\n",
       "    <tr>\n",
       "      <th>Mazda</th>\n",
       "      <td>2332</td>\n",
       "      <td>2332</td>\n",
       "      <td>2332</td>\n",
       "      <td>2332</td>\n",
       "      <td>2332</td>\n",
       "    </tr>\n",
       "    <tr>\n",
       "      <th>Volvo</th>\n",
       "      <td>1710</td>\n",
       "      <td>1710</td>\n",
       "      <td>1710</td>\n",
       "      <td>1710</td>\n",
       "      <td>1710</td>\n",
       "    </tr>\n",
       "    <tr>\n",
       "      <th>Kia</th>\n",
       "      <td>16352</td>\n",
       "      <td>16352</td>\n",
       "      <td>16352</td>\n",
       "      <td>16352</td>\n",
       "      <td>16352</td>\n",
       "    </tr>\n",
       "    <tr>\n",
       "      <th>Subaru</th>\n",
       "      <td>6791</td>\n",
       "      <td>6791</td>\n",
       "      <td>6791</td>\n",
       "      <td>6791</td>\n",
       "      <td>6791</td>\n",
       "    </tr>\n",
       "    <tr>\n",
       "      <th>Chrysler</th>\n",
       "      <td>9046</td>\n",
       "      <td>9046</td>\n",
       "      <td>9046</td>\n",
       "      <td>9046</td>\n",
       "      <td>9046</td>\n",
       "    </tr>\n",
       "    <tr>\n",
       "      <th>INFINITI</th>\n",
       "      <td>2406</td>\n",
       "      <td>2406</td>\n",
       "      <td>2406</td>\n",
       "      <td>2406</td>\n",
       "      <td>2406</td>\n",
       "    </tr>\n",
       "    <tr>\n",
       "      <th>Land</th>\n",
       "      <td>2713</td>\n",
       "      <td>2713</td>\n",
       "      <td>2713</td>\n",
       "      <td>2713</td>\n",
       "      <td>2713</td>\n",
       "    </tr>\n",
       "    <tr>\n",
       "      <th>Porsche</th>\n",
       "      <td>980</td>\n",
       "      <td>980</td>\n",
       "      <td>980</td>\n",
       "      <td>980</td>\n",
       "      <td>980</td>\n",
       "    </tr>\n",
       "    <tr>\n",
       "      <th>Lexus</th>\n",
       "      <td>13664</td>\n",
       "      <td>13664</td>\n",
       "      <td>13664</td>\n",
       "      <td>13664</td>\n",
       "      <td>13664</td>\n",
       "    </tr>\n",
       "    <tr>\n",
       "      <th>MINI</th>\n",
       "      <td>2766</td>\n",
       "      <td>2766</td>\n",
       "      <td>2766</td>\n",
       "      <td>2766</td>\n",
       "      <td>2766</td>\n",
       "    </tr>\n",
       "    <tr>\n",
       "      <th>Lincoln</th>\n",
       "      <td>1786</td>\n",
       "      <td>1786</td>\n",
       "      <td>1786</td>\n",
       "      <td>1786</td>\n",
       "      <td>1786</td>\n",
       "    </tr>\n",
       "    <tr>\n",
       "      <th>Audi</th>\n",
       "      <td>1423</td>\n",
       "      <td>1423</td>\n",
       "      <td>1423</td>\n",
       "      <td>1423</td>\n",
       "      <td>1423</td>\n",
       "    </tr>\n",
       "    <tr>\n",
       "      <th>Ram</th>\n",
       "      <td>3611</td>\n",
       "      <td>3611</td>\n",
       "      <td>3611</td>\n",
       "      <td>3611</td>\n",
       "      <td>3611</td>\n",
       "    </tr>\n",
       "    <tr>\n",
       "      <th>Mercury</th>\n",
       "      <td>271</td>\n",
       "      <td>271</td>\n",
       "      <td>271</td>\n",
       "      <td>271</td>\n",
       "      <td>271</td>\n",
       "    </tr>\n",
       "    <tr>\n",
       "      <th>Tesla</th>\n",
       "      <td>148</td>\n",
       "      <td>148</td>\n",
       "      <td>148</td>\n",
       "      <td>148</td>\n",
       "      <td>148</td>\n",
       "    </tr>\n",
       "    <tr>\n",
       "      <th>FIAT</th>\n",
       "      <td>272</td>\n",
       "      <td>272</td>\n",
       "      <td>272</td>\n",
       "      <td>272</td>\n",
       "      <td>272</td>\n",
       "    </tr>\n",
       "    <tr>\n",
       "      <th>Acura</th>\n",
       "      <td>2403</td>\n",
       "      <td>2403</td>\n",
       "      <td>2403</td>\n",
       "      <td>2403</td>\n",
       "      <td>2403</td>\n",
       "    </tr>\n",
       "    <tr>\n",
       "      <th>Scion</th>\n",
       "      <td>651</td>\n",
       "      <td>651</td>\n",
       "      <td>651</td>\n",
       "      <td>651</td>\n",
       "      <td>651</td>\n",
       "    </tr>\n",
       "    <tr>\n",
       "      <th>Pontiac</th>\n",
       "      <td>308</td>\n",
       "      <td>308</td>\n",
       "      <td>308</td>\n",
       "      <td>308</td>\n",
       "      <td>308</td>\n",
       "    </tr>\n",
       "    <tr>\n",
       "      <th>Jaguar</th>\n",
       "      <td>324</td>\n",
       "      <td>324</td>\n",
       "      <td>324</td>\n",
       "      <td>324</td>\n",
       "      <td>324</td>\n",
       "    </tr>\n",
       "    <tr>\n",
       "      <th>Bentley</th>\n",
       "      <td>57</td>\n",
       "      <td>57</td>\n",
       "      <td>57</td>\n",
       "      <td>57</td>\n",
       "      <td>57</td>\n",
       "    </tr>\n",
       "    <tr>\n",
       "      <th>Suzuki</th>\n",
       "      <td>38</td>\n",
       "      <td>38</td>\n",
       "      <td>38</td>\n",
       "      <td>38</td>\n",
       "      <td>38</td>\n",
       "    </tr>\n",
       "    <tr>\n",
       "      <th>Freightliner</th>\n",
       "      <td>7</td>\n",
       "      <td>7</td>\n",
       "      <td>7</td>\n",
       "      <td>7</td>\n",
       "      <td>7</td>\n",
       "    </tr>\n",
       "  </tbody>\n",
       "</table>\n",
       "</div>"
      ],
      "text/plain": [
       "               Price   Year  Mileage  State  Model\n",
       "Make                                              \n",
       "Jeep           24369  24369    24369  24369  24369\n",
       "Chevrolet      58383  58383    58383  58383  58383\n",
       "BMW            12326  12326    12326  12326  12326\n",
       "Cadillac        5414   5414     5414   5414   5414\n",
       "Mercedes-Benz   7575   7575     7575   7575   7575\n",
       "Toyota         45941  45941    45941  45941  45941\n",
       "Buick           4842   4842     4842   4842   4842\n",
       "Dodge          16159  16159    16159  16159  16159\n",
       "Volkswagen     11110  11110    11110  11110  11110\n",
       "GMC            20834  20834    20834  20834  20834\n",
       "Ford           62899  62899    62899  62899  62899\n",
       "Hyundai        15057  15057    15057  15057  15057\n",
       "Mitsubishi      1272   1272     1272   1272   1272\n",
       "Honda          33191  33191    33191  33191  33191\n",
       "Nissan         10569  10569    10569  10569  10569\n",
       "Mazda           2332   2332     2332   2332   2332\n",
       "Volvo           1710   1710     1710   1710   1710\n",
       "Kia            16352  16352    16352  16352  16352\n",
       "Subaru          6791   6791     6791   6791   6791\n",
       "Chrysler        9046   9046     9046   9046   9046\n",
       "INFINITI        2406   2406     2406   2406   2406\n",
       "Land            2713   2713     2713   2713   2713\n",
       "Porsche          980    980      980    980    980\n",
       "Lexus          13664  13664    13664  13664  13664\n",
       "MINI            2766   2766     2766   2766   2766\n",
       "Lincoln         1786   1786     1786   1786   1786\n",
       "Audi            1423   1423     1423   1423   1423\n",
       "Ram             3611   3611     3611   3611   3611\n",
       "Mercury          271    271      271    271    271\n",
       "Tesla            148    148      148    148    148\n",
       "FIAT             272    272      272    272    272\n",
       "Acura           2403   2403     2403   2403   2403\n",
       "Scion            651    651      651    651    651\n",
       "Pontiac          308    308      308    308    308\n",
       "Jaguar           324    324      324    324    324\n",
       "Bentley           57     57       57     57     57\n",
       "Suzuki            38     38       38     38     38\n",
       "Freightliner       7      7        7      7      7"
      ]
     },
     "execution_count": 16,
     "metadata": {},
     "output_type": "execute_result"
    }
   ],
   "source": [
    "dTr.groupby([\"Make\"],sort=False).count()"
   ]
  },
  {
   "cell_type": "code",
   "execution_count": 17,
   "metadata": {
    "scrolled": true
   },
   "outputs": [
    {
     "data": {
      "text/html": [
       "<div>\n",
       "<style scoped>\n",
       "    .dataframe tbody tr th:only-of-type {\n",
       "        vertical-align: middle;\n",
       "    }\n",
       "\n",
       "    .dataframe tbody tr th {\n",
       "        vertical-align: top;\n",
       "    }\n",
       "\n",
       "    .dataframe thead th {\n",
       "        text-align: right;\n",
       "    }\n",
       "</style>\n",
       "<table border=\"1\" class=\"dataframe\">\n",
       "  <thead>\n",
       "    <tr style=\"text-align: right;\">\n",
       "      <th></th>\n",
       "      <th>Price</th>\n",
       "      <th>Year</th>\n",
       "      <th>Mileage</th>\n",
       "      <th>Make</th>\n",
       "      <th>Model</th>\n",
       "    </tr>\n",
       "    <tr>\n",
       "      <th>State</th>\n",
       "      <th></th>\n",
       "      <th></th>\n",
       "      <th></th>\n",
       "      <th></th>\n",
       "      <th></th>\n",
       "    </tr>\n",
       "  </thead>\n",
       "  <tbody>\n",
       "    <tr>\n",
       "      <th>FL</th>\n",
       "      <td>33759</td>\n",
       "      <td>33759</td>\n",
       "      <td>33759</td>\n",
       "      <td>33759</td>\n",
       "      <td>33759</td>\n",
       "    </tr>\n",
       "    <tr>\n",
       "      <th>OH</th>\n",
       "      <td>11364</td>\n",
       "      <td>11364</td>\n",
       "      <td>11364</td>\n",
       "      <td>11364</td>\n",
       "      <td>11364</td>\n",
       "    </tr>\n",
       "    <tr>\n",
       "      <th>TX</th>\n",
       "      <td>45918</td>\n",
       "      <td>45918</td>\n",
       "      <td>45918</td>\n",
       "      <td>45918</td>\n",
       "      <td>45918</td>\n",
       "    </tr>\n",
       "    <tr>\n",
       "      <th>CO</th>\n",
       "      <td>10875</td>\n",
       "      <td>10875</td>\n",
       "      <td>10875</td>\n",
       "      <td>10875</td>\n",
       "      <td>10875</td>\n",
       "    </tr>\n",
       "    <tr>\n",
       "      <th>ME</th>\n",
       "      <td>965</td>\n",
       "      <td>965</td>\n",
       "      <td>965</td>\n",
       "      <td>965</td>\n",
       "      <td>965</td>\n",
       "    </tr>\n",
       "    <tr>\n",
       "      <th>WA</th>\n",
       "      <td>10900</td>\n",
       "      <td>10900</td>\n",
       "      <td>10900</td>\n",
       "      <td>10900</td>\n",
       "      <td>10900</td>\n",
       "    </tr>\n",
       "    <tr>\n",
       "      <th>CT</th>\n",
       "      <td>4942</td>\n",
       "      <td>4942</td>\n",
       "      <td>4942</td>\n",
       "      <td>4942</td>\n",
       "      <td>4942</td>\n",
       "    </tr>\n",
       "    <tr>\n",
       "      <th>CA</th>\n",
       "      <td>36534</td>\n",
       "      <td>36534</td>\n",
       "      <td>36534</td>\n",
       "      <td>36534</td>\n",
       "      <td>36534</td>\n",
       "    </tr>\n",
       "    <tr>\n",
       "      <th>LA</th>\n",
       "      <td>3847</td>\n",
       "      <td>3847</td>\n",
       "      <td>3847</td>\n",
       "      <td>3847</td>\n",
       "      <td>3847</td>\n",
       "    </tr>\n",
       "    <tr>\n",
       "      <th>NY</th>\n",
       "      <td>12447</td>\n",
       "      <td>12447</td>\n",
       "      <td>12447</td>\n",
       "      <td>12447</td>\n",
       "      <td>12447</td>\n",
       "    </tr>\n",
       "    <tr>\n",
       "      <th>PA</th>\n",
       "      <td>13039</td>\n",
       "      <td>13039</td>\n",
       "      <td>13039</td>\n",
       "      <td>13039</td>\n",
       "      <td>13039</td>\n",
       "    </tr>\n",
       "    <tr>\n",
       "      <th>SC</th>\n",
       "      <td>4815</td>\n",
       "      <td>4815</td>\n",
       "      <td>4815</td>\n",
       "      <td>4815</td>\n",
       "      <td>4815</td>\n",
       "    </tr>\n",
       "    <tr>\n",
       "      <th>ND</th>\n",
       "      <td>681</td>\n",
       "      <td>681</td>\n",
       "      <td>681</td>\n",
       "      <td>681</td>\n",
       "      <td>681</td>\n",
       "    </tr>\n",
       "    <tr>\n",
       "      <th>NC</th>\n",
       "      <td>17930</td>\n",
       "      <td>17930</td>\n",
       "      <td>17930</td>\n",
       "      <td>17930</td>\n",
       "      <td>17930</td>\n",
       "    </tr>\n",
       "    <tr>\n",
       "      <th>GA</th>\n",
       "      <td>18182</td>\n",
       "      <td>18182</td>\n",
       "      <td>18182</td>\n",
       "      <td>18182</td>\n",
       "      <td>18182</td>\n",
       "    </tr>\n",
       "    <tr>\n",
       "      <th>AZ</th>\n",
       "      <td>10749</td>\n",
       "      <td>10749</td>\n",
       "      <td>10749</td>\n",
       "      <td>10749</td>\n",
       "      <td>10749</td>\n",
       "    </tr>\n",
       "    <tr>\n",
       "      <th>TN</th>\n",
       "      <td>9274</td>\n",
       "      <td>9274</td>\n",
       "      <td>9274</td>\n",
       "      <td>9274</td>\n",
       "      <td>9274</td>\n",
       "    </tr>\n",
       "    <tr>\n",
       "      <th>KY</th>\n",
       "      <td>6688</td>\n",
       "      <td>6688</td>\n",
       "      <td>6688</td>\n",
       "      <td>6688</td>\n",
       "      <td>6688</td>\n",
       "    </tr>\n",
       "    <tr>\n",
       "      <th>NJ</th>\n",
       "      <td>12132</td>\n",
       "      <td>12132</td>\n",
       "      <td>12132</td>\n",
       "      <td>12132</td>\n",
       "      <td>12132</td>\n",
       "    </tr>\n",
       "    <tr>\n",
       "      <th>UT</th>\n",
       "      <td>4854</td>\n",
       "      <td>4854</td>\n",
       "      <td>4854</td>\n",
       "      <td>4854</td>\n",
       "      <td>4854</td>\n",
       "    </tr>\n",
       "    <tr>\n",
       "      <th>IA</th>\n",
       "      <td>2325</td>\n",
       "      <td>2325</td>\n",
       "      <td>2325</td>\n",
       "      <td>2325</td>\n",
       "      <td>2325</td>\n",
       "    </tr>\n",
       "    <tr>\n",
       "      <th>AL</th>\n",
       "      <td>6283</td>\n",
       "      <td>6283</td>\n",
       "      <td>6283</td>\n",
       "      <td>6283</td>\n",
       "      <td>6283</td>\n",
       "    </tr>\n",
       "    <tr>\n",
       "      <th>NE</th>\n",
       "      <td>2522</td>\n",
       "      <td>2522</td>\n",
       "      <td>2522</td>\n",
       "      <td>2522</td>\n",
       "      <td>2522</td>\n",
       "    </tr>\n",
       "    <tr>\n",
       "      <th>IL</th>\n",
       "      <td>16793</td>\n",
       "      <td>16793</td>\n",
       "      <td>16793</td>\n",
       "      <td>16793</td>\n",
       "      <td>16793</td>\n",
       "    </tr>\n",
       "    <tr>\n",
       "      <th>OK</th>\n",
       "      <td>5096</td>\n",
       "      <td>5096</td>\n",
       "      <td>5096</td>\n",
       "      <td>5096</td>\n",
       "      <td>5096</td>\n",
       "    </tr>\n",
       "    <tr>\n",
       "      <th>MD</th>\n",
       "      <td>8245</td>\n",
       "      <td>8245</td>\n",
       "      <td>8245</td>\n",
       "      <td>8245</td>\n",
       "      <td>8245</td>\n",
       "    </tr>\n",
       "    <tr>\n",
       "      <th>NV</th>\n",
       "      <td>3332</td>\n",
       "      <td>3332</td>\n",
       "      <td>3332</td>\n",
       "      <td>3332</td>\n",
       "      <td>3332</td>\n",
       "    </tr>\n",
       "    <tr>\n",
       "      <th>WV</th>\n",
       "      <td>666</td>\n",
       "      <td>666</td>\n",
       "      <td>666</td>\n",
       "      <td>666</td>\n",
       "      <td>666</td>\n",
       "    </tr>\n",
       "    <tr>\n",
       "      <th>MI</th>\n",
       "      <td>5327</td>\n",
       "      <td>5327</td>\n",
       "      <td>5327</td>\n",
       "      <td>5327</td>\n",
       "      <td>5327</td>\n",
       "    </tr>\n",
       "    <tr>\n",
       "      <th>VA</th>\n",
       "      <td>15894</td>\n",
       "      <td>15894</td>\n",
       "      <td>15894</td>\n",
       "      <td>15894</td>\n",
       "      <td>15894</td>\n",
       "    </tr>\n",
       "    <tr>\n",
       "      <th>WI</th>\n",
       "      <td>5614</td>\n",
       "      <td>5614</td>\n",
       "      <td>5614</td>\n",
       "      <td>5614</td>\n",
       "      <td>5614</td>\n",
       "    </tr>\n",
       "    <tr>\n",
       "      <th>MA</th>\n",
       "      <td>8586</td>\n",
       "      <td>8586</td>\n",
       "      <td>8586</td>\n",
       "      <td>8586</td>\n",
       "      <td>8586</td>\n",
       "    </tr>\n",
       "    <tr>\n",
       "      <th>OR</th>\n",
       "      <td>4907</td>\n",
       "      <td>4907</td>\n",
       "      <td>4907</td>\n",
       "      <td>4907</td>\n",
       "      <td>4907</td>\n",
       "    </tr>\n",
       "    <tr>\n",
       "      <th>IN</th>\n",
       "      <td>7850</td>\n",
       "      <td>7850</td>\n",
       "      <td>7850</td>\n",
       "      <td>7850</td>\n",
       "      <td>7850</td>\n",
       "    </tr>\n",
       "    <tr>\n",
       "      <th>NM</th>\n",
       "      <td>2280</td>\n",
       "      <td>2280</td>\n",
       "      <td>2280</td>\n",
       "      <td>2280</td>\n",
       "      <td>2280</td>\n",
       "    </tr>\n",
       "    <tr>\n",
       "      <th>MO</th>\n",
       "      <td>8029</td>\n",
       "      <td>8029</td>\n",
       "      <td>8029</td>\n",
       "      <td>8029</td>\n",
       "      <td>8029</td>\n",
       "    </tr>\n",
       "    <tr>\n",
       "      <th>HI</th>\n",
       "      <td>1181</td>\n",
       "      <td>1181</td>\n",
       "      <td>1181</td>\n",
       "      <td>1181</td>\n",
       "      <td>1181</td>\n",
       "    </tr>\n",
       "    <tr>\n",
       "      <th>KS</th>\n",
       "      <td>3704</td>\n",
       "      <td>3704</td>\n",
       "      <td>3704</td>\n",
       "      <td>3704</td>\n",
       "      <td>3704</td>\n",
       "    </tr>\n",
       "    <tr>\n",
       "      <th>AR</th>\n",
       "      <td>3128</td>\n",
       "      <td>3128</td>\n",
       "      <td>3128</td>\n",
       "      <td>3128</td>\n",
       "      <td>3128</td>\n",
       "    </tr>\n",
       "    <tr>\n",
       "      <th>MN</th>\n",
       "      <td>5415</td>\n",
       "      <td>5415</td>\n",
       "      <td>5415</td>\n",
       "      <td>5415</td>\n",
       "      <td>5415</td>\n",
       "    </tr>\n",
       "    <tr>\n",
       "      <th>MS</th>\n",
       "      <td>3043</td>\n",
       "      <td>3043</td>\n",
       "      <td>3043</td>\n",
       "      <td>3043</td>\n",
       "      <td>3043</td>\n",
       "    </tr>\n",
       "    <tr>\n",
       "      <th>MT</th>\n",
       "      <td>997</td>\n",
       "      <td>997</td>\n",
       "      <td>997</td>\n",
       "      <td>997</td>\n",
       "      <td>997</td>\n",
       "    </tr>\n",
       "    <tr>\n",
       "      <th>AK</th>\n",
       "      <td>813</td>\n",
       "      <td>813</td>\n",
       "      <td>813</td>\n",
       "      <td>813</td>\n",
       "      <td>813</td>\n",
       "    </tr>\n",
       "    <tr>\n",
       "      <th>VT</th>\n",
       "      <td>579</td>\n",
       "      <td>579</td>\n",
       "      <td>579</td>\n",
       "      <td>579</td>\n",
       "      <td>579</td>\n",
       "    </tr>\n",
       "    <tr>\n",
       "      <th>SD</th>\n",
       "      <td>621</td>\n",
       "      <td>621</td>\n",
       "      <td>621</td>\n",
       "      <td>621</td>\n",
       "      <td>621</td>\n",
       "    </tr>\n",
       "    <tr>\n",
       "      <th>NH</th>\n",
       "      <td>2744</td>\n",
       "      <td>2744</td>\n",
       "      <td>2744</td>\n",
       "      <td>2744</td>\n",
       "      <td>2744</td>\n",
       "    </tr>\n",
       "    <tr>\n",
       "      <th>DE</th>\n",
       "      <td>1221</td>\n",
       "      <td>1221</td>\n",
       "      <td>1221</td>\n",
       "      <td>1221</td>\n",
       "      <td>1221</td>\n",
       "    </tr>\n",
       "    <tr>\n",
       "      <th>ID</th>\n",
       "      <td>1736</td>\n",
       "      <td>1736</td>\n",
       "      <td>1736</td>\n",
       "      <td>1736</td>\n",
       "      <td>1736</td>\n",
       "    </tr>\n",
       "    <tr>\n",
       "      <th>RI</th>\n",
       "      <td>833</td>\n",
       "      <td>833</td>\n",
       "      <td>833</td>\n",
       "      <td>833</td>\n",
       "      <td>833</td>\n",
       "    </tr>\n",
       "    <tr>\n",
       "      <th>WY</th>\n",
       "      <td>335</td>\n",
       "      <td>335</td>\n",
       "      <td>335</td>\n",
       "      <td>335</td>\n",
       "      <td>335</td>\n",
       "    </tr>\n",
       "    <tr>\n",
       "      <th>DC</th>\n",
       "      <td>6</td>\n",
       "      <td>6</td>\n",
       "      <td>6</td>\n",
       "      <td>6</td>\n",
       "      <td>6</td>\n",
       "    </tr>\n",
       "  </tbody>\n",
       "</table>\n",
       "</div>"
      ],
      "text/plain": [
       "       Price   Year  Mileage   Make  Model\n",
       "State                                     \n",
       " FL    33759  33759    33759  33759  33759\n",
       " OH    11364  11364    11364  11364  11364\n",
       " TX    45918  45918    45918  45918  45918\n",
       " CO    10875  10875    10875  10875  10875\n",
       " ME      965    965      965    965    965\n",
       " WA    10900  10900    10900  10900  10900\n",
       " CT     4942   4942     4942   4942   4942\n",
       " CA    36534  36534    36534  36534  36534\n",
       " LA     3847   3847     3847   3847   3847\n",
       " NY    12447  12447    12447  12447  12447\n",
       " PA    13039  13039    13039  13039  13039\n",
       " SC     4815   4815     4815   4815   4815\n",
       " ND      681    681      681    681    681\n",
       " NC    17930  17930    17930  17930  17930\n",
       " GA    18182  18182    18182  18182  18182\n",
       " AZ    10749  10749    10749  10749  10749\n",
       " TN     9274   9274     9274   9274   9274\n",
       " KY     6688   6688     6688   6688   6688\n",
       " NJ    12132  12132    12132  12132  12132\n",
       " UT     4854   4854     4854   4854   4854\n",
       " IA     2325   2325     2325   2325   2325\n",
       " AL     6283   6283     6283   6283   6283\n",
       " NE     2522   2522     2522   2522   2522\n",
       " IL    16793  16793    16793  16793  16793\n",
       " OK     5096   5096     5096   5096   5096\n",
       " MD     8245   8245     8245   8245   8245\n",
       " NV     3332   3332     3332   3332   3332\n",
       " WV      666    666      666    666    666\n",
       " MI     5327   5327     5327   5327   5327\n",
       " VA    15894  15894    15894  15894  15894\n",
       " WI     5614   5614     5614   5614   5614\n",
       " MA     8586   8586     8586   8586   8586\n",
       " OR     4907   4907     4907   4907   4907\n",
       " IN     7850   7850     7850   7850   7850\n",
       " NM     2280   2280     2280   2280   2280\n",
       " MO     8029   8029     8029   8029   8029\n",
       " HI     1181   1181     1181   1181   1181\n",
       " KS     3704   3704     3704   3704   3704\n",
       " AR     3128   3128     3128   3128   3128\n",
       " MN     5415   5415     5415   5415   5415\n",
       " MS     3043   3043     3043   3043   3043\n",
       " MT      997    997      997    997    997\n",
       " AK      813    813      813    813    813\n",
       " VT      579    579      579    579    579\n",
       " SD      621    621      621    621    621\n",
       " NH     2744   2744     2744   2744   2744\n",
       " DE     1221   1221     1221   1221   1221\n",
       " ID     1736   1736     1736   1736   1736\n",
       " RI      833    833      833    833    833\n",
       " WY      335    335      335    335    335\n",
       " DC        6      6        6      6      6"
      ]
     },
     "execution_count": 17,
     "metadata": {},
     "output_type": "execute_result"
    }
   ],
   "source": [
    "dTr.groupby([\"State\"],sort=False).count()"
   ]
  },
  {
   "cell_type": "markdown",
   "metadata": {},
   "source": [
    "# PREPROCESAMIENTO"
   ]
  },
  {
   "cell_type": "code",
   "execution_count": 18,
   "metadata": {},
   "outputs": [],
   "source": [
    "leState = LabelEncoder()\n",
    "leState.fit(dTr[\"State\"])\n",
    "dTr[\"State\"]=leState.transform(dTr.State)"
   ]
  },
  {
   "cell_type": "code",
   "execution_count": 19,
   "metadata": {},
   "outputs": [],
   "source": [
    "leMake = LabelEncoder()\n",
    "leMake.fit(dTr[\"Make\"])\n",
    "dTr[\"Make\"]=leMake.transform(dTr.Make)"
   ]
  },
  {
   "cell_type": "code",
   "execution_count": 20,
   "metadata": {},
   "outputs": [],
   "source": [
    "leModel = LabelEncoder()\n",
    "leModel.fit(dTr[\"Model\"])\n",
    "dTr[\"Model\"]=leModel.transform(dTr.Model)"
   ]
  },
  {
   "cell_type": "code",
   "execution_count": 21,
   "metadata": {
    "scrolled": true
   },
   "outputs": [
    {
     "data": {
      "text/html": [
       "<div>\n",
       "<style scoped>\n",
       "    .dataframe tbody tr th:only-of-type {\n",
       "        vertical-align: middle;\n",
       "    }\n",
       "\n",
       "    .dataframe tbody tr th {\n",
       "        vertical-align: top;\n",
       "    }\n",
       "\n",
       "    .dataframe thead th {\n",
       "        text-align: right;\n",
       "    }\n",
       "</style>\n",
       "<table border=\"1\" class=\"dataframe\">\n",
       "  <thead>\n",
       "    <tr style=\"text-align: right;\">\n",
       "      <th></th>\n",
       "      <th>Year</th>\n",
       "      <th>Mileage</th>\n",
       "      <th>State</th>\n",
       "      <th>Make</th>\n",
       "      <th>Model</th>\n",
       "    </tr>\n",
       "    <tr>\n",
       "      <th>ID</th>\n",
       "      <th></th>\n",
       "      <th></th>\n",
       "      <th></th>\n",
       "      <th></th>\n",
       "      <th></th>\n",
       "    </tr>\n",
       "  </thead>\n",
       "  <tbody>\n",
       "    <tr>\n",
       "      <th>0</th>\n",
       "      <td>2014</td>\n",
       "      <td>31909</td>\n",
       "      <td>MD</td>\n",
       "      <td>Nissan</td>\n",
       "      <td>MuranoAWD</td>\n",
       "    </tr>\n",
       "    <tr>\n",
       "      <th>1</th>\n",
       "      <td>2017</td>\n",
       "      <td>5362</td>\n",
       "      <td>FL</td>\n",
       "      <td>Jeep</td>\n",
       "      <td>Wrangler</td>\n",
       "    </tr>\n",
       "    <tr>\n",
       "      <th>2</th>\n",
       "      <td>2014</td>\n",
       "      <td>50300</td>\n",
       "      <td>OH</td>\n",
       "      <td>Ford</td>\n",
       "      <td>FlexLimited</td>\n",
       "    </tr>\n",
       "    <tr>\n",
       "      <th>3</th>\n",
       "      <td>2004</td>\n",
       "      <td>132160</td>\n",
       "      <td>WA</td>\n",
       "      <td>BMW</td>\n",
       "      <td>5</td>\n",
       "    </tr>\n",
       "    <tr>\n",
       "      <th>4</th>\n",
       "      <td>2015</td>\n",
       "      <td>25226</td>\n",
       "      <td>MA</td>\n",
       "      <td>Jeep</td>\n",
       "      <td>Grand</td>\n",
       "    </tr>\n",
       "    <tr>\n",
       "      <th>...</th>\n",
       "      <td>...</td>\n",
       "      <td>...</td>\n",
       "      <td>...</td>\n",
       "      <td>...</td>\n",
       "      <td>...</td>\n",
       "    </tr>\n",
       "    <tr>\n",
       "      <th>99995</th>\n",
       "      <td>2015</td>\n",
       "      <td>82719</td>\n",
       "      <td>TX</td>\n",
       "      <td>GMC</td>\n",
       "      <td>Savana</td>\n",
       "    </tr>\n",
       "    <tr>\n",
       "      <th>99996</th>\n",
       "      <td>2015</td>\n",
       "      <td>19711</td>\n",
       "      <td>UT</td>\n",
       "      <td>BMW</td>\n",
       "      <td>5</td>\n",
       "    </tr>\n",
       "    <tr>\n",
       "      <th>99997</th>\n",
       "      <td>2016</td>\n",
       "      <td>48049</td>\n",
       "      <td>CA</td>\n",
       "      <td>Nissan</td>\n",
       "      <td>MuranoAWD</td>\n",
       "    </tr>\n",
       "    <tr>\n",
       "      <th>99998</th>\n",
       "      <td>2017</td>\n",
       "      <td>15306</td>\n",
       "      <td>CO</td>\n",
       "      <td>Jeep</td>\n",
       "      <td>PatriotSport</td>\n",
       "    </tr>\n",
       "    <tr>\n",
       "      <th>99999</th>\n",
       "      <td>2013</td>\n",
       "      <td>40393</td>\n",
       "      <td>TX</td>\n",
       "      <td>BMW</td>\n",
       "      <td>1</td>\n",
       "    </tr>\n",
       "  </tbody>\n",
       "</table>\n",
       "<p>100000 rows × 5 columns</p>\n",
       "</div>"
      ],
      "text/plain": [
       "       Year  Mileage State    Make         Model\n",
       "ID                                              \n",
       "0      2014    31909    MD  Nissan     MuranoAWD\n",
       "1      2017     5362    FL    Jeep      Wrangler\n",
       "2      2014    50300    OH    Ford   FlexLimited\n",
       "3      2004   132160    WA     BMW             5\n",
       "4      2015    25226    MA    Jeep         Grand\n",
       "...     ...      ...   ...     ...           ...\n",
       "99995  2015    82719    TX     GMC        Savana\n",
       "99996  2015    19711    UT     BMW             5\n",
       "99997  2016    48049    CA  Nissan     MuranoAWD\n",
       "99998  2017    15306    CO    Jeep  PatriotSport\n",
       "99999  2013    40393    TX     BMW             1\n",
       "\n",
       "[100000 rows x 5 columns]"
      ]
     },
     "execution_count": 21,
     "metadata": {},
     "output_type": "execute_result"
    }
   ],
   "source": [
    "dTe = dataTesting.copy()\n",
    "dTe"
   ]
  },
  {
   "cell_type": "code",
   "execution_count": 22,
   "metadata": {},
   "outputs": [],
   "source": [
    "dTe[\"State\"]=leState.transform(dTe.State)\n",
    "dTe[\"Make\"]=leMake.transform(dTe.Make)\n",
    "dTe[\"Model\"]=leModel.transform(dTe.Model)"
   ]
  },
  {
   "cell_type": "code",
   "execution_count": 23,
   "metadata": {},
   "outputs": [],
   "source": [
    "XTotal = dTr.loc[:,dTr.columns!='Price']\n",
    "yTotal = dTr.loc[:,dTr.columns=='Price']"
   ]
  },
  {
   "cell_type": "code",
   "execution_count": 24,
   "metadata": {},
   "outputs": [],
   "source": [
    "XTrain, XTest, yTrain, yTest = train_test_split(XTotal, yTotal, test_size=0.30, random_state=0)"
   ]
  },
  {
   "cell_type": "markdown",
   "metadata": {},
   "source": [
    "# CALIBRACIÓN DEL MODELO"
   ]
  },
  {
   "cell_type": "markdown",
   "metadata": {},
   "source": [
    "## Random Forest"
   ]
  },
  {
   "cell_type": "markdown",
   "metadata": {},
   "source": [
    "### Calibración"
   ]
  },
  {
   "cell_type": "code",
   "execution_count": 120,
   "metadata": {},
   "outputs": [],
   "source": [
    "np.random.seed(123)\n",
    "max_depth_range = range(15,20)\n",
    "feature_range = range(4, 7)\n",
    "estimator_range = range(300, 310, 1)"
   ]
  },
  {
   "cell_type": "code",
   "execution_count": 121,
   "metadata": {},
   "outputs": [],
   "source": [
    "for max_depth in max_depth_range:\n",
    "    reg = RandomForestRegressor(max_depth = max_depth, max_features = 5, n_estimators = 301, n_jobs=-1)\n",
    "    scores = cross_val_score(reg, XTrain, yTrain, cv = 5, scoring = 'neg_mean_squared_error', n_jobs=-1)\n",
    "    rmse_scoresRF1.append(np.mean(np.sqrt(np.abs(scores))))\n",
    "    parametrosRF1.append((max_depth,feature,estimator))"
   ]
  },
  {
   "cell_type": "code",
   "execution_count": 123,
   "metadata": {},
   "outputs": [],
   "source": [
    "for feature in feature_range:\n",
    "    reg = RandomForestRegressor(max_depth = 16, max_features = feature, n_estimators = 250, n_jobs=-1)\n",
    "    scores = cross_val_score(reg, XTrain, yTrain, cv = 5, scoring = 'neg_mean_squared_error', n_jobs=-1)\n",
    "    rmse_scoresRF1.append(np.mean(np.sqrt(np.abs(scores))))\n",
    "    parametrosRF1.append((max_depth,feature,estimator))"
   ]
  },
  {
   "cell_type": "code",
   "execution_count": 125,
   "metadata": {},
   "outputs": [],
   "source": [
    "for estimator in estimator_range:\n",
    "    reg = RandomForestRegressor(max_depth = 16, max_features = 5, n_estimators = estimator, n_jobs=-1)\n",
    "    scores = cross_val_score(reg, XTrain, yTrain, cv = 5, scoring = 'neg_mean_squared_error', n_jobs=-1)\n",
    "    rmse_scoresRF1.append(np.mean(np.sqrt(np.abs(scores))))\n",
    "    parametrosRF1.append((max_depth,feature,estimator))"
   ]
  },
  {
   "cell_type": "code",
   "execution_count": 126,
   "metadata": {},
   "outputs": [
    {
     "name": "stdout",
     "output_type": "stream",
     "text": [
      "Los parametros optimos del modelo son: \n",
      "max_depth= 16\n",
      "max_features= 5\n",
      "n_estimators= 301\n"
     ]
    }
   ],
   "source": [
    "ind_menorRMSE = rmse_scoresRF1.index(min(rmse_scoresRF1))\n",
    "minParametros = parametrosRF1[ind_menorRMSE]\n",
    "print('Los parametros optimos del modelo son: ')\n",
    "print('max_depth= ' + str(parametrosRF1[ind_menorRMSE][0]))\n",
    "print('max_features= ' + str(parametrosRF1[ind_menorRMSE][1]))\n",
    "print('n_estimators= ' + str(parametrosRF1[ind_menorRMSE][2]))"
   ]
  },
  {
   "cell_type": "markdown",
   "metadata": {},
   "source": [
    "### Predicción"
   ]
  },
  {
   "cell_type": "code",
   "execution_count": 47,
   "metadata": {},
   "outputs": [
    {
     "name": "stdout",
     "output_type": "stream",
     "text": [
      "El RMSE del modelo es de 3630\n",
      "El MSE del modelo es de 13174637\n",
      "El MAE del modelo es de 2306\n",
      "El RMSE del modelo es de 2944\n",
      "El MSE del modelo es de 8669749\n",
      "El MAE del modelo es de 1893\n"
     ]
    }
   ],
   "source": [
    "np.random.seed(123)\n",
    "\n",
    "# Implementación y ajuste del modelo de regresión de Random Forest calibrado con los datos de entrenamiento\n",
    "regRF1 = RandomForestRegressor(max_depth = 16, max_features = 5, n_estimators = 301, n_jobs=-1).fit(XTrain, yTrain)\n",
    "\n",
    "ypredTrRF1 = regRF1.predict(XTrain)\n",
    "ypredRF1 = regRF1.predict(XTest)\n",
    "\n",
    "calculo_rmse(ypredRF1,yTest,ypredTrRF1,yTrain)"
   ]
  },
  {
   "cell_type": "code",
   "execution_count": 48,
   "metadata": {},
   "outputs": [],
   "source": [
    "regRF11 = RandomForestRegressor(max_depth = 16, max_features = 5, n_estimators = 301, n_jobs=-1).fit(XTotal, yTotal)\n",
    "\n",
    "ypredRF11 = regRF11.predict(dTe)"
   ]
  },
  {
   "cell_type": "markdown",
   "metadata": {},
   "source": [
    "## Random Forest 2"
   ]
  },
  {
   "cell_type": "markdown",
   "metadata": {
    "jp-MarkdownHeadingCollapsed": true,
    "tags": []
   },
   "source": [
    "### Calibración"
   ]
  },
  {
   "cell_type": "code",
   "execution_count": 36,
   "metadata": {},
   "outputs": [],
   "source": [
    "np.random.seed(123)\n",
    "max_depth_range = range(1,20)\n",
    "feature_range = range(1, 7)\n",
    "estimator_range = range(310, 400, 10)"
   ]
  },
  {
   "cell_type": "code",
   "execution_count": 26,
   "metadata": {},
   "outputs": [
    {
     "ename": "NameError",
     "evalue": "name 'rmse_scoresRF1' is not defined",
     "output_type": "error",
     "traceback": [
      "\u001b[1;31m---------------------------------------------------------------------------\u001b[0m",
      "\u001b[1;31mNameError\u001b[0m                                 Traceback (most recent call last)",
      "\u001b[1;32m~\\AppData\\Local\\Temp/ipykernel_23528/97403930.py\u001b[0m in \u001b[0;36m<module>\u001b[1;34m\u001b[0m\n\u001b[0;32m      6\u001b[0m     \u001b[0mrmse_maxdepth\u001b[0m\u001b[1;33m.\u001b[0m\u001b[0mappend\u001b[0m\u001b[1;33m(\u001b[0m\u001b[0mnp\u001b[0m\u001b[1;33m.\u001b[0m\u001b[0mmean\u001b[0m\u001b[1;33m(\u001b[0m\u001b[0mnp\u001b[0m\u001b[1;33m.\u001b[0m\u001b[0msqrt\u001b[0m\u001b[1;33m(\u001b[0m\u001b[0mnp\u001b[0m\u001b[1;33m.\u001b[0m\u001b[0mabs\u001b[0m\u001b[1;33m(\u001b[0m\u001b[0mscores\u001b[0m\u001b[1;33m)\u001b[0m\u001b[1;33m)\u001b[0m\u001b[1;33m)\u001b[0m\u001b[1;33m)\u001b[0m\u001b[1;33m\u001b[0m\u001b[1;33m\u001b[0m\u001b[0m\n\u001b[0;32m      7\u001b[0m     \u001b[0mparam_maxdepth\u001b[0m\u001b[1;33m.\u001b[0m\u001b[0mappend\u001b[0m\u001b[1;33m(\u001b[0m\u001b[0mmax_depth\u001b[0m\u001b[1;33m)\u001b[0m\u001b[1;33m\u001b[0m\u001b[1;33m\u001b[0m\u001b[0m\n\u001b[1;32m----> 8\u001b[1;33m \u001b[0mprint\u001b[0m\u001b[1;33m(\u001b[0m\u001b[1;34m'RMSE: '\u001b[0m\u001b[1;33m+\u001b[0m\u001b[0mstr\u001b[0m\u001b[1;33m(\u001b[0m\u001b[0mrmse_scoresRF1\u001b[0m\u001b[1;33m)\u001b[0m\u001b[1;33m)\u001b[0m\u001b[1;33m\u001b[0m\u001b[1;33m\u001b[0m\u001b[0m\n\u001b[0m\u001b[0;32m      9\u001b[0m \u001b[0mind_menor\u001b[0m \u001b[1;33m=\u001b[0m \u001b[0mrmse_maxdepth\u001b[0m\u001b[1;33m.\u001b[0m\u001b[0mindex\u001b[0m\u001b[1;33m(\u001b[0m\u001b[0mmin\u001b[0m\u001b[1;33m(\u001b[0m\u001b[0mrmse_maxdepth\u001b[0m\u001b[1;33m)\u001b[0m\u001b[1;33m)\u001b[0m\u001b[1;33m\u001b[0m\u001b[1;33m\u001b[0m\u001b[0m\n\u001b[0;32m     10\u001b[0m \u001b[0mprint\u001b[0m\u001b[1;33m(\u001b[0m\u001b[1;34m'Max depth'\u001b[0m \u001b[1;33m+\u001b[0m \u001b[0mstr\u001b[0m\u001b[1;33m(\u001b[0m\u001b[0mparam_maxdepth\u001b[0m\u001b[1;33m[\u001b[0m\u001b[0mind_menor\u001b[0m\u001b[1;33m]\u001b[0m\u001b[1;33m)\u001b[0m\u001b[1;33m)\u001b[0m\u001b[1;33m\u001b[0m\u001b[1;33m\u001b[0m\u001b[0m\n",
      "\u001b[1;31mNameError\u001b[0m: name 'rmse_scoresRF1' is not defined"
     ]
    }
   ],
   "source": [
    "rmse_maxdepth = []\n",
    "param_maxdepth = []\n",
    "for max_depth in max_depth_range:\n",
    "    reg = RandomForestRegressor(max_depth = max_depth, n_jobs=-1)\n",
    "    scores = cross_val_score(reg, XTrain, yTrain, cv = 5, scoring = 'neg_mean_squared_error', n_jobs=-1)\n",
    "    rmse_maxdepth.append(np.mean(np.sqrt(np.abs(scores))))\n",
    "    param_maxdepth.append(max_depth)\n",
    "print('RMSE: '+str(min(rmse_maxdepth)))\n",
    "ind_menor = rmse_maxdepth.index(min(rmse_maxdepth))\n",
    "print('Max depth' + str(param_maxdepth[ind_menor]))"
   ]
  },
  {
   "cell_type": "code",
   "execution_count": 31,
   "metadata": {},
   "outputs": [
    {
     "name": "stdout",
     "output_type": "stream",
     "text": [
      "RMSE: [4571.632199954643, 3777.7777147562315, 3609.4157087516405, 3592.7257040527024, 3617.79825832399, nan]\n"
     ]
    },
    {
     "ename": "ValueError",
     "evalue": "3617.5442572383736 is not in list",
     "output_type": "error",
     "traceback": [
      "\u001b[1;31m---------------------------------------------------------------------------\u001b[0m",
      "\u001b[1;31mValueError\u001b[0m                                Traceback (most recent call last)",
      "\u001b[1;32m~\\AppData\\Local\\Temp/ipykernel_23528/2098689554.py\u001b[0m in \u001b[0;36m<module>\u001b[1;34m\u001b[0m\n\u001b[0;32m      7\u001b[0m     \u001b[0mparam_feature\u001b[0m\u001b[1;33m.\u001b[0m\u001b[0mappend\u001b[0m\u001b[1;33m(\u001b[0m\u001b[0mfeature\u001b[0m\u001b[1;33m)\u001b[0m\u001b[1;33m\u001b[0m\u001b[1;33m\u001b[0m\u001b[0m\n\u001b[0;32m      8\u001b[0m \u001b[0mprint\u001b[0m\u001b[1;33m(\u001b[0m\u001b[1;34m'RMSE: '\u001b[0m\u001b[1;33m+\u001b[0m\u001b[0mstr\u001b[0m\u001b[1;33m(\u001b[0m\u001b[0mrmse_feature\u001b[0m\u001b[1;33m)\u001b[0m\u001b[1;33m)\u001b[0m\u001b[1;33m\u001b[0m\u001b[1;33m\u001b[0m\u001b[0m\n\u001b[1;32m----> 9\u001b[1;33m \u001b[0mind_menor\u001b[0m \u001b[1;33m=\u001b[0m \u001b[0mrmse_feature\u001b[0m\u001b[1;33m.\u001b[0m\u001b[0mindex\u001b[0m\u001b[1;33m(\u001b[0m\u001b[0mmin\u001b[0m\u001b[1;33m(\u001b[0m\u001b[0mrmse_maxdepth\u001b[0m\u001b[1;33m)\u001b[0m\u001b[1;33m)\u001b[0m\u001b[1;33m\u001b[0m\u001b[1;33m\u001b[0m\u001b[0m\n\u001b[0m\u001b[0;32m     10\u001b[0m \u001b[0mprint\u001b[0m\u001b[1;33m(\u001b[0m\u001b[1;34m'Max depth'\u001b[0m \u001b[1;33m+\u001b[0m \u001b[0mstr\u001b[0m\u001b[1;33m(\u001b[0m\u001b[0mparam_feature\u001b[0m\u001b[1;33m[\u001b[0m\u001b[0mind_menor\u001b[0m\u001b[1;33m]\u001b[0m\u001b[1;33m)\u001b[0m\u001b[1;33m)\u001b[0m\u001b[1;33m\u001b[0m\u001b[1;33m\u001b[0m\u001b[0m\n",
      "\u001b[1;31mValueError\u001b[0m: 3617.5442572383736 is not in list"
     ]
    }
   ],
   "source": [
    "rmse_feature = []\n",
    "param_feature = []\n",
    "for feature in feature_range:\n",
    "    reg = RandomForestRegressor(max_depth = 17, max_features = feature, n_jobs=-1)\n",
    "    scores = cross_val_score(reg, XTrain, yTrain, cv = 5, scoring = 'neg_mean_squared_error', n_jobs=-1)\n",
    "    rmse_feature.append(np.mean(np.sqrt(np.abs(scores))))\n",
    "    param_feature.append(feature)\n",
    "print('RMSE: '+str(min(rmse_feature)))\n",
    "ind_menor = rmse_feature.index(min(rmse_feature))\n",
    "print('Feature: ' + str(param_feature[ind_menor]))"
   ]
  },
  {
   "cell_type": "code",
   "execution_count": 37,
   "metadata": {},
   "outputs": [
    {
     "name": "stdout",
     "output_type": "stream",
     "text": [
      "RMSE: 3585.366279801527\n",
      "Estimator: 390\n"
     ]
    }
   ],
   "source": [
    "rmse_estimator = []\n",
    "param_estimator = []\n",
    "for estimator in estimator_range:\n",
    "    reg = RandomForestRegressor(max_depth = 17, max_features = 4, n_estimators = estimator, n_jobs=-1)\n",
    "    scores = cross_val_score(reg, XTrain, yTrain, cv = 5, scoring = 'neg_mean_squared_error', n_jobs=-1)\n",
    "    rmse_estimator.append(np.mean(np.sqrt(np.abs(scores))))\n",
    "    param_estimator.append(estimator)\n",
    "print('RMSE: '+str(min(rmse_estimator)))\n",
    "ind_menor = rmse_estimator.index(min(rmse_estimator))\n",
    "print('Estimator: ' + str(param_estimator[ind_menor]))"
   ]
  },
  {
   "cell_type": "code",
   "execution_count": 126,
   "metadata": {},
   "outputs": [
    {
     "name": "stdout",
     "output_type": "stream",
     "text": [
      "Los parametros optimos del modelo son: \n",
      "max_depth= 16\n",
      "max_features= 5\n",
      "n_estimators= 301\n"
     ]
    }
   ],
   "source": [
    "ind_menorRMSE = rmse_scoresRF1.index(min(rmse_scoresRF1))\n",
    "minParametros = parametrosRF1[ind_menorRMSE]\n",
    "print('Los parametros optimos del modelo son: ')\n",
    "print('max_depth= ' + str(parametrosRF1[ind_menorRMSE][0]))\n",
    "print('max_features= ' + str(parametrosRF1[ind_menorRMSE][1]))\n",
    "print('n_estimators= ' + str(parametrosRF1[ind_menorRMSE][2]))"
   ]
  },
  {
   "cell_type": "markdown",
   "metadata": {},
   "source": [
    "### Predicción"
   ]
  },
  {
   "cell_type": "code",
   "execution_count": 49,
   "metadata": {},
   "outputs": [
    {
     "name": "stdout",
     "output_type": "stream",
     "text": [
      "El RMSE del modelo es de 3582\n",
      "El MSE del modelo es de 12828895\n",
      "El MAE del modelo es de 2273\n",
      "El RMSE del modelo es de 3115\n",
      "El MSE del modelo es de 9705344\n",
      "El MAE del modelo es de 1977\n"
     ]
    }
   ],
   "source": [
    "np.random.seed(123)\n",
    "\n",
    "# Implementación y ajuste del modelo de regresión de Random Forest calibrado con los datos de entrenamiento\n",
    "regRF2 = RandomForestRegressor(max_depth = 17, max_features = 4, min_samples_leaf=5, n_jobs=-1).fit(XTrain, yTrain)\n",
    "ypredTrRF2 = regRF2.predict(XTrain)\n",
    "ypredRF2 = regRF2.predict(XTest)\n",
    "\n",
    "calculo_rmse(ypredRF2,yTest,ypredTrRF2,yTrain)"
   ]
  },
  {
   "cell_type": "code",
   "execution_count": 50,
   "metadata": {},
   "outputs": [],
   "source": [
    "regRF21 = RandomForestRegressor(max_depth = 17, max_features = 4, min_samples_leaf=5, n_jobs=-1).fit(XTotal, yTotal)\n",
    "\n",
    "ypredRF21 = regRF21.predict(dTe)"
   ]
  },
  {
   "cell_type": "markdown",
   "metadata": {},
   "source": [
    "## Random Forest v3"
   ]
  },
  {
   "cell_type": "markdown",
   "metadata": {
    "tags": []
   },
   "source": [
    "### Calibración"
   ]
  },
  {
   "cell_type": "code",
   "execution_count": 60,
   "metadata": {},
   "outputs": [],
   "source": [
    "# Create the parameter grid based on the results of random search \n",
    "grid_RF3 = {\n",
    "    'bootstrap': [True],\n",
    "    'max_depth': [5, 10, 20, 50],\n",
    "    'max_features': [3, 5],\n",
    "    'min_samples_leaf': [3, 4, 5],\n",
    "    'min_samples_split': [8, 10, 12],\n",
    "    'n_estimators': [100, 200, 300, 1000]\n",
    "}\n",
    "# Create a based model\n",
    "rf = RandomForestRegressor()\n",
    "# Instantiate the grid search model\n",
    "grid_searchRF3 = GridSearchCV(estimator = rf, param_grid = grid_RF3, \n",
    "                          cv = 3, n_jobs = -1, verbose = 2)"
   ]
  },
  {
   "cell_type": "code",
   "execution_count": 61,
   "metadata": {},
   "outputs": [
    {
     "name": "stdout",
     "output_type": "stream",
     "text": [
      "Fitting 3 folds for each of 288 candidates, totalling 864 fits\n"
     ]
    },
    {
     "data": {
      "text/plain": [
       "{'bootstrap': True,\n",
       " 'max_depth': 20,\n",
       " 'max_features': 5,\n",
       " 'min_samples_leaf': 3,\n",
       " 'min_samples_split': 12,\n",
       " 'n_estimators': 1000}"
      ]
     },
     "execution_count": 61,
     "metadata": {},
     "output_type": "execute_result"
    }
   ],
   "source": [
    "grid_searchRF3.fit(XTrain,yTrain)\n",
    "grid_searchRF3.best_params_"
   ]
  },
  {
   "cell_type": "markdown",
   "metadata": {},
   "source": [
    "### Predicción"
   ]
  },
  {
   "cell_type": "code",
   "execution_count": 51,
   "metadata": {},
   "outputs": [
    {
     "name": "stdout",
     "output_type": "stream",
     "text": [
      "El RMSE del modelo es de 3559\n",
      "El MSE del modelo es de 12669527\n",
      "El MAE del modelo es de 2250\n",
      "El RMSE del modelo es de 3069\n",
      "El MSE del modelo es de 9417217\n",
      "El MAE del modelo es de 1939\n"
     ]
    }
   ],
   "source": [
    "#max_depth = 21, max_features = 4, min_samples_leaf=3, min_samples_split=25, n_estimators=1000, n_jobs=-1 3559\n",
    "regRF3 = RandomForestRegressor(max_depth = 21, max_features = 4, min_samples_leaf=3, min_samples_split=25, n_estimators=1000, n_jobs=-1).fit(XTrain, yTrain)\n",
    "ypredTrRF3 = regRF3.predict(XTrain)\n",
    "ypredRF3 = regRF3.predict(XTest)\n",
    "\n",
    "calculo_rmse(ypredRF3,yTest,ypredTrRF3,yTrain)"
   ]
  },
  {
   "cell_type": "code",
   "execution_count": 52,
   "metadata": {},
   "outputs": [],
   "source": [
    "regRF31 = RandomForestRegressor(max_depth = 21, max_features = 4, min_samples_leaf=3, min_samples_split=25, n_estimators=1000, n_jobs=-1).fit(XTotal, yTotal)\n",
    "\n",
    "ypredRF31 = regRF31.predict(dTe)"
   ]
  },
  {
   "cell_type": "markdown",
   "metadata": {},
   "source": [
    "## Random Forest 4"
   ]
  },
  {
   "cell_type": "markdown",
   "metadata": {
    "jp-MarkdownHeadingCollapsed": true,
    "tags": []
   },
   "source": [
    "### Calibración"
   ]
  },
  {
   "cell_type": "code",
   "execution_count": 89,
   "metadata": {
    "tags": []
   },
   "outputs": [],
   "source": [
    "np.random.seed(123)\n",
    "max_depth_range = range(1,30)\n",
    "max_features_range = [1,2,3,4,5]\n",
    "min_samples_leaf_range = range(1,10)\n",
    "min_samples_split = range(1,30,2)\n",
    "estimator_range = [10,50,100,200,500,1000]\n",
    "rmse_scores=[]"
   ]
  },
  {
   "cell_type": "code",
   "execution_count": 91,
   "metadata": {},
   "outputs": [
    {
     "name": "stdout",
     "output_type": "stream",
     "text": [
      "El parámetro max_depth que mejor calibra el modelo es 17\n"
     ]
    },
    {
     "data": {
      "image/png": "[encoded data removed]",
      "text/plain": [
       "<Figure size 432x288 with 1 Axes>"
      ]
     },
     "metadata": {
      "needs_background": "light"
     },
     "output_type": "display_data"
    }
   ],
   "source": [
    "for max_depth in max_depth_range:\n",
    "    reg = RandomForestRegressor(max_depth = max_depth, n_jobs=-1)\n",
    "    scores = cross_val_score(reg, XTrain, yTrain, cv = 5, scoring = 'neg_mean_squared_error', n_jobs=-1)\n",
    "    rmse_scores.append(np.mean(np.sqrt(np.abs(scores))))\n",
    "\n",
    "# Gráfica del desempeño del modelo vs la cantidad de max_depth\n",
    "plt.plot(max_depth_range, rmse_scores)\n",
    "plt.xlabel('max_depth')\n",
    "plt.ylabel('RMSE')\n",
    "\n",
    "print(f'El parámetro max_depth que mejor calibra el modelo es {rmse_scores.index(min(rmse_scores)) + 1}')"
   ]
  },
  {
   "cell_type": "code",
   "execution_count": 100,
   "metadata": {},
   "outputs": [
    {
     "name": "stdout",
     "output_type": "stream",
     "text": [
      "El parámetro feature que mejor calibra el modelo es 4\n"
     ]
    },
    {
     "data": {
      "image/png": "[encoded data removed]",
      "text/plain": [
       "<Figure size 432x288 with 1 Axes>"
      ]
     },
     "metadata": {
      "needs_background": "light"
     },
     "output_type": "display_data"
    }
   ],
   "source": [
    "rmse_scores=[]\n",
    "for feauture in max_features_range:\n",
    "    reg = RandomForestRegressor(max_depth = 17,  max_features = feauture, n_jobs=-1)\n",
    "    scores = cross_val_score(reg, XTrain, yTrain, cv = 5, scoring = 'neg_mean_squared_error', n_jobs=-1)\n",
    "    rmse_scores.append(np.mean(np.sqrt(np.abs(scores))))\n",
    "\n",
    "# Gráfica del desempeño del modelo vs la cantidad de max_depth\n",
    "plt.plot(max_features_range, rmse_scores)\n",
    "plt.xlabel('feature')\n",
    "plt.ylabel('RMSE')\n",
    "\n",
    "print(f'El parámetro feature que mejor calibra el modelo es {rmse_scores.index(min(rmse_scores)) + 1}')"
   ]
  },
  {
   "cell_type": "code",
   "execution_count": 102,
   "metadata": {},
   "outputs": [
    {
     "name": "stdout",
     "output_type": "stream",
     "text": [
      "El parámetro feature que mejor calibra el modelo es 3\n"
     ]
    },
    {
     "data": {
      "image/png": "[encoded data removed]",
      "text/plain": [
       "<Figure size 432x288 with 1 Axes>"
      ]
     },
     "metadata": {
      "needs_background": "light"
     },
     "output_type": "display_data"
    }
   ],
   "source": [
    "rmse_scores=[]\n",
    "for min_leaf in min_samples_leaf_range:\n",
    "    reg = RandomForestRegressor(max_depth = 17,  max_features = 4, min_samples_leaf = min_leaf, n_jobs=-1)\n",
    "    scores = cross_val_score(reg, XTrain, yTrain, cv = 5, scoring = 'neg_mean_squared_error', n_jobs=-1)\n",
    "    rmse_scores.append(np.mean(np.sqrt(np.abs(scores))))\n",
    "\n",
    "# Gráfica del desempeño del modelo vs la cantidad de max_depth\n",
    "plt.plot(min_samples_leaf_range, rmse_scores)\n",
    "plt.xlabel('min leaf')\n",
    "plt.ylabel('RMSE')\n",
    "\n",
    "print(f'El parámetro feature que mejor calibra el modelo es {rmse_scores.index(min(rmse_scores)) + 1}')"
   ]
  },
  {
   "cell_type": "code",
   "execution_count": 104,
   "metadata": {},
   "outputs": [
    {
     "name": "stdout",
     "output_type": "stream",
     "text": [
      "El parámetro feature que mejor calibra el modelo es 1\n"
     ]
    },
    {
     "data": {
      "image/png": "[encoded data removed]",
      "text/plain": [
       "<Figure size 432x288 with 1 Axes>"
      ]
     },
     "metadata": {
      "needs_background": "light"
     },
     "output_type": "display_data"
    }
   ],
   "source": [
    "rmse_scores=[]\n",
    "for split in min_samples_split:\n",
    "    reg = RandomForestRegressor(max_depth = 17,  max_features = 4, min_samples_leaf = 3, min_samples_split=split, n_jobs=-1)\n",
    "    scores = cross_val_score(reg, XTrain, yTrain, cv = 5, scoring = 'neg_mean_squared_error', n_jobs=-1)\n",
    "    rmse_scores.append(np.mean(np.sqrt(np.abs(scores))))\n",
    "\n",
    "# Gráfica del desempeño del modelo vs la cantidad de max_depth\n",
    "plt.plot(min_samples_split, rmse_scores)\n",
    "plt.xlabel('min split')\n",
    "plt.ylabel('RMSE')\n",
    "\n",
    "print(f'El parámetro feature que mejor calibra el modelo es {rmse_scores.index(min(rmse_scores)) + 1}')"
   ]
  },
  {
   "cell_type": "code",
   "execution_count": 109,
   "metadata": {},
   "outputs": [
    {
     "name": "stdout",
     "output_type": "stream",
     "text": [
      "El parámetro feature que mejor calibra el modelo es 5\n"
     ]
    },
    {
     "data": {
      "image/png": "[encoded data removed]",
      "text/plain": [
       "<Figure size 432x288 with 1 Axes>"
      ]
     },
     "metadata": {
      "needs_background": "light"
     },
     "output_type": "display_data"
    }
   ],
   "source": [
    "rmse_scores=[]\n",
    "for estimator in estimator_range:\n",
    "    reg = RandomForestRegressor(max_depth = 17,  max_features = 4, min_samples_leaf = 3, min_samples_split=16,n_estimators=estimator, n_jobs=-1)\n",
    "    scores = cross_val_score(reg, XTrain, yTrain, cv = 5, scoring = 'neg_mean_squared_error', n_jobs=-1)\n",
    "    rmse_scores.append(np.mean(np.sqrt(np.abs(scores))))\n",
    "\n",
    "# Gráfica del desempeño del modelo vs la cantidad de max_depth\n",
    "plt.plot(estimator_range, rmse_scores)\n",
    "plt.xlabel('estimator')\n",
    "plt.ylabel('RMSE')\n",
    "\n",
    "print(f'El parámetro feature que mejor calibra el modelo es {rmse_scores.index(min(rmse_scores)) + 1}')"
   ]
  },
  {
   "cell_type": "code",
   "execution_count": 112,
   "metadata": {},
   "outputs": [
    {
     "name": "stdout",
     "output_type": "stream",
     "text": [
      "El parámetro max_depth que mejor calibra el modelo es 5\n"
     ]
    },
    {
     "data": {
      "image/png": "[encoded data removed]",
      "text/plain": [
       "<Figure size 432x288 with 1 Axes>"
      ]
     },
     "metadata": {
      "needs_background": "light"
     },
     "output_type": "display_data"
    }
   ],
   "source": [
    "rmse_scores=[]\n",
    "max_depth_range = range(15,25)\n",
    "for max_depth in max_depth_range:\n",
    "    reg = RandomForestRegressor(max_depth = max_depth, max_features = 4, min_samples_leaf = 3, min_samples_split = 16,n_estimators=1000, n_jobs=-1)\n",
    "    scores = cross_val_score(reg, XTrain, yTrain, cv = 5, scoring = 'neg_mean_squared_error', n_jobs=-1)\n",
    "    rmse_scores.append(np.mean(np.sqrt(np.abs(scores))))\n",
    "\n",
    "# Gráfica del desempeño del modelo vs la cantidad de max_depth\n",
    "plt.plot(max_depth_range, rmse_scores)\n",
    "plt.xlabel('max_depth')\n",
    "plt.ylabel('RMSE')\n",
    "\n",
    "print(f'El parámetro max_depth que mejor calibra el modelo es {rmse_scores.index(min(rmse_scores)) + 1}')"
   ]
  },
  {
   "cell_type": "markdown",
   "metadata": {},
   "source": [
    "### Predicción"
   ]
  },
  {
   "cell_type": "code",
   "execution_count": 42,
   "metadata": {},
   "outputs": [
    {
     "name": "stdout",
     "output_type": "stream",
     "text": [
      "El RMSE del modelo es de 3558\n",
      "El MSE del modelo es de 12658594\n",
      "El MAE del modelo es de 2247\n",
      "El RMSE del modelo es de 3006\n",
      "El MSE del modelo es de 9038138\n",
      "El MAE del modelo es de 1896\n"
     ]
    }
   ],
   "source": [
    "regRF4 = RandomForestRegressor(max_depth = 19, max_features = 4, min_samples_leaf = 3, min_samples_split = 16,n_estimators=1000, n_jobs=-1).fit(XTrain, yTrain)\n",
    "ypredTrRF4 = regRF4.predict(XTrain)\n",
    "ypredRF4 = regRF4.predict(XTest)\n",
    "\n",
    "calculo_rmse(ypredRF4,yTest,ypredTrRF4,yTrain)"
   ]
  },
  {
   "cell_type": "code",
   "execution_count": 43,
   "metadata": {},
   "outputs": [],
   "source": [
    "regRF41 = RandomForestRegressor(max_depth = 19, max_features = 4, min_samples_leaf = 3, min_samples_split = 16,n_estimators=1000, n_jobs=-1).fit(XTotal, yTotal)\n",
    "\n",
    "ypredRF41 = regRF41.predict(dTe)"
   ]
  },
  {
   "cell_type": "code",
   "execution_count": null,
   "metadata": {},
   "outputs": [],
   "source": []
  },
  {
   "cell_type": "markdown",
   "metadata": {
    "jp-MarkdownHeadingCollapsed": true,
    "tags": []
   },
   "source": [
    "## XGBoost"
   ]
  },
  {
   "cell_type": "markdown",
   "metadata": {},
   "source": [
    "## XgBoost v1"
   ]
  },
  {
   "cell_type": "markdown",
   "metadata": {
    "jp-MarkdownHeadingCollapsed": true,
    "tags": []
   },
   "source": [
    "### Calibración"
   ]
  },
  {
   "cell_type": "code",
   "execution_count": 111,
   "metadata": {},
   "outputs": [],
   "source": [
    "np.random.seed(123)\n",
    "lr_range = np.arange(0.4, 0.6, 0.01)\n",
    "gamma_range = range(385, 400, 1)\n",
    "colsample_bytree_range = np.arange(0.38, 0.5, 0.01)\n",
    "#rmse_scoresXGB1=[]\n",
    "#parametrosXGB1=[]"
   ]
  },
  {
   "cell_type": "code",
   "execution_count": 112,
   "metadata": {},
   "outputs": [],
   "source": [
    "gamma = 390\n",
    "colsample_bytree = 0.41\n",
    "for lr in lr_range:\n",
    "    reg = XGBRegressor(learning_rate = lr, gamma = gamma, colsample_bytree = colsample_bytree)\n",
    "    scores = cross_val_score(reg, XTrain, yTrain, cv = 5, scoring = 'neg_mean_squared_error', n_jobs=-1)\n",
    "    rmse_scoresXGB1.append(np.mean(np.sqrt(np.abs(scores))))\n",
    "    parametrosXGB1.append((lr,gamma,colsample_bytree))"
   ]
  },
  {
   "cell_type": "code",
   "execution_count": 104,
   "metadata": {},
   "outputs": [],
   "source": [
    "lr = 0.48\n",
    "colsample_bytree = 0.41\n",
    "for gamma in gamma_range:\n",
    "    reg = XGBRegressor(learning_rate = lr, gamma = gamma, colsample_bytree = colsample_bytree)\n",
    "    scores = cross_val_score(reg, XTrain, yTrain, cv = 5, scoring = 'neg_mean_squared_error', n_jobs=-1)\n",
    "    rmse_scoresXGB1.append(np.mean(np.sqrt(np.abs(scores))))\n",
    "    parametrosXGB1.append((lr,gamma,colsample_bytree))"
   ]
  },
  {
   "cell_type": "code",
   "execution_count": 109,
   "metadata": {},
   "outputs": [],
   "source": [
    "lr = 0.48\n",
    "gamma = 390\n",
    "for colsample_bytree in colsample_bytree_range:\n",
    "    reg = XGBRegressor(learning_rate = lr, gamma = gamma, colsample_bytree = colsample_bytree)\n",
    "    scores = cross_val_score(reg, XTrain, yTrain, cv = 5, scoring = 'neg_mean_squared_error', n_jobs=-1)\n",
    "    rmse_scoresXGB1.append(np.mean(np.sqrt(np.abs(scores))))\n",
    "    parametrosXGB1.append((lr,gamma,colsample_bytree))"
   ]
  },
  {
   "cell_type": "code",
   "execution_count": 113,
   "metadata": {
    "scrolled": true,
    "tags": []
   },
   "outputs": [
    {
     "name": "stdout",
     "output_type": "stream",
     "text": [
      "Los parametros optimos del modelo son: \n",
      "Learning rate= 0.5400000000000001\n",
      "Gamma= 390\n",
      "Colsample tree= 0.41\n"
     ]
    }
   ],
   "source": [
    "ind_menorRMSE = rmse_scoresXGB1.index(min(rmse_scoresXGB1))\n",
    "print('Los parametros optimos del modelo son: ')\n",
    "print('Learning rate= ' + str(parametrosXGB1[ind_menorRMSE][0]))\n",
    "print('Gamma= ' + str(parametrosXGB1[ind_menorRMSE][1]))\n",
    "print('Colsample tree= ' + str(parametrosXGB1[ind_menorRMSE][2]))"
   ]
  },
  {
   "cell_type": "markdown",
   "metadata": {},
   "source": [
    "### Predicción"
   ]
  },
  {
   "cell_type": "code",
   "execution_count": 54,
   "metadata": {},
   "outputs": [
    {
     "name": "stdout",
     "output_type": "stream",
     "text": [
      "El RMSE del modelo es de 3793\n",
      "El MSE del modelo es de 14384443\n",
      "El MAE del modelo es de 2485\n",
      "El RMSE del modelo es de 3677\n",
      "El MSE del modelo es de 13519470\n",
      "El MAE del modelo es de 2425\n"
     ]
    }
   ],
   "source": [
    "np.random.seed(123)\n",
    "\n",
    "# Implementación y ajuste del modelo de regresión de Random Forest calibrado con los datos de entrenamiento\n",
    "regXGB1 = XGBRegressor(learning_rate = 0.54, gamma = 390, colsample_bytree = 0.41).fit(XTrain, yTrain)\n",
    "\n",
    "ypredXGB1 = regXGB1.predict(XTest)\n",
    "ypredTrXGB1 = regXGB1.predict(XTrain)\n",
    "\n",
    "calculo_rmse(ypredXGB1,yTest,ypredTrXGB1,yTrain)"
   ]
  },
  {
   "cell_type": "code",
   "execution_count": 55,
   "metadata": {},
   "outputs": [],
   "source": [
    "regXGB11 = XGBRegressor(learning_rate = 0.54, gamma = 390, colsample_bytree = 0.41).fit(XTotal, yTotal)\n",
    "\n",
    "ypredXGB11 = regXGB11.predict(dTe)"
   ]
  },
  {
   "cell_type": "markdown",
   "metadata": {},
   "source": [
    "## XGBoost v2"
   ]
  },
  {
   "cell_type": "markdown",
   "metadata": {
    "jp-MarkdownHeadingCollapsed": true,
    "tags": []
   },
   "source": [
    "### Calibración"
   ]
  },
  {
   "cell_type": "code",
   "execution_count": 45,
   "metadata": {},
   "outputs": [],
   "source": [
    "np.random.seed(123)\n",
    "eta_range = np.arange(0.01, 0.7, 0.01)\n",
    "lr_range = np.arange(0.01, 0.7, 0.01)\n",
    "gamma_range = range(1, 400, 20)\n",
    "colsample_bytree_range = np.arange(0.05, 0.5, 0.02)\n",
    "max_depth_range = range(1,20,1)\n",
    "estimator_range = range(100, 500, 20)\n",
    "rmse_scoresXGB2=[]\n",
    "parametrosXGB2=[]"
   ]
  },
  {
   "cell_type": "code",
   "execution_count": 30,
   "metadata": {},
   "outputs": [],
   "source": [
    "for eta in eta_range:\n",
    "    reg = XGBRegressor(eta = eta, n_jobs=-1)\n",
    "    scores = cross_val_score(reg, XTrain, yTrain, cv = 5, scoring = 'neg_mean_squared_error', n_jobs=-1)\n",
    "    rmse_scoresXGB2.append(np.mean(np.sqrt(np.abs(scores))))\n",
    "    parametrosXGB2.append((eta,0,1,6))"
   ]
  },
  {
   "cell_type": "code",
   "execution_count": 46,
   "metadata": {
    "collapsed": true,
    "jupyter": {
     "outputs_hidden": true
    },
    "tags": []
   },
   "outputs": [
    {
     "ename": "KeyboardInterrupt",
     "evalue": "",
     "output_type": "error",
     "traceback": [
      "\u001b[1;31m---------------------------------------------------------------------------\u001b[0m",
      "\u001b[1;31mKeyboardInterrupt\u001b[0m                         Traceback (most recent call last)",
      "\u001b[1;32m~\\AppData\\Local\\Temp/ipykernel_3788/3123918266.py\u001b[0m in \u001b[0;36m<module>\u001b[1;34m\u001b[0m\n\u001b[0;32m      5\u001b[0m \u001b[1;32mfor\u001b[0m \u001b[0mlr\u001b[0m \u001b[1;32min\u001b[0m \u001b[0mlr_range\u001b[0m\u001b[1;33m:\u001b[0m\u001b[1;33m\u001b[0m\u001b[1;33m\u001b[0m\u001b[0m\n\u001b[0;32m      6\u001b[0m     \u001b[0mreg\u001b[0m \u001b[1;33m=\u001b[0m \u001b[0mXGBRegressor\u001b[0m\u001b[1;33m(\u001b[0m\u001b[0mlearning_rate\u001b[0m \u001b[1;33m=\u001b[0m \u001b[0mlr\u001b[0m\u001b[1;33m,\u001b[0m \u001b[0mgamma\u001b[0m \u001b[1;33m=\u001b[0m \u001b[0mgamma\u001b[0m\u001b[1;33m,\u001b[0m \u001b[0mcolsample_bytree\u001b[0m \u001b[1;33m=\u001b[0m \u001b[0mcolsample_bytree\u001b[0m\u001b[1;33m,\u001b[0m \u001b[0mmax_depth\u001b[0m \u001b[1;33m=\u001b[0m \u001b[0mmax_depth\u001b[0m\u001b[1;33m,\u001b[0m \u001b[0mn_estimators\u001b[0m \u001b[1;33m=\u001b[0m \u001b[0mn_estimators\u001b[0m\u001b[1;33m,\u001b[0m\u001b[0mn_jobs\u001b[0m\u001b[1;33m=\u001b[0m\u001b[1;33m-\u001b[0m\u001b[1;36m1\u001b[0m\u001b[1;33m)\u001b[0m\u001b[1;33m\u001b[0m\u001b[1;33m\u001b[0m\u001b[0m\n\u001b[1;32m----> 7\u001b[1;33m     \u001b[0mscores\u001b[0m \u001b[1;33m=\u001b[0m \u001b[0mcross_val_score\u001b[0m\u001b[1;33m(\u001b[0m\u001b[0mreg\u001b[0m\u001b[1;33m,\u001b[0m \u001b[0mXTrain\u001b[0m\u001b[1;33m,\u001b[0m \u001b[0myTrain\u001b[0m\u001b[1;33m,\u001b[0m \u001b[0mcv\u001b[0m \u001b[1;33m=\u001b[0m \u001b[1;36m5\u001b[0m\u001b[1;33m,\u001b[0m \u001b[0mscoring\u001b[0m \u001b[1;33m=\u001b[0m \u001b[1;34m'neg_mean_squared_error'\u001b[0m\u001b[1;33m,\u001b[0m \u001b[0mn_jobs\u001b[0m\u001b[1;33m=\u001b[0m\u001b[1;33m-\u001b[0m\u001b[1;36m1\u001b[0m\u001b[1;33m)\u001b[0m\u001b[1;33m\u001b[0m\u001b[1;33m\u001b[0m\u001b[0m\n\u001b[0m\u001b[0;32m      8\u001b[0m     \u001b[0mrmse_scoresXGB2\u001b[0m\u001b[1;33m.\u001b[0m\u001b[0mappend\u001b[0m\u001b[1;33m(\u001b[0m\u001b[0mnp\u001b[0m\u001b[1;33m.\u001b[0m\u001b[0mmean\u001b[0m\u001b[1;33m(\u001b[0m\u001b[0mnp\u001b[0m\u001b[1;33m.\u001b[0m\u001b[0msqrt\u001b[0m\u001b[1;33m(\u001b[0m\u001b[0mnp\u001b[0m\u001b[1;33m.\u001b[0m\u001b[0mabs\u001b[0m\u001b[1;33m(\u001b[0m\u001b[0mscores\u001b[0m\u001b[1;33m)\u001b[0m\u001b[1;33m)\u001b[0m\u001b[1;33m)\u001b[0m\u001b[1;33m)\u001b[0m\u001b[1;33m\u001b[0m\u001b[1;33m\u001b[0m\u001b[0m\n\u001b[0;32m      9\u001b[0m     \u001b[0mparametrosXGB2\u001b[0m\u001b[1;33m.\u001b[0m\u001b[0mappend\u001b[0m\u001b[1;33m(\u001b[0m\u001b[1;33m(\u001b[0m\u001b[0mlr\u001b[0m\u001b[1;33m,\u001b[0m\u001b[0mgamma\u001b[0m\u001b[1;33m,\u001b[0m\u001b[0mcolsample_bytree\u001b[0m\u001b[1;33m,\u001b[0m\u001b[0mmax_depth\u001b[0m\u001b[1;33m,\u001b[0m\u001b[0mn_estimators\u001b[0m\u001b[1;33m)\u001b[0m\u001b[1;33m)\u001b[0m\u001b[1;33m\u001b[0m\u001b[1;33m\u001b[0m\u001b[0m\n",
      "\u001b[1;32mC:\\ProgramData\\Anaconda3\\lib\\site-packages\\sklearn\\utils\\validation.py\u001b[0m in \u001b[0;36minner_f\u001b[1;34m(*args, **kwargs)\u001b[0m\n\u001b[0;32m     61\u001b[0m             \u001b[0mextra_args\u001b[0m \u001b[1;33m=\u001b[0m \u001b[0mlen\u001b[0m\u001b[1;33m(\u001b[0m\u001b[0margs\u001b[0m\u001b[1;33m)\u001b[0m \u001b[1;33m-\u001b[0m \u001b[0mlen\u001b[0m\u001b[1;33m(\u001b[0m\u001b[0mall_args\u001b[0m\u001b[1;33m)\u001b[0m\u001b[1;33m\u001b[0m\u001b[1;33m\u001b[0m\u001b[0m\n\u001b[0;32m     62\u001b[0m             \u001b[1;32mif\u001b[0m \u001b[0mextra_args\u001b[0m \u001b[1;33m<=\u001b[0m \u001b[1;36m0\u001b[0m\u001b[1;33m:\u001b[0m\u001b[1;33m\u001b[0m\u001b[1;33m\u001b[0m\u001b[0m\n\u001b[1;32m---> 63\u001b[1;33m                 \u001b[1;32mreturn\u001b[0m \u001b[0mf\u001b[0m\u001b[1;33m(\u001b[0m\u001b[1;33m*\u001b[0m\u001b[0margs\u001b[0m\u001b[1;33m,\u001b[0m \u001b[1;33m**\u001b[0m\u001b[0mkwargs\u001b[0m\u001b[1;33m)\u001b[0m\u001b[1;33m\u001b[0m\u001b[1;33m\u001b[0m\u001b[0m\n\u001b[0m\u001b[0;32m     64\u001b[0m \u001b[1;33m\u001b[0m\u001b[0m\n\u001b[0;32m     65\u001b[0m             \u001b[1;31m# extra_args > 0\u001b[0m\u001b[1;33m\u001b[0m\u001b[1;33m\u001b[0m\u001b[0m\n",
      "\u001b[1;32mC:\\ProgramData\\Anaconda3\\lib\\site-packages\\sklearn\\model_selection\\_validation.py\u001b[0m in \u001b[0;36mcross_val_score\u001b[1;34m(estimator, X, y, groups, scoring, cv, n_jobs, verbose, fit_params, pre_dispatch, error_score)\u001b[0m\n\u001b[0;32m    443\u001b[0m     \u001b[0mscorer\u001b[0m \u001b[1;33m=\u001b[0m \u001b[0mcheck_scoring\u001b[0m\u001b[1;33m(\u001b[0m\u001b[0mestimator\u001b[0m\u001b[1;33m,\u001b[0m \u001b[0mscoring\u001b[0m\u001b[1;33m=\u001b[0m\u001b[0mscoring\u001b[0m\u001b[1;33m)\u001b[0m\u001b[1;33m\u001b[0m\u001b[1;33m\u001b[0m\u001b[0m\n\u001b[0;32m    444\u001b[0m \u001b[1;33m\u001b[0m\u001b[0m\n\u001b[1;32m--> 445\u001b[1;33m     cv_results = cross_validate(estimator=estimator, X=X, y=y, groups=groups,\n\u001b[0m\u001b[0;32m    446\u001b[0m                                 \u001b[0mscoring\u001b[0m\u001b[1;33m=\u001b[0m\u001b[1;33m{\u001b[0m\u001b[1;34m'score'\u001b[0m\u001b[1;33m:\u001b[0m \u001b[0mscorer\u001b[0m\u001b[1;33m}\u001b[0m\u001b[1;33m,\u001b[0m \u001b[0mcv\u001b[0m\u001b[1;33m=\u001b[0m\u001b[0mcv\u001b[0m\u001b[1;33m,\u001b[0m\u001b[1;33m\u001b[0m\u001b[1;33m\u001b[0m\u001b[0m\n\u001b[0;32m    447\u001b[0m                                 \u001b[0mn_jobs\u001b[0m\u001b[1;33m=\u001b[0m\u001b[0mn_jobs\u001b[0m\u001b[1;33m,\u001b[0m \u001b[0mverbose\u001b[0m\u001b[1;33m=\u001b[0m\u001b[0mverbose\u001b[0m\u001b[1;33m,\u001b[0m\u001b[1;33m\u001b[0m\u001b[1;33m\u001b[0m\u001b[0m\n",
      "\u001b[1;32mC:\\ProgramData\\Anaconda3\\lib\\site-packages\\sklearn\\utils\\validation.py\u001b[0m in \u001b[0;36minner_f\u001b[1;34m(*args, **kwargs)\u001b[0m\n\u001b[0;32m     61\u001b[0m             \u001b[0mextra_args\u001b[0m \u001b[1;33m=\u001b[0m \u001b[0mlen\u001b[0m\u001b[1;33m(\u001b[0m\u001b[0margs\u001b[0m\u001b[1;33m)\u001b[0m \u001b[1;33m-\u001b[0m \u001b[0mlen\u001b[0m\u001b[1;33m(\u001b[0m\u001b[0mall_args\u001b[0m\u001b[1;33m)\u001b[0m\u001b[1;33m\u001b[0m\u001b[1;33m\u001b[0m\u001b[0m\n\u001b[0;32m     62\u001b[0m             \u001b[1;32mif\u001b[0m \u001b[0mextra_args\u001b[0m \u001b[1;33m<=\u001b[0m \u001b[1;36m0\u001b[0m\u001b[1;33m:\u001b[0m\u001b[1;33m\u001b[0m\u001b[1;33m\u001b[0m\u001b[0m\n\u001b[1;32m---> 63\u001b[1;33m                 \u001b[1;32mreturn\u001b[0m \u001b[0mf\u001b[0m\u001b[1;33m(\u001b[0m\u001b[1;33m*\u001b[0m\u001b[0margs\u001b[0m\u001b[1;33m,\u001b[0m \u001b[1;33m**\u001b[0m\u001b[0mkwargs\u001b[0m\u001b[1;33m)\u001b[0m\u001b[1;33m\u001b[0m\u001b[1;33m\u001b[0m\u001b[0m\n\u001b[0m\u001b[0;32m     64\u001b[0m \u001b[1;33m\u001b[0m\u001b[0m\n\u001b[0;32m     65\u001b[0m             \u001b[1;31m# extra_args > 0\u001b[0m\u001b[1;33m\u001b[0m\u001b[1;33m\u001b[0m\u001b[0m\n",
      "\u001b[1;32mC:\\ProgramData\\Anaconda3\\lib\\site-packages\\sklearn\\model_selection\\_validation.py\u001b[0m in \u001b[0;36mcross_validate\u001b[1;34m(estimator, X, y, groups, scoring, cv, n_jobs, verbose, fit_params, pre_dispatch, return_train_score, return_estimator, error_score)\u001b[0m\n\u001b[0;32m    248\u001b[0m     parallel = Parallel(n_jobs=n_jobs, verbose=verbose,\n\u001b[0;32m    249\u001b[0m                         pre_dispatch=pre_dispatch)\n\u001b[1;32m--> 250\u001b[1;33m     results = parallel(\n\u001b[0m\u001b[0;32m    251\u001b[0m         delayed(_fit_and_score)(\n\u001b[0;32m    252\u001b[0m             \u001b[0mclone\u001b[0m\u001b[1;33m(\u001b[0m\u001b[0mestimator\u001b[0m\u001b[1;33m)\u001b[0m\u001b[1;33m,\u001b[0m \u001b[0mX\u001b[0m\u001b[1;33m,\u001b[0m \u001b[0my\u001b[0m\u001b[1;33m,\u001b[0m \u001b[0mscorers\u001b[0m\u001b[1;33m,\u001b[0m \u001b[0mtrain\u001b[0m\u001b[1;33m,\u001b[0m \u001b[0mtest\u001b[0m\u001b[1;33m,\u001b[0m \u001b[0mverbose\u001b[0m\u001b[1;33m,\u001b[0m \u001b[1;32mNone\u001b[0m\u001b[1;33m,\u001b[0m\u001b[1;33m\u001b[0m\u001b[1;33m\u001b[0m\u001b[0m\n",
      "\u001b[1;32mC:\\ProgramData\\Anaconda3\\lib\\site-packages\\joblib\\parallel.py\u001b[0m in \u001b[0;36m__call__\u001b[1;34m(self, iterable)\u001b[0m\n\u001b[0;32m   1054\u001b[0m \u001b[1;33m\u001b[0m\u001b[0m\n\u001b[0;32m   1055\u001b[0m             \u001b[1;32mwith\u001b[0m \u001b[0mself\u001b[0m\u001b[1;33m.\u001b[0m\u001b[0m_backend\u001b[0m\u001b[1;33m.\u001b[0m\u001b[0mretrieval_context\u001b[0m\u001b[1;33m(\u001b[0m\u001b[1;33m)\u001b[0m\u001b[1;33m:\u001b[0m\u001b[1;33m\u001b[0m\u001b[1;33m\u001b[0m\u001b[0m\n\u001b[1;32m-> 1056\u001b[1;33m                 \u001b[0mself\u001b[0m\u001b[1;33m.\u001b[0m\u001b[0mretrieve\u001b[0m\u001b[1;33m(\u001b[0m\u001b[1;33m)\u001b[0m\u001b[1;33m\u001b[0m\u001b[1;33m\u001b[0m\u001b[0m\n\u001b[0m\u001b[0;32m   1057\u001b[0m             \u001b[1;31m# Make sure that we get a last message telling us we are done\u001b[0m\u001b[1;33m\u001b[0m\u001b[1;33m\u001b[0m\u001b[0m\n\u001b[0;32m   1058\u001b[0m             \u001b[0melapsed_time\u001b[0m \u001b[1;33m=\u001b[0m \u001b[0mtime\u001b[0m\u001b[1;33m.\u001b[0m\u001b[0mtime\u001b[0m\u001b[1;33m(\u001b[0m\u001b[1;33m)\u001b[0m \u001b[1;33m-\u001b[0m \u001b[0mself\u001b[0m\u001b[1;33m.\u001b[0m\u001b[0m_start_time\u001b[0m\u001b[1;33m\u001b[0m\u001b[1;33m\u001b[0m\u001b[0m\n",
      "\u001b[1;32mC:\\ProgramData\\Anaconda3\\lib\\site-packages\\joblib\\parallel.py\u001b[0m in \u001b[0;36mretrieve\u001b[1;34m(self)\u001b[0m\n\u001b[0;32m    933\u001b[0m             \u001b[1;32mtry\u001b[0m\u001b[1;33m:\u001b[0m\u001b[1;33m\u001b[0m\u001b[1;33m\u001b[0m\u001b[0m\n\u001b[0;32m    934\u001b[0m                 \u001b[1;32mif\u001b[0m \u001b[0mgetattr\u001b[0m\u001b[1;33m(\u001b[0m\u001b[0mself\u001b[0m\u001b[1;33m.\u001b[0m\u001b[0m_backend\u001b[0m\u001b[1;33m,\u001b[0m \u001b[1;34m'supports_timeout'\u001b[0m\u001b[1;33m,\u001b[0m \u001b[1;32mFalse\u001b[0m\u001b[1;33m)\u001b[0m\u001b[1;33m:\u001b[0m\u001b[1;33m\u001b[0m\u001b[1;33m\u001b[0m\u001b[0m\n\u001b[1;32m--> 935\u001b[1;33m                     \u001b[0mself\u001b[0m\u001b[1;33m.\u001b[0m\u001b[0m_output\u001b[0m\u001b[1;33m.\u001b[0m\u001b[0mextend\u001b[0m\u001b[1;33m(\u001b[0m\u001b[0mjob\u001b[0m\u001b[1;33m.\u001b[0m\u001b[0mget\u001b[0m\u001b[1;33m(\u001b[0m\u001b[0mtimeout\u001b[0m\u001b[1;33m=\u001b[0m\u001b[0mself\u001b[0m\u001b[1;33m.\u001b[0m\u001b[0mtimeout\u001b[0m\u001b[1;33m)\u001b[0m\u001b[1;33m)\u001b[0m\u001b[1;33m\u001b[0m\u001b[1;33m\u001b[0m\u001b[0m\n\u001b[0m\u001b[0;32m    936\u001b[0m                 \u001b[1;32melse\u001b[0m\u001b[1;33m:\u001b[0m\u001b[1;33m\u001b[0m\u001b[1;33m\u001b[0m\u001b[0m\n\u001b[0;32m    937\u001b[0m                     \u001b[0mself\u001b[0m\u001b[1;33m.\u001b[0m\u001b[0m_output\u001b[0m\u001b[1;33m.\u001b[0m\u001b[0mextend\u001b[0m\u001b[1;33m(\u001b[0m\u001b[0mjob\u001b[0m\u001b[1;33m.\u001b[0m\u001b[0mget\u001b[0m\u001b[1;33m(\u001b[0m\u001b[1;33m)\u001b[0m\u001b[1;33m)\u001b[0m\u001b[1;33m\u001b[0m\u001b[1;33m\u001b[0m\u001b[0m\n",
      "\u001b[1;32mC:\\ProgramData\\Anaconda3\\lib\\site-packages\\joblib\\_parallel_backends.py\u001b[0m in \u001b[0;36mwrap_future_result\u001b[1;34m(future, timeout)\u001b[0m\n\u001b[0;32m    540\u001b[0m         AsyncResults.get from multiprocessing.\"\"\"\n\u001b[0;32m    541\u001b[0m         \u001b[1;32mtry\u001b[0m\u001b[1;33m:\u001b[0m\u001b[1;33m\u001b[0m\u001b[1;33m\u001b[0m\u001b[0m\n\u001b[1;32m--> 542\u001b[1;33m             \u001b[1;32mreturn\u001b[0m \u001b[0mfuture\u001b[0m\u001b[1;33m.\u001b[0m\u001b[0mresult\u001b[0m\u001b[1;33m(\u001b[0m\u001b[0mtimeout\u001b[0m\u001b[1;33m=\u001b[0m\u001b[0mtimeout\u001b[0m\u001b[1;33m)\u001b[0m\u001b[1;33m\u001b[0m\u001b[1;33m\u001b[0m\u001b[0m\n\u001b[0m\u001b[0;32m    543\u001b[0m         \u001b[1;32mexcept\u001b[0m \u001b[0mCfTimeoutError\u001b[0m \u001b[1;32mas\u001b[0m \u001b[0me\u001b[0m\u001b[1;33m:\u001b[0m\u001b[1;33m\u001b[0m\u001b[1;33m\u001b[0m\u001b[0m\n\u001b[0;32m    544\u001b[0m             \u001b[1;32mraise\u001b[0m \u001b[0mTimeoutError\u001b[0m \u001b[1;32mfrom\u001b[0m \u001b[0me\u001b[0m\u001b[1;33m\u001b[0m\u001b[1;33m\u001b[0m\u001b[0m\n",
      "\u001b[1;32mC:\\ProgramData\\Anaconda3\\lib\\concurrent\\futures\\_base.py\u001b[0m in \u001b[0;36mresult\u001b[1;34m(self, timeout)\u001b[0m\n\u001b[0;32m    438\u001b[0m                     \u001b[1;32mreturn\u001b[0m \u001b[0mself\u001b[0m\u001b[1;33m.\u001b[0m\u001b[0m__get_result\u001b[0m\u001b[1;33m(\u001b[0m\u001b[1;33m)\u001b[0m\u001b[1;33m\u001b[0m\u001b[1;33m\u001b[0m\u001b[0m\n\u001b[0;32m    439\u001b[0m \u001b[1;33m\u001b[0m\u001b[0m\n\u001b[1;32m--> 440\u001b[1;33m                 \u001b[0mself\u001b[0m\u001b[1;33m.\u001b[0m\u001b[0m_condition\u001b[0m\u001b[1;33m.\u001b[0m\u001b[0mwait\u001b[0m\u001b[1;33m(\u001b[0m\u001b[0mtimeout\u001b[0m\u001b[1;33m)\u001b[0m\u001b[1;33m\u001b[0m\u001b[1;33m\u001b[0m\u001b[0m\n\u001b[0m\u001b[0;32m    441\u001b[0m \u001b[1;33m\u001b[0m\u001b[0m\n\u001b[0;32m    442\u001b[0m                 \u001b[1;32mif\u001b[0m \u001b[0mself\u001b[0m\u001b[1;33m.\u001b[0m\u001b[0m_state\u001b[0m \u001b[1;32min\u001b[0m \u001b[1;33m[\u001b[0m\u001b[0mCANCELLED\u001b[0m\u001b[1;33m,\u001b[0m \u001b[0mCANCELLED_AND_NOTIFIED\u001b[0m\u001b[1;33m]\u001b[0m\u001b[1;33m:\u001b[0m\u001b[1;33m\u001b[0m\u001b[1;33m\u001b[0m\u001b[0m\n",
      "\u001b[1;32mC:\\ProgramData\\Anaconda3\\lib\\threading.py\u001b[0m in \u001b[0;36mwait\u001b[1;34m(self, timeout)\u001b[0m\n\u001b[0;32m    310\u001b[0m         \u001b[1;32mtry\u001b[0m\u001b[1;33m:\u001b[0m    \u001b[1;31m# restore state no matter what (e.g., KeyboardInterrupt)\u001b[0m\u001b[1;33m\u001b[0m\u001b[1;33m\u001b[0m\u001b[0m\n\u001b[0;32m    311\u001b[0m             \u001b[1;32mif\u001b[0m \u001b[0mtimeout\u001b[0m \u001b[1;32mis\u001b[0m \u001b[1;32mNone\u001b[0m\u001b[1;33m:\u001b[0m\u001b[1;33m\u001b[0m\u001b[1;33m\u001b[0m\u001b[0m\n\u001b[1;32m--> 312\u001b[1;33m                 \u001b[0mwaiter\u001b[0m\u001b[1;33m.\u001b[0m\u001b[0macquire\u001b[0m\u001b[1;33m(\u001b[0m\u001b[1;33m)\u001b[0m\u001b[1;33m\u001b[0m\u001b[1;33m\u001b[0m\u001b[0m\n\u001b[0m\u001b[0;32m    313\u001b[0m                 \u001b[0mgotit\u001b[0m \u001b[1;33m=\u001b[0m \u001b[1;32mTrue\u001b[0m\u001b[1;33m\u001b[0m\u001b[1;33m\u001b[0m\u001b[0m\n\u001b[0;32m    314\u001b[0m             \u001b[1;32melse\u001b[0m\u001b[1;33m:\u001b[0m\u001b[1;33m\u001b[0m\u001b[1;33m\u001b[0m\u001b[0m\n",
      "\u001b[1;31mKeyboardInterrupt\u001b[0m: "
     ]
    }
   ],
   "source": [
    "gamma = 200\n",
    "colsample_bytree = 0.4\n",
    "max_depth = 9\n",
    "n_estimators = 300\n",
    "for lr in lr_range:\n",
    "    reg = XGBRegressor(learning_rate = lr, gamma = gamma, colsample_bytree = colsample_bytree, max_depth = max_depth, n_estimators = n_estimators,n_jobs=-1)\n",
    "    scores = cross_val_score(reg, XTrain, yTrain, cv = 5, scoring = 'neg_mean_squared_error', n_jobs=-1)\n",
    "    rmse_scoresXGB2.append(np.mean(np.sqrt(np.abs(scores))))\n",
    "    parametrosXGB2.append((lr,gamma,colsample_bytree,max_depth,n_estimators))"
   ]
  },
  {
   "cell_type": "code",
   "execution_count": 178,
   "metadata": {},
   "outputs": [],
   "source": [
    "lr = 0.5\n",
    "colsample_bytree = 0.41\n",
    "max_depth = 2\n",
    "n_estimators = 200\n",
    "for gamma in gamma_range:\n",
    "    reg = XGBRegressor(learning_rate = lr, gamma = gamma, colsample_bytree = colsample_bytree,max_depth = max_depth, n_estimators = n_estimators,n_jobs=-1)\n",
    "    scores = cross_val_score(reg, XTrain, yTrain, cv = 5, scoring = 'neg_mean_squared_error', n_jobs=-1)\n",
    "    rmse_scoresXGB1.append(np.mean(np.sqrt(np.abs(scores))))\n",
    "    parametrosXGB1.append((lr,gamma,colsample_bytree))"
   ]
  },
  {
   "cell_type": "code",
   "execution_count": 179,
   "metadata": {},
   "outputs": [],
   "source": [
    "lr = 0.5\n",
    "gamma = 390\n",
    "max_depth = 2\n",
    "n_estimators = 200\n",
    "for colsample_bytree in colsample_bytree_range:\n",
    "    reg = XGBRegressor(learning_rate = lr, gamma = gamma, colsample_bytree = colsample_bytree,max_depth = max_depth, n_estimators = n_estimators,n_jobs=-1)\n",
    "    scores = cross_val_score(reg, XTrain, yTrain, cv = 5, scoring = 'neg_mean_squared_error', n_jobs=-1)\n",
    "    rmse_scoresXGB1.append(np.mean(np.sqrt(np.abs(scores))))\n",
    "    parametrosXGB1.append((lr,gamma,colsample_bytree))"
   ]
  },
  {
   "cell_type": "code",
   "execution_count": 180,
   "metadata": {},
   "outputs": [],
   "source": [
    "lr = 0.5\n",
    "gamma = 390\n",
    "colsample_bytree = 0.41\n",
    "n_estimators = 200\n",
    "for max_depth in max_depth_range:\n",
    "    reg = XGBRegressor(learning_rate = lr, gamma = gamma, colsample_bytree = colsample_bytree,max_depth = max_depth, n_estimators = n_estimators,n_jobs=-1)\n",
    "    scores = cross_val_score(reg, XTrain, yTrain, cv = 5, scoring = 'neg_mean_squared_error', n_jobs=-1)\n",
    "    rmse_scoresXGB1.append(np.mean(np.sqrt(np.abs(scores))))\n",
    "    parametrosXGB1.append((lr,gamma,colsample_bytree))"
   ]
  },
  {
   "cell_type": "code",
   "execution_count": 181,
   "metadata": {},
   "outputs": [],
   "source": [
    "lr = 0.5\n",
    "gamma = 390\n",
    "colsample_bytree = 0.41\n",
    "max_depth = 2\n",
    "for n_estimators in estimator_range:\n",
    "    reg = XGBRegressor(learning_rate = lr, gamma = gamma, colsample_bytree = colsample_bytree,max_depth = max_depth, n_estimators = n_estimators,n_jobs=-1)\n",
    "    scores = cross_val_score(reg, XTrain, yTrain, cv = 5, scoring = 'neg_mean_squared_error', n_jobs=-1)\n",
    "    rmse_scoresXGB1.append(np.mean(np.sqrt(np.abs(scores))))\n",
    "    parametrosXGB1.append((lr,gamma,colsample_bytree))"
   ]
  },
  {
   "cell_type": "code",
   "execution_count": 47,
   "metadata": {},
   "outputs": [
    {
     "name": "stdout",
     "output_type": "stream",
     "text": [
      "Los parametros optimos del modelo son: \n",
      "Learning rate= 0.16\n",
      "Gamma= 200\n",
      "Colsample tree= 0.4\n",
      "Max depth= 9\n"
     ]
    }
   ],
   "source": [
    "ind_menorRMSE = rmse_scoresXGB2.index(min(rmse_scoresXGB2))\n",
    "print('Los parametros optimos del modelo son: ')\n",
    "print('Learning rate= ' + str(parametrosXGB2[ind_menorRMSE][0]))\n",
    "print('Gamma= ' + str(parametrosXGB2[ind_menorRMSE][1]))\n",
    "print('Colsample tree= ' + str(parametrosXGB2[ind_menorRMSE][2]))\n",
    "print('Max depth= ' + str(parametrosXGB2[ind_menorRMSE][3]))\n",
    "#print('N estimators = ' + str(parametrosXGB2[ind_menorRMSE][4]))"
   ]
  },
  {
   "cell_type": "code",
   "execution_count": 48,
   "metadata": {},
   "outputs": [
    {
     "data": {
      "text/plain": [
       "3527.9970091096643"
      ]
     },
     "execution_count": 48,
     "metadata": {},
     "output_type": "execute_result"
    }
   ],
   "source": [
    "min(rmse_scoresXGB2)"
   ]
  },
  {
   "cell_type": "markdown",
   "metadata": {},
   "source": [
    "### Predicción"
   ]
  },
  {
   "cell_type": "code",
   "execution_count": 56,
   "metadata": {},
   "outputs": [
    {
     "name": "stdout",
     "output_type": "stream",
     "text": [
      "El RMSE del modelo es de 3568\n",
      "El MSE del modelo es de 12731560\n",
      "El MAE del modelo es de 2279\n",
      "El RMSE del modelo es de 3344\n",
      "El MSE del modelo es de 11180093\n",
      "El MAE del modelo es de 2157\n"
     ]
    }
   ],
   "source": [
    "np.random.seed(123)\n",
    "\n",
    "# Implementación y ajuste del modelo de regresión de Random Forest calibrado con los datos de entrenamiento\n",
    "regXGB2 = XGBRegressor(eta = 0.16, gamma = 390, colsample_bytree = 0.41,max_depth = 8, n_estimators = 301, n_jobs=-1).fit(XTrain, yTrain)\n",
    "ypredTrXGB2 = regXGB2.predict(XTrain)\n",
    "ypredXGB2 = regXGB2.predict(XTest)\n",
    "\n",
    "calculo_rmse(ypredXGB2,yTest,ypredTrXGB2,yTrain)"
   ]
  },
  {
   "cell_type": "code",
   "execution_count": 57,
   "metadata": {},
   "outputs": [
    {
     "name": "stdout",
     "output_type": "stream",
     "text": [
      "El RMSE del modelo es de 3528\n",
      "El MSE del modelo es de 12445116\n",
      "El MAE del modelo es de 2229\n",
      "El RMSE del modelo es de 2970\n",
      "El MSE del modelo es de 8818437\n",
      "El MAE del modelo es de 1903\n"
     ]
    }
   ],
   "source": [
    "np.random.seed(123)\n",
    "\n",
    "# Implementación y ajuste del modelo de regresión de Random Forest calibrado con los datos de entrenamiento\n",
    "regXGB2 = XGBRegressor(learning_rate = 0.18, gamma = 390, colsample_bytree = 0.4,max_depth = 9, n_estimators = 1000, n_jobs=-1).fit(XTrain, yTrain)\n",
    "ypredTrXGB2 = regXGB2.predict(XTrain)\n",
    "ypredXGB2 = regXGB2.predict(XTest)\n",
    "\n",
    "calculo_rmse(ypredXGB2,yTest,ypredTrXGB2,yTrain)"
   ]
  },
  {
   "cell_type": "code",
   "execution_count": 58,
   "metadata": {},
   "outputs": [],
   "source": [
    "regXGB21 = XGBRegressor(learning_rate = 0.18, gamma = 390, colsample_bytree = 0.4,max_depth = 9, n_estimators = 1000, n_jobs=-1).fit(XTotal, yTotal)\n",
    "\n",
    "ypredXGB21 = regXGB21.predict(dTe)"
   ]
  },
  {
   "cell_type": "markdown",
   "metadata": {},
   "source": [
    "## XGBoost v3"
   ]
  },
  {
   "cell_type": "markdown",
   "metadata": {
    "jp-MarkdownHeadingCollapsed": true,
    "tags": []
   },
   "source": [
    "### Calibración"
   ]
  },
  {
   "cell_type": "code",
   "execution_count": null,
   "metadata": {},
   "outputs": [],
   "source": [
    "np.random.seed(123)\n",
    "lr_range = np.arange(0.01, 0.7, 0.1)\n",
    "#eta_range = np.arange(0.01, 0.7, 0.01)\n",
    "gamma_range = range(0, 200, 50)\n",
    "colsample_bytree_range = np.arange(0.05, 0.5, 0.1)\n",
    "max_depth_range = range(1,20,1)\n",
    "min_child_weight_range = \n",
    "#max_leaf_nodes\n",
    "#max_delta_step \n",
    "subsample_range = \n",
    "rmse_scoresXGB3=[]\n",
    "parametrosXGB3=[]"
   ]
  },
  {
   "cell_type": "code",
   "execution_count": null,
   "metadata": {},
   "outputs": [],
   "source": [
    "for eta in eta_range:\n",
    "    reg = XGBRegressor(eta = 0.18, gamma = 200, colsample_bytree = 0.4,max_depth = 9, n_estimators = 300, n_jobs=-1,tree_method='gpu_hist')\n",
    "    ypredTr = reg.predict(XTrain)\n",
    "    ypredTe = reg.predict(XTest)\n",
    "    RMSE_Te = round(mse(ypredTe, yTest, squared = False))\n",
    "    RMSE_Tr = round(mse(ypredTr, yTrain, squared = False))\n",
    "    rmse_scoresXGB3.append(RMSE_Te)\n",
    "    parametrosXGB3.append((eta,0,1,6))\n",
    "    print('El RMSE en train es: ' + str(RMSE_Tr) + ' y el RMSE en test es: ' + str(RMSE_Te))\n",
    "    print('Los parametros optimos del modelo son: ')\n",
    "    print('Learning rate= ' + str(parametrosXGB2[ind_menorRMSE][0]))\n",
    "    print('Gamma= ' + str(parametrosXGB2[ind_menorRMSE][1]))\n",
    "    print('Colsample tree= ' + str(parametrosXGB2[ind_menorRMSE][2]))\n",
    "    print('Max depth= ' + str(parametrosXGB2[ind_menorRMSE][3]))\n",
    "    #print('N estimators = ' + str(parametrosXGB2[ind_menorRMSE][4]))"
   ]
  },
  {
   "cell_type": "code",
   "execution_count": null,
   "metadata": {},
   "outputs": [],
   "source": [
    "for lr in lr_range:\n",
    "    reg = XGBRegressor(learning_rate = lr, gamma = gamma, colsample_bytree = colsample_bytree, max_depth = max_depth, n_estimators = n_estimators,n_jobs=-1)\n",
    "    scores = cross_val_score(reg, XTrain, yTrain, cv = 5, scoring = 'neg_mean_squared_error', n_jobs=-1)\n",
    "    rmse_scoresXGB2.append(np.mean(np.sqrt(np.abs(scores))))\n",
    "    parametrosXGB2.append((lr,gamma,colsample_bytree,max_depth,n_estimators))"
   ]
  },
  {
   "cell_type": "code",
   "execution_count": 58,
   "metadata": {},
   "outputs": [
    {
     "name": "stdout",
     "output_type": "stream",
     "text": [
      "Fitting 5 folds for each of 729 candidates, totalling 3645 fits\n",
      "[21:57:17] WARNING: C:\\Users\\dev-admin\\croot2\\xgboost-split_1675461376218\\work\\src\\learner.cc:767: \n",
      "Parameters: { \"lr_rate\" } are not used.\n",
      "\n"
     ]
    },
    {
     "data": {
      "text/plain": [
       "{'colsample_bytree': 0.8,\n",
       " 'gamma': 0,\n",
       " 'lr_rate': 0.01,\n",
       " 'max_depth': 8,\n",
       " 'min_child_weight': 5,\n",
       " 'subsample': 0.8}"
      ]
     },
     "execution_count": 58,
     "metadata": {},
     "output_type": "execute_result"
    }
   ],
   "source": [
    "param_test = {\n",
    "    'lr_rate':[0.01,0.1,0.2],\n",
    "    'gamma':[0,10,50],\n",
    "    'colsample_bytree':[0.2,0.4,0.8],\n",
    "    'max_depth':[3,5,8],\n",
    "    'min_child_weight':[3,5,8],\n",
    "    'subsample':[0.2,0.4,0.8]\n",
    "}\n",
    "gsearch = GridSearchCV(estimator = XGBRegressor(nthread=4,seed=27), \n",
    " param_grid = param_test, scoring='neg_root_mean_squared_error',n_jobs=-1, cv=5, verbose=True)\n",
    "gsearch.fit(XTrain,yTrain)\n",
    "gsearch.best_params_"
   ]
  },
  {
   "cell_type": "code",
   "execution_count": null,
   "metadata": {},
   "outputs": [],
   "source": []
  },
  {
   "cell_type": "code",
   "execution_count": null,
   "metadata": {},
   "outputs": [],
   "source": []
  },
  {
   "cell_type": "code",
   "execution_count": 44,
   "metadata": {},
   "outputs": [
    {
     "data": {
      "text/plain": [
       "GridSearchCV(cv=5,\n",
       "             estimator=XGBRegressor(base_score=None, booster=None,\n",
       "                                    callbacks=None, colsample_bylevel=None,\n",
       "                                    colsample_bynode=None, colsample_bytree=0.8,\n",
       "                                    early_stopping_rounds=None,\n",
       "                                    enable_categorical=False, eval_metric=None,\n",
       "                                    feature_types=None, gamma=0, gpu_id=None,\n",
       "                                    grow_policy=None, importance_type=None,\n",
       "                                    interaction_constraints=None,\n",
       "                                    learning_rate=0.1, max_bin=None,\n",
       "                                    max_cat_threshold=None,\n",
       "                                    max_cat_to_onehot=None, max_delta_step=None,\n",
       "                                    max_depth=5, max_leaves=None,\n",
       "                                    min_child_weight=2, missing=nan,\n",
       "                                    monotone_constraints=None, n_estimators=140,\n",
       "                                    n_jobs=None, nthread=4,\n",
       "                                    num_parallel_tree=None, predictor=None, ...),\n",
       "             n_jobs=-1,\n",
       "             param_grid={'max_depth': [4, 5, 6], 'min_child_weight': [4, 5, 6]},\n",
       "             scoring='neg_root_mean_squared_error')"
      ]
     },
     "execution_count": 44,
     "metadata": {},
     "output_type": "execute_result"
    }
   ],
   "source": [
    "param_test2 = {\n",
    " 'max_depth':[4,5,6],\n",
    " 'min_child_weight':[4,5,6]\n",
    "}\n",
    "gsearch2 = GridSearchCV(estimator = XGBRegressor( learning_rate=0.1, n_estimators=140, max_depth=5,\n",
    " min_child_weight=2, gamma=0, subsample=0.8, colsample_bytree=0.8,\n",
    " nthread=4, scale_pos_weight=1,seed=27), \n",
    " param_grid = param_test2, scoring='neg_root_mean_squared_error',n_jobs=-1, cv=5, verbose=True)\n",
    "gsearch2.fit(XTrain,yTrain)"
   ]
  },
  {
   "cell_type": "code",
   "execution_count": 46,
   "metadata": {},
   "outputs": [
    {
     "data": {
      "text/plain": [
       "XGBRegressor(base_score=None, booster=None, callbacks=None,\n",
       "             colsample_bylevel=None, colsample_bynode=None,\n",
       "             colsample_bytree=0.8, early_stopping_rounds=None,\n",
       "             enable_categorical=False, eval_metric=None, feature_types=None,\n",
       "             gamma=0, gpu_id=None, grow_policy=None, importance_type=None,\n",
       "             interaction_constraints=None, learning_rate=0.1, max_bin=None,\n",
       "             max_cat_threshold=None, max_cat_to_onehot=None,\n",
       "             max_delta_step=None, max_depth=6, max_leaves=None,\n",
       "             min_child_weight=6, missing=nan, monotone_constraints=None,\n",
       "             n_estimators=140, n_jobs=None, nthread=4, num_parallel_tree=None,\n",
       "             predictor=None, ...)"
      ]
     },
     "execution_count": 46,
     "metadata": {},
     "output_type": "execute_result"
    }
   ],
   "source": [
    "gsearch2.best_estimator_"
   ]
  },
  {
   "cell_type": "code",
   "execution_count": 52,
   "metadata": {},
   "outputs": [
    {
     "name": "stdout",
     "output_type": "stream",
     "text": [
      "Fitting 5 folds for each of 4 candidates, totalling 20 fits\n"
     ]
    },
    {
     "data": {
      "text/plain": [
       "XGBRegressor(base_score=None, booster=None, callbacks=None,\n",
       "             colsample_bylevel=None, colsample_bynode=None,\n",
       "             colsample_bytree=0.8, early_stopping_rounds=None,\n",
       "             enable_categorical=False, eval_metric=None, feature_types=None,\n",
       "             gamma=0, gpu_id=None, grow_policy=None, importance_type=None,\n",
       "             interaction_constraints=None, learning_rate=0.1, max_bin=None,\n",
       "             max_cat_threshold=None, max_cat_to_onehot=None,\n",
       "             max_delta_step=None, max_depth=6, max_leaves=None,\n",
       "             min_child_weight=6, missing=nan, monotone_constraints=None,\n",
       "             n_estimators=140, n_jobs=None, nthread=4, num_parallel_tree=None,\n",
       "             predictor=None, ...)"
      ]
     },
     "execution_count": 52,
     "metadata": {},
     "output_type": "execute_result"
    }
   ],
   "source": [
    "param_test3 = {\n",
    " 'gamma':[0,50,100,150]\n",
    "}\n",
    "gsearch3 = GridSearchCV(estimator = XGBRegressor( learning_rate=0.1, n_estimators=140, max_depth=6,\n",
    " min_child_weight=6, gamma=0, subsample=0.8, colsample_bytree=0.8,\n",
    " nthread=4, scale_pos_weight=1,seed=27), \n",
    " param_grid = param_test3, scoring='neg_root_mean_squared_error',n_jobs=-1, cv=5, verbose=True)\n",
    "gsearch3.fit(XTrain,yTrain)\n",
    "gsearch3.best_estimator_"
   ]
  },
  {
   "cell_type": "code",
   "execution_count": 53,
   "metadata": {},
   "outputs": [
    {
     "name": "stdout",
     "output_type": "stream",
     "text": [
      "Fitting 5 folds for each of 16 candidates, totalling 80 fits\n"
     ]
    },
    {
     "data": {
      "text/plain": [
       "XGBRegressor(base_score=None, booster=None, callbacks=None,\n",
       "             colsample_bylevel=None, colsample_bynode=None,\n",
       "             colsample_bytree=0.8, early_stopping_rounds=None,\n",
       "             enable_categorical=False, eval_metric=None, feature_types=None,\n",
       "             gamma=0, gpu_id=None, grow_policy=None, importance_type=None,\n",
       "             interaction_constraints=None, learning_rate=0.1, max_bin=None,\n",
       "             max_cat_threshold=None, max_cat_to_onehot=None,\n",
       "             max_delta_step=None, max_depth=6, max_leaves=None,\n",
       "             min_child_weight=6, missing=nan, monotone_constraints=None,\n",
       "             n_estimators=140, n_jobs=None, nthread=4, num_parallel_tree=None,\n",
       "             predictor=None, ...)"
      ]
     },
     "execution_count": 53,
     "metadata": {},
     "output_type": "execute_result"
    }
   ],
   "source": [
    "param_test4 = {\n",
    " 'subsample':[i/10.0 for i in range(6,10)],\n",
    " 'colsample_bytree':[i/10.0 for i in range(6,10)]\n",
    "}\n",
    "gsearch3 = GridSearchCV(estimator = XGBRegressor( learning_rate=0.1, n_estimators=140, max_depth=6,\n",
    " min_child_weight=6, gamma=0, subsample=0.8, colsample_bytree=0.8,\n",
    " nthread=4, scale_pos_weight=1,seed=27), \n",
    " param_grid = param_test4, scoring='neg_root_mean_squared_error',n_jobs=-1, cv=5, verbose=True)\n",
    "gsearch3.fit(XTrain,yTrain)\n",
    "gsearch3.best_estimator_"
   ]
  },
  {
   "cell_type": "code",
   "execution_count": 54,
   "metadata": {},
   "outputs": [
    {
     "data": {
      "text/plain": [
       "{'colsample_bytree': 0.8, 'subsample': 0.6}"
      ]
     },
     "execution_count": 54,
     "metadata": {},
     "output_type": "execute_result"
    }
   ],
   "source": [
    "gsearch3.best_params_"
   ]
  },
  {
   "cell_type": "code",
   "execution_count": null,
   "metadata": {},
   "outputs": [],
   "source": []
  },
  {
   "cell_type": "markdown",
   "metadata": {
    "tags": []
   },
   "source": [
    "### Predicción"
   ]
  },
  {
   "cell_type": "code",
   "execution_count": 60,
   "metadata": {
    "tags": []
   },
   "outputs": [
    {
     "name": "stdout",
     "output_type": "stream",
     "text": [
      "El RMSE del modelo es de 3514\n",
      "El MSE del modelo es de 12351638\n",
      "El MAE del modelo es de 2237\n",
      "El RMSE del modelo es de 3273\n",
      "El MSE del modelo es de 10713157\n",
      "El MAE del modelo es de 2110\n"
     ]
    }
   ],
   "source": [
    "# Implementación y ajuste del modelo de regresión de Random Forest calibrado con los datos de entrenamiento\n",
    "regXGB3 = XGBRegressor(learning_rate = 0.1, n_estimators=1000, max_depth=6, min_child_weight=6, gamma=0, subsample=0.8, colsample_bytree=0.8, nthread=4, scale_pos_weight=1, reg_alpha= 0.005,seed=27, n_jobs=-1).fit(XTrain, yTrain)\n",
    "ypredTrXGB3 = regXGB3.predict(XTrain)\n",
    "ypredXGB3 = regXGB3.predict(XTest)\n",
    "\n",
    "calculo_rmse(ypredXGB3,yTest,ypredTrXGB3,yTrain)"
   ]
  },
  {
   "cell_type": "code",
   "execution_count": 61,
   "metadata": {},
   "outputs": [],
   "source": [
    "regXGB31 = XGBRegressor(learning_rate = 0.1, n_estimators=1000, max_depth=6, min_child_weight=6, gamma=0, subsample=0.8, colsample_bytree=0.8, nthread=4, scale_pos_weight=1, reg_alpha= 0.005,seed=27, n_jobs=-1).fit(XTotal, yTotal)\n",
    "\n",
    "ypredXGB31 = regXGB31.predict(dTe)"
   ]
  },
  {
   "cell_type": "markdown",
   "metadata": {
    "tags": []
   },
   "source": [
    "## XGBoost v4"
   ]
  },
  {
   "cell_type": "markdown",
   "metadata": {
    "jp-MarkdownHeadingCollapsed": true,
    "tags": []
   },
   "source": [
    "### Calibración"
   ]
  },
  {
   "cell_type": "code",
   "execution_count": 165,
   "metadata": {},
   "outputs": [
    {
     "name": "stdout",
     "output_type": "stream",
     "text": [
      "Fitting 3 folds for each of 2880 candidates, totalling 8640 fits\n"
     ]
    },
    {
     "data": {
      "text/plain": [
       "{'colsample_bytree': 0.6,\n",
       " 'gamma': 0.0,\n",
       " 'learning_rate': 0.15,\n",
       " 'max_depth': 10,\n",
       " 'min_child_weight': 6,\n",
       " 'subsample': 0.9}"
      ]
     },
     "execution_count": 165,
     "metadata": {},
     "output_type": "execute_result"
    }
   ],
   "source": [
    "#n_estimators=1000, scale_pos_weight=1, reg_alpha= 0.005\n",
    "param_test = {\n",
    "    'learning_rate':[0.01,0.05,0.1,0.15],\n",
    "    'gamma':[i/10.0 for i in range(0,5)],\n",
    "    'colsample_bytree':[i/10.0 for i in range(6,10)],\n",
    "    'max_depth':[6,8,10],\n",
    "    'min_child_weight':[4,5,6],\n",
    "    'subsample':[i/10.0 for i in range(6,10)]\n",
    "}\n",
    "gsearch2 = GridSearchCV(estimator = XGBRegressor(n_jobs=-1,seed=8), \n",
    " param_grid = param_test, scoring='neg_root_mean_squared_error',n_jobs=-1, cv=3, verbose=True)\n",
    "gsearch2.fit(XTrain,yTrain)\n",
    "gsearch2.best_params_"
   ]
  },
  {
   "cell_type": "code",
   "execution_count": 166,
   "metadata": {},
   "outputs": [
    {
     "data": {
      "text/plain": [
       "-3520.380126525781"
      ]
     },
     "execution_count": 166,
     "metadata": {},
     "output_type": "execute_result"
    }
   ],
   "source": [
    "gsearch2.best_score_"
   ]
  },
  {
   "cell_type": "code",
   "execution_count": 181,
   "metadata": {},
   "outputs": [
    {
     "name": "stdout",
     "output_type": "stream",
     "text": [
      "Fitting 3 folds for each of 13 candidates, totalling 39 fits\n"
     ]
    },
    {
     "data": {
      "text/plain": [
       "{'n_estimators': 250}"
      ]
     },
     "execution_count": 181,
     "metadata": {},
     "output_type": "execute_result"
    }
   ],
   "source": [
    "#n_estimators=1000, scale_pos_weight=1, reg_alpha= 0.005\n",
    "param_test = {\n",
    "    'n_estimators':[i for i in range(100,750,50)]\n",
    "}\n",
    "gsearch3 = GridSearchCV(estimator = XGBRegressor(learning_rate = 0.15, max_depth=10, min_child_weight=6,gamma=0,\n",
    "                                                 subsample=0.9, colsample_bytree=0.6, nthread=4, scale_pos_weight=1, \n",
    "                                                 reg_alpha= 0.005,seed=27, n_jobs=-1),\n",
    "                        param_grid = param_test, scoring='neg_root_mean_squared_error',n_jobs=-1, cv=3, verbose=True)\n",
    "gsearch3.fit(XTrain,yTrain)\n",
    "gsearch3.best_params_"
   ]
  },
  {
   "cell_type": "code",
   "execution_count": 182,
   "metadata": {},
   "outputs": [
    {
     "data": {
      "text/plain": [
       "-3498.5170006974745"
      ]
     },
     "execution_count": 182,
     "metadata": {},
     "output_type": "execute_result"
    }
   ],
   "source": [
    "gsearch3.best_score_"
   ]
  },
  {
   "cell_type": "markdown",
   "metadata": {},
   "source": [
    "### Predicción"
   ]
  },
  {
   "cell_type": "code",
   "execution_count": 45,
   "metadata": {
    "tags": []
   },
   "outputs": [
    {
     "name": "stdout",
     "output_type": "stream",
     "text": [
      "El RMSE del modelo es de 3493\n",
      "El MSE del modelo es de 12202701\n",
      "El MAE del modelo es de 2202\n",
      "El RMSE del modelo es de 3056\n",
      "El MSE del modelo es de 9339114\n",
      "El MAE del modelo es de 1952\n"
     ]
    }
   ],
   "source": [
    "# Implementación y ajuste del modelo de regresión de Random Forest calibrado con los datos de entrenamiento\n",
    "regXGB4 = XGBRegressor(learning_rate = 0.15, n_estimators=300, max_depth=10, min_child_weight=6, \n",
    "                       gamma=0, subsample=0.9, colsample_bytree=0.6, nthread=4, scale_pos_weight=1, \n",
    "                       reg_alpha= 0.01,seed=27, n_jobs=-1).fit(XTrain, yTrain)\n",
    "ypredTrXGB4 = regXGB4.predict(XTrain)\n",
    "ypredXGB4 = regXGB4.predict(XTest)\n",
    "\n",
    "calculo_rmse(ypredXGB4,yTest,ypredTrXGB4,yTrain)"
   ]
  },
  {
   "cell_type": "code",
   "execution_count": 46,
   "metadata": {},
   "outputs": [],
   "source": [
    "regXGB41 = XGBRegressor(learning_rate = 0.15, n_estimators=300, max_depth=10, min_child_weight=6, \n",
    "                        gamma=0, subsample=0.9, colsample_bytree=0.6, nthread=4, scale_pos_weight=1, \n",
    "                        reg_alpha= 0.01,seed=27, n_jobs=-1).fit(XTotal, yTotal)\n",
    "\n",
    "ypredXGB41 = regXGB41.predict(dTe)"
   ]
  },
  {
   "cell_type": "markdown",
   "metadata": {
    "tags": []
   },
   "source": [
    "## XGBoost v5"
   ]
  },
  {
   "cell_type": "markdown",
   "metadata": {},
   "source": [
    "### Calibración"
   ]
  },
  {
   "cell_type": "code",
   "execution_count": 102,
   "metadata": {},
   "outputs": [
    {
     "name": "stdout",
     "output_type": "stream",
     "text": [
      "Fitting 3 folds for each of 8 candidates, totalling 24 fits\n"
     ]
    },
    {
     "data": {
      "text/plain": [
       "{'learning_rate': 0.11, 'max_depth': 12, 'min_child_weight': 15}"
      ]
     },
     "execution_count": 102,
     "metadata": {},
     "output_type": "execute_result"
    }
   ],
   "source": [
    "#n_estimators=1000, scale_pos_weight=1, reg_alpha= 0.005\n",
    "param_test5 = {\n",
    "    'learning_rate':[0.11, 0.13],\n",
    "    #'n_estimators':[i for i in range(200,500,50)],\n",
    "    #'colsample_bytree':[i/10.0 for i in range(0,6)],\n",
    "    'max_depth':[9,12],\n",
    "    'min_child_weight':[15,16],\n",
    "    #'reg_alpha':[0.1, 1, 100]\n",
    "    #'subsample':[i/10.0 for i in range(6,10)]\n",
    "}\n",
    "gsearch5 = GridSearchCV(estimator = XGBRegressor(learning_rate = 0.13, n_estimators=300, max_depth=10, min_child_weight=13, \n",
    "                       gamma=0, subsample=0.9, colsample_bytree=0.4, nthread=4, scale_pos_weight=1, \n",
    "                       seed=8, n_jobs=-1,reg_alpha= 0.1), \n",
    " param_grid = param_test5, scoring='neg_root_mean_squared_error',n_jobs=-1, cv=3, verbose=True)\n",
    "gsearch5.fit(XTrain,yTrain)\n",
    "gsearch5.best_params_"
   ]
  },
  {
   "cell_type": "code",
   "execution_count": 103,
   "metadata": {},
   "outputs": [
    {
     "data": {
      "text/plain": [
       "-3524.5366250594257"
      ]
     },
     "execution_count": 103,
     "metadata": {},
     "output_type": "execute_result"
    }
   ],
   "source": [
    "gsearch5.best_score_"
   ]
  },
  {
   "cell_type": "markdown",
   "metadata": {},
   "source": [
    "### Predicción"
   ]
  },
  {
   "cell_type": "code",
   "execution_count": 129,
   "metadata": {
    "tags": []
   },
   "outputs": [
    {
     "name": "stdout",
     "output_type": "stream",
     "text": [
      "El RMSE del modelo es de 3510\n",
      "El MSE del modelo es de 12321558\n",
      "El MAE del modelo es de 2222\n",
      "El RMSE del modelo es de 3261\n",
      "El MSE del modelo es de 10632718\n",
      "El MAE del modelo es de 2077\n"
     ]
    }
   ],
   "source": [
    "regXGB5 = XGBRegressor(learning_rate = 0.15, n_estimators=300, max_depth=10, min_child_weight=13, \n",
    "                       gamma=0, subsample=0.9, colsample_bytree=0.4, nthread=4, scale_pos_weight=1, \n",
    "                       seed=8, n_jobs=-1,reg_alpha= 0.1).fit(XTrain, yTrain)\n",
    "ypredTrXGB5 = regXGB5.predict(XTrain)\n",
    "ypredXGB5 = regXGB5.predict(XTest)\n",
    "\n",
    "calculo_rmse(ypredXGB5,yTest,ypredTrXGB5,yTrain)"
   ]
  },
  {
   "cell_type": "code",
   "execution_count": 40,
   "metadata": {},
   "outputs": [],
   "source": [
    "regXGB51 = XGBRegressor(learning_rate = 0.15, n_estimators=350, max_depth=10, min_child_weight=10, \n",
    "                       gamma=0, subsample=0.9, colsample_bytree=0.4, nthread=4, scale_pos_weight=1, \n",
    "                       seed=8, n_jobs=-1,reg_alpha= 0.001).fit(XTotal, yTotal)\n",
    "\n",
    "ypredXGB51 = regXGB51.predict(dTe)"
   ]
  },
  {
   "cell_type": "markdown",
   "metadata": {},
   "source": [
    "# RESULTADOS"
   ]
  },
  {
   "cell_type": "code",
   "execution_count": 134,
   "metadata": {},
   "outputs": [
    {
     "name": "stdout",
     "output_type": "stream",
     "text": [
      "El RMSE del modelo es de 3577\n",
      "El MSE del modelo es de 12792787\n",
      "El MAE del modelo es de 2284\n",
      "El RMSE del modelo es de 3180\n",
      "El MSE del modelo es de 10109426\n",
      "El MAE del modelo es de 2065\n"
     ]
    }
   ],
   "source": [
    "#RF1 Y XGB1\n",
    "ypred_RF1_XGB1 = (ypredRF1 + ypredXGB1)/2\n",
    "ypredTr_RF1_XGB1 = (ypredTrRF1 + ypredTrXGB1)/2\n",
    "\n",
    "calculo_rmse(ypred_RF1_XGB1,yTest,ypredTr_RF1_XGB1,yTrain)"
   ]
  },
  {
   "cell_type": "code",
   "execution_count": 141,
   "metadata": {},
   "outputs": [
    {
     "name": "stdout",
     "output_type": "stream",
     "text": [
      "El RMSE del modelo es de 3492\n",
      "El MSE del modelo es de 12193147\n",
      "El MAE del modelo es de 2195\n",
      "El RMSE del modelo es de 2879\n",
      "El MSE del modelo es de 8286961\n",
      "El MAE del modelo es de 1841\n"
     ]
    }
   ],
   "source": [
    "#RF1 y XGB2\n",
    "ypred_RF1_XGB2 = (ypredRF1 + ypredXGB2)/2\n",
    "ypredTr_RF1_XGB2 = (ypredTrRF1 + ypredTrXGB2)/2\n",
    "\n",
    "calculo_rmse(ypred_RF1_XGB2,yTest,ypredTr_RF1_XGB2,yTrain)"
   ]
  },
  {
   "cell_type": "code",
   "execution_count": 142,
   "metadata": {},
   "outputs": [
    {
     "name": "stdout",
     "output_type": "stream",
     "text": [
      "El RMSE del modelo es de 3479\n",
      "El MSE del modelo es de 12106473\n",
      "El MAE del modelo es de 2186\n",
      "El RMSE del modelo es de 2975\n",
      "El MSE del modelo es de 8853598\n",
      "El MAE del modelo es de 1888\n"
     ]
    }
   ],
   "source": [
    "ypred_RF2_XGB2 = np.round((ypredRF2 + ypredXGB2)/2)\n",
    "ypredTr_RF2_XGB2 = (ypredTrRF2 + ypredTrXGB2)/2\n",
    "\n",
    "calculo_rmse(ypred_RF2_XGB2,yTest,ypredTr_RF2_XGB2,yTrain)"
   ]
  },
  {
   "cell_type": "code",
   "execution_count": 143,
   "metadata": {},
   "outputs": [
    {
     "name": "stdout",
     "output_type": "stream",
     "text": [
      "El RMSE del modelo es de 3488\n",
      "El MSE del modelo es de 12164286\n",
      "El MAE del modelo es de 2198\n",
      "El RMSE del modelo es de 3124\n",
      "El MSE del modelo es de 9758082\n",
      "El MAE del modelo es de 1983\n"
     ]
    }
   ],
   "source": [
    "ypred_RF3_XGB3 = np.round((ypredRF3 + ypredXGB3)/2)\n",
    "ypredTr_RF3_XGB3 = (ypredTrRF3 + ypredTrXGB3)/2\n",
    "\n",
    "calculo_rmse(ypred_RF3_XGB3,yTest,ypredTr_RF3_XGB3,yTrain)"
   ]
  },
  {
   "cell_type": "code",
   "execution_count": 144,
   "metadata": {},
   "outputs": [
    {
     "name": "stdout",
     "output_type": "stream",
     "text": [
      "El RMSE del modelo es de 3487\n",
      "El MSE del modelo es de 12158190\n",
      "El MAE del modelo es de 2196\n",
      "El RMSE del modelo es de 3094\n",
      "El MSE del modelo es de 9571887\n",
      "El MAE del modelo es de 1963\n"
     ]
    }
   ],
   "source": [
    "ypred_RF4_XGB3 = (ypredRF4 + ypredXGB3)/2\n",
    "ypredTr_RF4_XGB3 = (ypredTrRF4 + ypredTrXGB3)/2\n",
    "\n",
    "calculo_rmse(ypred_RF4_XGB3,yTest,ypredTr_RF4_XGB3,yTrain)"
   ]
  },
  {
   "cell_type": "code",
   "execution_count": 145,
   "metadata": {},
   "outputs": [
    {
     "name": "stdout",
     "output_type": "stream",
     "text": [
      "El RMSE del modelo es de 3469\n",
      "El MSE del modelo es de 12035957\n",
      "El MAE del modelo es de 2177\n",
      "El RMSE del modelo es de 3015\n",
      "El MSE del modelo es de 9090435\n",
      "El MAE del modelo es de 1909\n"
     ]
    }
   ],
   "source": [
    "ypred_RF43_XGB32 = (ypredRF4 + ypredRF3 + ypredXGB3 + ypredXGB2)/4\n",
    "ypredTr_RF43_XGB32 = (ypredTrRF4 + ypredTrRF3 + ypredTrXGB3 +ypredTrXGB2)/4\n",
    "\n",
    "calculo_rmse(ypred_RF43_XGB32,yTest,ypredTr_RF43_XGB32,yTrain)"
   ]
  },
  {
   "cell_type": "code",
   "execution_count": 162,
   "metadata": {
    "tags": []
   },
   "outputs": [
    {
     "name": "stdout",
     "output_type": "stream",
     "text": [
      "El RMSE del modelo es de 3462\n",
      "El MSE del modelo es de 11985486\n",
      "El MAE del modelo es de 2172\n",
      "El RMSE del modelo es de 3019\n",
      "El MSE del modelo es de 9115802\n",
      "El MAE del modelo es de 1915\n"
     ]
    }
   ],
   "source": [
    "ypred_RF4_XGB32 = (ypredRF4 + ypredXGB3 + ypredXGB2)/3\n",
    "ypredTr_RF4_XGB32 = (ypredTrRF4 + ypredTrXGB3 + ypredTrXGB2)/3\n",
    "\n",
    "calculo_rmse(ypred_RF4_XGB32,yTest,ypredTr_RF4_XGB32,yTrain)"
   ]
  },
  {
   "cell_type": "code",
   "execution_count": 130,
   "metadata": {},
   "outputs": [
    {
     "name": "stdout",
     "output_type": "stream",
     "text": [
      "El RMSE del modelo es de 3456\n",
      "El MSE del modelo es de 11943491\n",
      "El MAE del modelo es de 2163\n",
      "El RMSE del modelo es de 3075\n",
      "El MSE del modelo es de 9454019\n",
      "El MAE del modelo es de 1956\n"
     ]
    }
   ],
   "source": [
    "ypred_RF4_XGB542 = (ypredRF4 + ypredXGB4 + ypredXGB5 + ypredXGB2)/4\n",
    "ypredTr_RF4_XGB542 = (ypredTrRF4 + ypredTrXGB3 + ypredTrXGB3 + ypredTrXGB2)/4\n",
    "\n",
    "calculo_rmse(ypred_RF4_XGB532,yTest, ypredTr_RF4_XGB532,yTrain)"
   ]
  },
  {
   "cell_type": "code",
   "execution_count": 88,
   "metadata": {},
   "outputs": [
    {
     "data": {
      "text/html": [
       "<div>\n",
       "<style scoped>\n",
       "    .dataframe tbody tr th:only-of-type {\n",
       "        vertical-align: middle;\n",
       "    }\n",
       "\n",
       "    .dataframe tbody tr th {\n",
       "        vertical-align: top;\n",
       "    }\n",
       "\n",
       "    .dataframe thead th {\n",
       "        text-align: right;\n",
       "    }\n",
       "</style>\n",
       "<table border=\"1\" class=\"dataframe\">\n",
       "  <thead>\n",
       "    <tr style=\"text-align: right;\">\n",
       "      <th></th>\n",
       "      <th>Price</th>\n",
       "    </tr>\n",
       "    <tr>\n",
       "      <th>ID</th>\n",
       "      <th></th>\n",
       "    </tr>\n",
       "  </thead>\n",
       "  <tbody>\n",
       "    <tr>\n",
       "      <th>0</th>\n",
       "      <td>20867.870849</td>\n",
       "    </tr>\n",
       "    <tr>\n",
       "      <th>1</th>\n",
       "      <td>37417.461040</td>\n",
       "    </tr>\n",
       "    <tr>\n",
       "      <th>2</th>\n",
       "      <td>23359.083939</td>\n",
       "    </tr>\n",
       "    <tr>\n",
       "      <th>3</th>\n",
       "      <td>8032.666040</td>\n",
       "    </tr>\n",
       "    <tr>\n",
       "      <th>4</th>\n",
       "      <td>30895.383809</td>\n",
       "    </tr>\n",
       "  </tbody>\n",
       "</table>\n",
       "</div>"
      ],
      "text/plain": [
       "           Price\n",
       "ID              \n",
       "0   20867.870849\n",
       "1   37417.461040\n",
       "2   23359.083939\n",
       "3    8032.666040\n",
       "4   30895.383809"
      ]
     },
     "execution_count": 88,
     "metadata": {},
     "output_type": "execute_result"
    }
   ],
   "source": [
    "ypred_RF4_XGB542 = (ypredRF41 + ypredXGB51 + ypredXGB41 + ypredXGB21)/4\n",
    "path='G:/Mi unidad/Cursos/Maestria MIAD/2.2_Machine Learning y Procesamiento de Lenguaje Natural/OAPP_MIAD_ML_NLP_2023/Semana 3/'\n",
    "ypred_RF4_XGB542 = guardar(ypred_RF4_XGB542, path+'RF4_XGB542')\n",
    "ypred_RF4_XGB542.head()"
   ]
  },
  {
   "cell_type": "code",
   "execution_count": 84,
   "metadata": {},
   "outputs": [],
   "source": [
    "#ypredRF4 + ypredXGB3 + ypredXGB3 + ypredXGB2 + yTest"
   ]
  },
  {
   "cell_type": "code",
   "execution_count": 87,
   "metadata": {
    "tags": []
   },
   "outputs": [
    {
     "name": "stdout",
     "output_type": "stream",
     "text": [
      "El RMSE del modelo es de 3478\n",
      "El MSE del modelo es de 12099196\n",
      "El MAE del modelo es de 2184\n",
      "El RMSE del modelo es de 3277\n",
      "El MSE del modelo es de 10738867\n",
      "El MAE del modelo es de 2119\n"
     ]
    }
   ],
   "source": [
    "ypred_XGB41 = (ypredXGB4 + ypredXGB2)/2\n",
    "ypredTr_XGB41 = (ypredTrXGB4 + ypredTrXGB1)/2\n",
    "\n",
    "calculo_rmse(ypred_XGB41,yTest, ypredTr_XGB41,yTrain)"
   ]
  },
  {
   "cell_type": "code",
   "execution_count": 223,
   "metadata": {},
   "outputs": [
    {
     "data": {
      "text/html": [
       "<div>\n",
       "<style scoped>\n",
       "    .dataframe tbody tr th:only-of-type {\n",
       "        vertical-align: middle;\n",
       "    }\n",
       "\n",
       "    .dataframe tbody tr th {\n",
       "        vertical-align: top;\n",
       "    }\n",
       "\n",
       "    .dataframe thead th {\n",
       "        text-align: right;\n",
       "    }\n",
       "</style>\n",
       "<table border=\"1\" class=\"dataframe\">\n",
       "  <thead>\n",
       "    <tr style=\"text-align: right;\">\n",
       "      <th></th>\n",
       "      <th>Price</th>\n",
       "    </tr>\n",
       "    <tr>\n",
       "      <th>ID</th>\n",
       "      <th></th>\n",
       "    </tr>\n",
       "  </thead>\n",
       "  <tbody>\n",
       "    <tr>\n",
       "      <th>0</th>\n",
       "      <td>20839.238281</td>\n",
       "    </tr>\n",
       "    <tr>\n",
       "      <th>1</th>\n",
       "      <td>37156.402344</td>\n",
       "    </tr>\n",
       "    <tr>\n",
       "      <th>2</th>\n",
       "      <td>23236.201172</td>\n",
       "    </tr>\n",
       "    <tr>\n",
       "      <th>3</th>\n",
       "      <td>7316.964844</td>\n",
       "    </tr>\n",
       "    <tr>\n",
       "      <th>4</th>\n",
       "      <td>30853.625000</td>\n",
       "    </tr>\n",
       "  </tbody>\n",
       "</table>\n",
       "</div>"
      ],
      "text/plain": [
       "           Price\n",
       "ID              \n",
       "0   20839.238281\n",
       "1   37156.402344\n",
       "2   23236.201172\n",
       "3    7316.964844\n",
       "4   30853.625000"
      ]
     },
     "execution_count": 223,
     "metadata": {},
     "output_type": "execute_result"
    }
   ],
   "source": [
    "ypred_XGB42 = (ypredXG41 + ypredXGB21)/2\n",
    "ypred_XGB4121 = guardar(ypred_XGB42,'G:/Mi unidad/Cursos/Maestria MIAD/2.2_Machine Learning y Procesamiento de Lenguaje Natural/OAPP_MIAD_ML_NLP_2023/Semana 3/XGB42')\n",
    "ypred_XGB4121.head()"
   ]
  },
  {
   "cell_type": "code",
   "execution_count": 233,
   "metadata": {},
   "outputs": [
    {
     "name": "stdout",
     "output_type": "stream",
     "text": [
      "El RMSE del modelo es de 3478\n",
      "El MSE del modelo es de 12097768\n",
      "El MAE del modelo es de 2182\n",
      "El RMSE del modelo es de 3011\n",
      "El MSE del modelo es de 9067675\n",
      "El MAE del modelo es de 1904\n"
     ]
    }
   ],
   "source": [
    "ypred_RF41 = (ypredRF2 + ypredRF3 + ypredRF4 + ypredXGB4 + ypredXGB2)/5\n",
    "ypredTr_RF41 = (ypredTrRF4 + ypredTrRF3 + ypredTrRF3 + ypredTrXGB4 + ypredTrXGB3 + ypredTrXGB2)/6\n",
    "\n",
    "calculo_rmse(ypred_RF41,yTest, ypredTr_RF41,yTrain)"
   ]
  },
  {
   "cell_type": "code",
   "execution_count": 204,
   "metadata": {},
   "outputs": [
    {
     "name": "stdout",
     "output_type": "stream",
     "text": [
      "El RMSE del modelo es de 3456\n",
      "El MSE del modelo es de 11945219\n",
      "El MAE del modelo es de 2165\n",
      "El RMSE del modelo es de 3016\n",
      "El MSE del modelo es de 9097902\n",
      "El MAE del modelo es de 1913\n"
     ]
    }
   ],
   "source": [
    "ypred_RF4_XGB432 = (ypredRF4 + ypredXGB4 + ypredXGB3 +ypredXGB2)/4\n",
    "ypredTr_RF4_XGB432 = (ypredTrRF4 + ypredTrXGB3 + ypredTrXGB4 + ypredTrXGB2)/4\n",
    "\n",
    "calculo_rmse(ypred_RF4_XGB42,yTest,ypredTr_RF4_XGB42,yTrain)"
   ]
  },
  {
   "cell_type": "code",
   "execution_count": null,
   "metadata": {},
   "outputs": [],
   "source": [
    "ypred_RF431_XGB321 = (ypredRF41 + ypredRF31 + ypredXGB31 + ypredXGB21)/4\n",
    "ypred_RF43_XGB32 = guardar(ypred_RF431_XGB321,'G:/Mi unidad/Cursos/Maestria MIAD/2.2_Machine Learning y Procesamiento de Lenguaje Natural/OAPP_MIAD_ML_NLP_2023/Semana 3/RF43_XGB32')\n",
    "ypred_RF43_XGB32.head()"
   ]
  },
  {
   "cell_type": "code",
   "execution_count": 164,
   "metadata": {},
   "outputs": [
    {
     "data": {
      "text/html": [
       "<div>\n",
       "<style scoped>\n",
       "    .dataframe tbody tr th:only-of-type {\n",
       "        vertical-align: middle;\n",
       "    }\n",
       "\n",
       "    .dataframe tbody tr th {\n",
       "        vertical-align: top;\n",
       "    }\n",
       "\n",
       "    .dataframe thead th {\n",
       "        text-align: right;\n",
       "    }\n",
       "</style>\n",
       "<table border=\"1\" class=\"dataframe\">\n",
       "  <thead>\n",
       "    <tr style=\"text-align: right;\">\n",
       "      <th></th>\n",
       "      <th>Price</th>\n",
       "    </tr>\n",
       "    <tr>\n",
       "      <th>ID</th>\n",
       "      <th></th>\n",
       "    </tr>\n",
       "  </thead>\n",
       "  <tbody>\n",
       "    <tr>\n",
       "      <th>0</th>\n",
       "      <td>21119.148227</td>\n",
       "    </tr>\n",
       "    <tr>\n",
       "      <th>1</th>\n",
       "      <td>37398.584462</td>\n",
       "    </tr>\n",
       "    <tr>\n",
       "      <th>2</th>\n",
       "      <td>23447.156623</td>\n",
       "    </tr>\n",
       "    <tr>\n",
       "      <th>3</th>\n",
       "      <td>8344.806204</td>\n",
       "    </tr>\n",
       "    <tr>\n",
       "      <th>4</th>\n",
       "      <td>31035.763824</td>\n",
       "    </tr>\n",
       "  </tbody>\n",
       "</table>\n",
       "</div>"
      ],
      "text/plain": [
       "           Price\n",
       "ID              \n",
       "0   21119.148227\n",
       "1   37398.584462\n",
       "2   23447.156623\n",
       "3    8344.806204\n",
       "4   31035.763824"
      ]
     },
     "execution_count": 164,
     "metadata": {},
     "output_type": "execute_result"
    }
   ],
   "source": [
    "ypred_RF41_XGB321 = (ypredRF41 + ypredXGB31 + ypredXGB21)/3\n",
    "path='G:/Mi unidad/Cursos/Maestria MIAD/2.2_Machine Learning y Procesamiento de Lenguaje Natural/OAPP_MIAD_ML_NLP_2023/Semana 3/'\n",
    "ypred_RF4_XGB32 = guardar(ypred_RF41_XGB321, path+'RF4_XGB32_2')\n",
    "ypred_RF4_XGB32.head()"
   ]
  },
  {
   "cell_type": "code",
   "execution_count": 198,
   "metadata": {},
   "outputs": [
    {
     "data": {
      "text/html": [
       "<div>\n",
       "<style scoped>\n",
       "    .dataframe tbody tr th:only-of-type {\n",
       "        vertical-align: middle;\n",
       "    }\n",
       "\n",
       "    .dataframe tbody tr th {\n",
       "        vertical-align: top;\n",
       "    }\n",
       "\n",
       "    .dataframe thead th {\n",
       "        text-align: right;\n",
       "    }\n",
       "</style>\n",
       "<table border=\"1\" class=\"dataframe\">\n",
       "  <thead>\n",
       "    <tr style=\"text-align: right;\">\n",
       "      <th></th>\n",
       "      <th>Price</th>\n",
       "    </tr>\n",
       "    <tr>\n",
       "      <th>ID</th>\n",
       "      <th></th>\n",
       "    </tr>\n",
       "  </thead>\n",
       "  <tbody>\n",
       "    <tr>\n",
       "      <th>0</th>\n",
       "      <td>21119.148227</td>\n",
       "    </tr>\n",
       "    <tr>\n",
       "      <th>1</th>\n",
       "      <td>37398.584462</td>\n",
       "    </tr>\n",
       "    <tr>\n",
       "      <th>2</th>\n",
       "      <td>23447.156623</td>\n",
       "    </tr>\n",
       "    <tr>\n",
       "      <th>3</th>\n",
       "      <td>8344.806204</td>\n",
       "    </tr>\n",
       "    <tr>\n",
       "      <th>4</th>\n",
       "      <td>31035.763824</td>\n",
       "    </tr>\n",
       "  </tbody>\n",
       "</table>\n",
       "</div>"
      ],
      "text/plain": [
       "           Price\n",
       "ID              \n",
       "0   21119.148227\n",
       "1   37398.584462\n",
       "2   23447.156623\n",
       "3    8344.806204\n",
       "4   31035.763824"
      ]
     },
     "execution_count": 198,
     "metadata": {},
     "output_type": "execute_result"
    }
   ],
   "source": [
    "ypred_RF41_XGB421 = (ypredRF41 + ypredXGB31 + ypredXGB21)/3\n",
    "path='G:/Mi unidad/Cursos/Maestria MIAD/2.2_Machine Learning y Procesamiento de Lenguaje Natural/OAPP_MIAD_ML_NLP_2023/Semana 3/'\n",
    "ypred_RF4_XGB42 = guardar(ypred_RF41_XGB421, path+'RF4_XGB42')\n",
    "ypred_RF4_XGB42.head()"
   ]
  },
  {
   "cell_type": "code",
   "execution_count": 203,
   "metadata": {},
   "outputs": [
    {
     "data": {
      "text/html": [
       "<div>\n",
       "<style scoped>\n",
       "    .dataframe tbody tr th:only-of-type {\n",
       "        vertical-align: middle;\n",
       "    }\n",
       "\n",
       "    .dataframe tbody tr th {\n",
       "        vertical-align: top;\n",
       "    }\n",
       "\n",
       "    .dataframe thead th {\n",
       "        text-align: right;\n",
       "    }\n",
       "</style>\n",
       "<table border=\"1\" class=\"dataframe\">\n",
       "  <thead>\n",
       "    <tr style=\"text-align: right;\">\n",
       "      <th></th>\n",
       "      <th>Price</th>\n",
       "    </tr>\n",
       "    <tr>\n",
       "      <th>ID</th>\n",
       "      <th></th>\n",
       "    </tr>\n",
       "  </thead>\n",
       "  <tbody>\n",
       "    <tr>\n",
       "      <th>0</th>\n",
       "      <td>21161.218592</td>\n",
       "    </tr>\n",
       "    <tr>\n",
       "      <th>1</th>\n",
       "      <td>37215.431510</td>\n",
       "    </tr>\n",
       "    <tr>\n",
       "      <th>2</th>\n",
       "      <td>23503.154088</td>\n",
       "    </tr>\n",
       "    <tr>\n",
       "      <th>3</th>\n",
       "      <td>8012.423867</td>\n",
       "    </tr>\n",
       "    <tr>\n",
       "      <th>4</th>\n",
       "      <td>30999.955192</td>\n",
       "    </tr>\n",
       "  </tbody>\n",
       "</table>\n",
       "</div>"
      ],
      "text/plain": [
       "           Price\n",
       "ID              \n",
       "0   21161.218592\n",
       "1   37215.431510\n",
       "2   23503.154088\n",
       "3    8012.423867\n",
       "4   30999.955192"
      ]
     },
     "execution_count": 203,
     "metadata": {},
     "output_type": "execute_result"
    }
   ],
   "source": [
    "ypred_RF41_XGB4321 = (ypredRF41 + ypredXGB31 + ypredXGB21 +ypredXGB41)/4\n",
    "path='G:/Mi unidad/Cursos/Maestria MIAD/2.2_Machine Learning y Procesamiento de Lenguaje Natural/OAPP_MIAD_ML_NLP_2023/Semana 3/'\n",
    "ypred_RF4_XGB432 = guardar(ypred_RF41_XGB4321, path+'RF4_XGB432')\n",
    "ypred_RF4_XGB432.head()"
   ]
  },
  {
   "cell_type": "markdown",
   "metadata": {},
   "source": [
    "# GUARDAR MODELO"
   ]
  },
  {
   "cell_type": "code",
   "execution_count": 26,
   "metadata": {},
   "outputs": [
    {
     "data": {
      "text/plain": [
       "array([0.8965286 , 0.89606233, 0.89580933, 0.89216477, 0.89959873,\n",
       "       0.89963653, 0.89657323, 0.89843884, 0.89472917, 0.89643385])"
      ]
     },
     "execution_count": 26,
     "metadata": {},
     "output_type": "execute_result"
    }
   ],
   "source": [
    "# Definición de modelo de clasificación Random Forest\n",
    "regXGB41 = XGBRegressor(learning_rate = 0.15, n_estimators=300, max_depth=10, min_child_weight=6, \n",
    "                        gamma=0, subsample=0.9, colsample_bytree=0.6, nthread=4, scale_pos_weight=1, \n",
    "                        reg_alpha= 0.01,seed=27, n_jobs=-1)\n",
    "cross_val_score(regXGB41, XTotal, yTotal, cv=10)"
   ]
  },
  {
   "cell_type": "code",
   "execution_count": 28,
   "metadata": {},
   "outputs": [
    {
     "data": {
      "text/plain": [
       "XGBRegressor(base_score=None, booster=None, callbacks=None,\n",
       "             colsample_bylevel=None, colsample_bynode=None,\n",
       "             colsample_bytree=0.6, early_stopping_rounds=None,\n",
       "             enable_categorical=False, eval_metric=None, feature_types=None,\n",
       "             gamma=0, gpu_id=None, grow_policy=None, importance_type=None,\n",
       "             interaction_constraints=None, learning_rate=0.15, max_bin=None,\n",
       "             max_cat_threshold=None, max_cat_to_onehot=None,\n",
       "             max_delta_step=None, max_depth=10, max_leaves=None,\n",
       "             min_child_weight=6, missing=nan, monotone_constraints=None,\n",
       "             n_estimators=300, n_jobs=-1, nthread=4, num_parallel_tree=None,\n",
       "             predictor=None, ...)"
      ]
     },
     "execution_count": 28,
     "metadata": {},
     "output_type": "execute_result"
    }
   ],
   "source": [
    "# Entrenamiento del modelo de clasificación Random Forest\n",
    "regXGB41.fit(XTotal, yTotal)"
   ]
  },
  {
   "cell_type": "code",
   "execution_count": 32,
   "metadata": {},
   "outputs": [
    {
     "data": {
      "text/plain": [
       "['precios_regXGB4.pkl']"
      ]
     },
     "execution_count": 32,
     "metadata": {},
     "output_type": "execute_result"
    }
   ],
   "source": [
    "# Exportar modelo a archivo binario .pkl\n",
    "joblib.dump(regXGB41, 'precios_regXGB4.pkl', compress=3)"
   ]
  },
  {
   "cell_type": "code",
   "execution_count": null,
   "metadata": {},
   "outputs": [],
   "source": []
  }
 ],
 "metadata": {
  "kernelspec": {
   "display_name": "Python 3 (ipykernel)",
   "language": "python",
   "name": "python3"
  },
  "language_info": {
   "codemirror_mode": {
    "name": "ipython",
    "version": 3
   },
   "file_extension": ".py",
   "mimetype": "text/x-python",
   "name": "python",
   "nbconvert_exporter": "python",
   "pygments_lexer": "ipython3",
   "version": "3.9.7"
  }
 },
 "nbformat": 4,
 "nbformat_minor": 4
}
