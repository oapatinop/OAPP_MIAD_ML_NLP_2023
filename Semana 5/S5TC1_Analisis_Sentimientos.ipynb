{
 "cells": [
  {
   "cell_type": "markdown",
   "metadata": {},
   "source": [
    "![image info](https://raw.githubusercontent.com/albahnsen/MIAD_ML_and_NLP/main/images/banner_1.png)"
   ]
  },
  {
   "cell_type": "markdown",
   "metadata": {},
   "source": [
    "# Taller: Análisis de sentimientos y técnicas de NLP\n",
    "\n",
    "En este taller podrán poner en práctica sus conocimientos sobre las diferentes técnicas para el procesamiento de lenguaje natural. El taller está constituido por 5 puntos, en los cuales deberan seguir las intrucciones de cada numeral para su desarrollo."
   ]
  },
  {
   "cell_type": "markdown",
   "metadata": {},
   "source": [
    "## Datos predicción sentimientos de viajeros en Twitter\n",
    "\n",
    "En este taller se usará el conjunto de datos de sentimientos sobre distintas aerolíneas de EE.UU. provenientes de Twitter. Cada observación contiene si el sentimiento de los tweets es positivo, neutral o negativo teniendo en cuenta distintas variables como aerolínea y las razones de los sentimientos negativos (como \"retraso en el vuelo\" o \"servicio grosero\"). El objetivo es predecir el sentimiento asociado a cada tweet. Para más detalles pueden visitar el siguiente enlace: [datos](https://www.kaggle.com/crowdflower/twitter-airline-sentiment)."
   ]
  },
  {
   "cell_type": "code",
   "execution_count": 1,
   "metadata": {},
   "outputs": [],
   "source": [
    "import warnings\n",
    "warnings.filterwarnings('ignore')"
   ]
  },
  {
   "cell_type": "code",
   "execution_count": 2,
   "metadata": {},
   "outputs": [],
   "source": [
    "# Importación de librerías\n",
    "import pandas as pd\n",
    "import numpy as np\n",
    "%matplotlib inline\n",
    "import matplotlib.pyplot as plt"
   ]
  },
  {
   "cell_type": "code",
   "execution_count": 3,
   "metadata": {
    "scrolled": true
   },
   "outputs": [
    {
     "data": {
      "text/html": [
       "<div>\n",
       "<style scoped>\n",
       "    .dataframe tbody tr th:only-of-type {\n",
       "        vertical-align: middle;\n",
       "    }\n",
       "\n",
       "    .dataframe tbody tr th {\n",
       "        vertical-align: top;\n",
       "    }\n",
       "\n",
       "    .dataframe thead th {\n",
       "        text-align: right;\n",
       "    }\n",
       "</style>\n",
       "<table border=\"1\" class=\"dataframe\">\n",
       "  <thead>\n",
       "    <tr style=\"text-align: right;\">\n",
       "      <th></th>\n",
       "      <th>airline_sentiment</th>\n",
       "      <th>airline_sentiment_confidence</th>\n",
       "      <th>negativereason</th>\n",
       "      <th>negativereason_confidence</th>\n",
       "      <th>airline</th>\n",
       "      <th>airline_sentiment_gold</th>\n",
       "      <th>name</th>\n",
       "      <th>negativereason_gold</th>\n",
       "      <th>retweet_count</th>\n",
       "      <th>text</th>\n",
       "      <th>tweet_coord</th>\n",
       "      <th>tweet_created</th>\n",
       "      <th>tweet_location</th>\n",
       "      <th>user_timezone</th>\n",
       "    </tr>\n",
       "    <tr>\n",
       "      <th>tweet_id</th>\n",
       "      <th></th>\n",
       "      <th></th>\n",
       "      <th></th>\n",
       "      <th></th>\n",
       "      <th></th>\n",
       "      <th></th>\n",
       "      <th></th>\n",
       "      <th></th>\n",
       "      <th></th>\n",
       "      <th></th>\n",
       "      <th></th>\n",
       "      <th></th>\n",
       "      <th></th>\n",
       "      <th></th>\n",
       "    </tr>\n",
       "  </thead>\n",
       "  <tbody>\n",
       "    <tr>\n",
       "      <th>570306133677760513</th>\n",
       "      <td>neutral</td>\n",
       "      <td>1.0000</td>\n",
       "      <td>NaN</td>\n",
       "      <td>NaN</td>\n",
       "      <td>Virgin America</td>\n",
       "      <td>NaN</td>\n",
       "      <td>cairdin</td>\n",
       "      <td>NaN</td>\n",
       "      <td>0</td>\n",
       "      <td>@VirginAmerica What @dhepburn said.</td>\n",
       "      <td>NaN</td>\n",
       "      <td>2015-02-24 11:35:52 -0800</td>\n",
       "      <td>NaN</td>\n",
       "      <td>Eastern Time (US &amp; Canada)</td>\n",
       "    </tr>\n",
       "    <tr>\n",
       "      <th>570301130888122368</th>\n",
       "      <td>positive</td>\n",
       "      <td>0.3486</td>\n",
       "      <td>NaN</td>\n",
       "      <td>0.0000</td>\n",
       "      <td>Virgin America</td>\n",
       "      <td>NaN</td>\n",
       "      <td>jnardino</td>\n",
       "      <td>NaN</td>\n",
       "      <td>0</td>\n",
       "      <td>@VirginAmerica plus you've added commercials t...</td>\n",
       "      <td>NaN</td>\n",
       "      <td>2015-02-24 11:15:59 -0800</td>\n",
       "      <td>NaN</td>\n",
       "      <td>Pacific Time (US &amp; Canada)</td>\n",
       "    </tr>\n",
       "    <tr>\n",
       "      <th>570301083672813571</th>\n",
       "      <td>neutral</td>\n",
       "      <td>0.6837</td>\n",
       "      <td>NaN</td>\n",
       "      <td>NaN</td>\n",
       "      <td>Virgin America</td>\n",
       "      <td>NaN</td>\n",
       "      <td>yvonnalynn</td>\n",
       "      <td>NaN</td>\n",
       "      <td>0</td>\n",
       "      <td>@VirginAmerica I didn't today... Must mean I n...</td>\n",
       "      <td>NaN</td>\n",
       "      <td>2015-02-24 11:15:48 -0800</td>\n",
       "      <td>Lets Play</td>\n",
       "      <td>Central Time (US &amp; Canada)</td>\n",
       "    </tr>\n",
       "    <tr>\n",
       "      <th>570301031407624196</th>\n",
       "      <td>negative</td>\n",
       "      <td>1.0000</td>\n",
       "      <td>Bad Flight</td>\n",
       "      <td>0.7033</td>\n",
       "      <td>Virgin America</td>\n",
       "      <td>NaN</td>\n",
       "      <td>jnardino</td>\n",
       "      <td>NaN</td>\n",
       "      <td>0</td>\n",
       "      <td>@VirginAmerica it's really aggressive to blast...</td>\n",
       "      <td>NaN</td>\n",
       "      <td>2015-02-24 11:15:36 -0800</td>\n",
       "      <td>NaN</td>\n",
       "      <td>Pacific Time (US &amp; Canada)</td>\n",
       "    </tr>\n",
       "    <tr>\n",
       "      <th>570300817074462722</th>\n",
       "      <td>negative</td>\n",
       "      <td>1.0000</td>\n",
       "      <td>Can't Tell</td>\n",
       "      <td>1.0000</td>\n",
       "      <td>Virgin America</td>\n",
       "      <td>NaN</td>\n",
       "      <td>jnardino</td>\n",
       "      <td>NaN</td>\n",
       "      <td>0</td>\n",
       "      <td>@VirginAmerica and it's a really big bad thing...</td>\n",
       "      <td>NaN</td>\n",
       "      <td>2015-02-24 11:14:45 -0800</td>\n",
       "      <td>NaN</td>\n",
       "      <td>Pacific Time (US &amp; Canada)</td>\n",
       "    </tr>\n",
       "  </tbody>\n",
       "</table>\n",
       "</div>"
      ],
      "text/plain": [
       "                   airline_sentiment  airline_sentiment_confidence  \\\n",
       "tweet_id                                                             \n",
       "570306133677760513           neutral                        1.0000   \n",
       "570301130888122368          positive                        0.3486   \n",
       "570301083672813571           neutral                        0.6837   \n",
       "570301031407624196          negative                        1.0000   \n",
       "570300817074462722          negative                        1.0000   \n",
       "\n",
       "                   negativereason  negativereason_confidence         airline  \\\n",
       "tweet_id                                                                       \n",
       "570306133677760513            NaN                        NaN  Virgin America   \n",
       "570301130888122368            NaN                     0.0000  Virgin America   \n",
       "570301083672813571            NaN                        NaN  Virgin America   \n",
       "570301031407624196     Bad Flight                     0.7033  Virgin America   \n",
       "570300817074462722     Can't Tell                     1.0000  Virgin America   \n",
       "\n",
       "                   airline_sentiment_gold        name negativereason_gold  \\\n",
       "tweet_id                                                                    \n",
       "570306133677760513                    NaN     cairdin                 NaN   \n",
       "570301130888122368                    NaN    jnardino                 NaN   \n",
       "570301083672813571                    NaN  yvonnalynn                 NaN   \n",
       "570301031407624196                    NaN    jnardino                 NaN   \n",
       "570300817074462722                    NaN    jnardino                 NaN   \n",
       "\n",
       "                    retweet_count  \\\n",
       "tweet_id                            \n",
       "570306133677760513              0   \n",
       "570301130888122368              0   \n",
       "570301083672813571              0   \n",
       "570301031407624196              0   \n",
       "570300817074462722              0   \n",
       "\n",
       "                                                                 text  \\\n",
       "tweet_id                                                                \n",
       "570306133677760513                @VirginAmerica What @dhepburn said.   \n",
       "570301130888122368  @VirginAmerica plus you've added commercials t...   \n",
       "570301083672813571  @VirginAmerica I didn't today... Must mean I n...   \n",
       "570301031407624196  @VirginAmerica it's really aggressive to blast...   \n",
       "570300817074462722  @VirginAmerica and it's a really big bad thing...   \n",
       "\n",
       "                   tweet_coord              tweet_created tweet_location  \\\n",
       "tweet_id                                                                   \n",
       "570306133677760513         NaN  2015-02-24 11:35:52 -0800            NaN   \n",
       "570301130888122368         NaN  2015-02-24 11:15:59 -0800            NaN   \n",
       "570301083672813571         NaN  2015-02-24 11:15:48 -0800      Lets Play   \n",
       "570301031407624196         NaN  2015-02-24 11:15:36 -0800            NaN   \n",
       "570300817074462722         NaN  2015-02-24 11:14:45 -0800            NaN   \n",
       "\n",
       "                                 user_timezone  \n",
       "tweet_id                                        \n",
       "570306133677760513  Eastern Time (US & Canada)  \n",
       "570301130888122368  Pacific Time (US & Canada)  \n",
       "570301083672813571  Central Time (US & Canada)  \n",
       "570301031407624196  Pacific Time (US & Canada)  \n",
       "570300817074462722  Pacific Time (US & Canada)  "
      ]
     },
     "execution_count": 3,
     "metadata": {},
     "output_type": "execute_result"
    }
   ],
   "source": [
    "# Lectura de la información de archivo .zip\n",
    "#tweets = pd.read_csv('https://raw.githubusercontent.com/davidzarruk/MIAD_ML_NLP_2023/main/datasets/Tweets.zip', index_col=0)\n",
    "tweets = pd.read_csv('https://raw.githubusercontent.com/albahnsen/MIAD_ML_and_NLP/main/datasets/Tweets.zip', index_col=0)\n",
    "# Visualización dataset\n",
    "tweets.head()"
   ]
  },
  {
   "cell_type": "code",
   "execution_count": 4,
   "metadata": {},
   "outputs": [
    {
     "data": {
      "text/plain": [
       "(14640, 14)"
      ]
     },
     "execution_count": 4,
     "metadata": {},
     "output_type": "execute_result"
    }
   ],
   "source": [
    "# Impresión tamaño del cojunto de datos\n",
    "tweets.shape"
   ]
  },
  {
   "cell_type": "markdown",
   "metadata": {},
   "source": [
    "### Análisis descriptivo"
   ]
  },
  {
   "cell_type": "code",
   "execution_count": 5,
   "metadata": {},
   "outputs": [
    {
     "data": {
      "text/plain": [
       "negative    9178\n",
       "neutral     3099\n",
       "positive    2363\n",
       "Name: airline_sentiment, dtype: int64"
      ]
     },
     "execution_count": 5,
     "metadata": {},
     "output_type": "execute_result"
    }
   ],
   "source": [
    "# Cuenta de tweets por cada sentimiento\n",
    "tweets['airline_sentiment'].value_counts()"
   ]
  },
  {
   "cell_type": "code",
   "execution_count": 6,
   "metadata": {},
   "outputs": [
    {
     "data": {
      "text/plain": [
       "United            3822\n",
       "US Airways        2913\n",
       "American          2759\n",
       "Southwest         2420\n",
       "Delta             2222\n",
       "Virgin America     504\n",
       "Name: airline, dtype: int64"
      ]
     },
     "execution_count": 6,
     "metadata": {},
     "output_type": "execute_result"
    }
   ],
   "source": [
    "# Cuenta de tweets por cada aerolínea\n",
    "tweets['airline'].value_counts()"
   ]
  },
  {
   "cell_type": "code",
   "execution_count": 7,
   "metadata": {},
   "outputs": [
    {
     "data": {
      "text/plain": [
       "<AxesSubplot:title={'center':'Sentiminetos por aerolínea'}, xlabel='airline'>"
      ]
     },
     "execution_count": 7,
     "metadata": {},
     "output_type": "execute_result"
    },
    {
     "data": {
      "image/png": "[encoded data removed]",
      "text/plain": [
       "<Figure size 720x432 with 1 Axes>"
      ]
     },
     "metadata": {
      "needs_background": "light"
     },
     "output_type": "display_data"
    }
   ],
   "source": [
    "# Plot con cuenta de tweets por cada aerolínea y sentimiento\n",
    "pd.crosstab(index = tweets[\"airline\"],columns = tweets[\"airline_sentiment\"]).plot(kind='bar',figsize=(10, 6),alpha=0.5,rot=0,stacked=True,title=\"Sentiminetos por aerolínea\")"
   ]
  },
  {
   "cell_type": "markdown",
   "metadata": {},
   "source": [
    "### Liberias y Variables de interés y predicción"
   ]
  },
  {
   "cell_type": "code",
   "execution_count": 8,
   "metadata": {},
   "outputs": [],
   "source": [
    "from sklearn.model_selection import train_test_split, cross_val_score\n",
    "from sklearn.feature_extraction.text import CountVectorizer, TfidfVectorizer\n",
    "from sklearn.ensemble import RandomForestClassifier\n",
    "from nltk.stem.snowball import SnowballStemmer\n",
    "from nltk.stem import WordNetLemmatizer\n",
    "from sklearn import metrics"
   ]
  },
  {
   "cell_type": "code",
   "execution_count": 9,
   "metadata": {},
   "outputs": [],
   "source": [
    "# Separación de variables predictoras (X) y de variable de interés (y)\n",
    "X = tweets['text']\n",
    "y = tweets['airline_sentiment'].map({'negative':-1,'neutral':0,'positive':1})"
   ]
  },
  {
   "cell_type": "code",
   "execution_count": 10,
   "metadata": {},
   "outputs": [],
   "source": [
    "# Separación de datos en set de entrenamiento y test\n",
    "X_train, X_test, y_train, y_test = train_test_split(X, y, test_size=0.33, random_state=42)"
   ]
  },
  {
   "cell_type": "markdown",
   "metadata": {},
   "source": [
    "### Punto 1 - Uso de CountVectorizer\n",
    "\n",
    "En la celda 1 creen un modelo de random forest con la libreria sklearn que prediga el sentimiento de los tweets usando los set de entrenamiento y test definidos anteriormente. Usen la función **CountVectorizer** y presenten el desempeño del modelo con la métrica del acurracy.\n",
    "\n",
    "Recuerden que el preprocesamiento que se haga sobre los datos de entrenamiento  (*.fit_transform()*) deben ser aplicado al set de test (*.transform()*)."
   ]
  },
  {
   "cell_type": "code",
   "execution_count": 11,
   "metadata": {},
   "outputs": [],
   "source": [
    "# Celda 1\n",
    "vect3 = CountVectorizer(lowercase=True, ngram_range=(1, 1))\n",
    "Xtr_vec_3 = vect3.fit_transform(X_train)\n",
    "Xte_vec_3 = vect3.transform(X_test)\n",
    "clfRF1 = RandomForestClassifier(n_jobs=-1,random_state=8).fit(Xtr_vec_3, y_train)\n",
    "ypredTrRF1 = clfRF1.predict(Xtr_vec_3)\n",
    "ypredRF1 = clfRF1.predict(Xte_vec_3)\n",
    "accuracyCV1 = metrics.accuracy_score(y_test,ypredRF1)\n",
    "accuracyCVTr1 = metrics.accuracy_score(y_train,ypredTrRF1)"
   ]
  },
  {
   "cell_type": "code",
   "execution_count": 12,
   "metadata": {},
   "outputs": [
    {
     "name": "stdout",
     "output_type": "stream",
     "text": [
      "El accuracy con CountVectorizer es:  0.770695\n",
      "El accuracy con CountVectorizer en los datos de train es:  0.997961\n"
     ]
    }
   ],
   "source": [
    "print(f'El accuracy con CountVectorizer es: {accuracyCV1: 2f}')\n",
    "print(f'El accuracy con CountVectorizer en los datos de train es: {accuracyCVTr1: 2f}')"
   ]
  },
  {
   "cell_type": "markdown",
   "metadata": {},
   "source": [
    "### Punto 2 - Eliminación de Stopwords\n",
    "\n",
    "En la celda 2 creen un modelo de random forest con la libreria sklearn que prediga el sentimiento de los tweets usando los set de entrenamiento y test definidos anteriormente. Usen la función CountVectorizer, **eliminen stopwords** y presenten el desempeño del modelo con la métrica del acurracy.\n",
    "\n",
    "Recuerden que el preprocesamiento que se haga sobre los datos de entrenamiento  (*.fit_transform()*) deben ser aplicado al set de test (*.transform()*)."
   ]
  },
  {
   "cell_type": "code",
   "execution_count": 13,
   "metadata": {},
   "outputs": [
    {
     "name": "stdout",
     "output_type": "stream",
     "text": [
      "El accuracy quitando stopwords es:  0.764901\n",
      "El accuracy quitando stopwords en los datos de train es:  0.995820\n"
     ]
    }
   ],
   "source": [
    "# Celda 2\n",
    "vect_NSW = CountVectorizer(stop_words='english')\n",
    "Xtr_vec_stop = vect_NSW.fit_transform(X_train)\n",
    "Xte_vec_stop = vect_NSW.transform(X_test)\n",
    "clfRF2 = RandomForestClassifier(n_jobs=-1,random_state=8).fit(Xtr_vec_stop, y_train)\n",
    "ypredTrRF2 = clfRF2.predict(Xtr_vec_stop)\n",
    "ypredRF2 = clfRF2.predict(Xte_vec_stop)\n",
    "accuracyCV2 = metrics.accuracy_score(y_test,ypredRF2)\n",
    "accuracyCVTr2 = metrics.accuracy_score(y_train,ypredTrRF2)\n",
    "print(f'El accuracy quitando stopwords es: {accuracyCV2: 2f}')\n",
    "print(f'El accuracy quitando stopwords en los datos de train es: {accuracyCVTr2: 2f}')"
   ]
  },
  {
   "cell_type": "markdown",
   "metadata": {},
   "source": [
    "### Punto 3 - Lematización con verbos\n",
    "\n",
    "En la celda 3 creen un modelo de random forest con la libreria sklearn que prediga el sentimiento de los tweets usando los set de entrenamiento y test definidos anteriormente. Usen la función CountVectorizer, **lematizen el texto con verbos** y presenten el desempeño del modelo con la métrica del acurracy.\n",
    "\n",
    "Recuerden que el preprocesamiento que se haga sobre los datos de entrenamiento  (*.fit_transform()*) deben ser aplicado al set de test (*.transform()*)."
   ]
  },
  {
   "cell_type": "code",
   "execution_count": 15,
   "metadata": {},
   "outputs": [
    {
     "name": "stderr",
     "output_type": "stream",
     "text": [
      "[nltk_data] Downloading package wordnet to\n",
      "[nltk_data]     C:\\Users\\User\\AppData\\Roaming\\nltk_data...\n"
     ]
    },
    {
     "data": {
      "text/plain": [
       "True"
      ]
     },
     "execution_count": 15,
     "metadata": {},
     "output_type": "execute_result"
    }
   ],
   "source": [
    "import nltk\n",
    "nltk.download('wordnet')\n",
    "#nltk.download('all')"
   ]
  },
  {
   "cell_type": "code",
   "execution_count": 17,
   "metadata": {},
   "outputs": [
    {
     "name": "stdout",
     "output_type": "stream",
     "text": [
      "El accuracy con lematización es:  0.756209\n",
      "El accuracy con lematización en los datos de train es:  0.998573\n"
     ]
    }
   ],
   "source": [
    "# Celda 3\n",
    "wordnet_lemmatizer = WordNetLemmatizer()\n",
    "def split_into_lemmas(text):\n",
    "    text = text.lower()\n",
    "    words = text.split()\n",
    "    return [wordnet_lemmatizer.lemmatize(word) for word in words]\n",
    "\n",
    "vect_lemas = CountVectorizer(analyzer=split_into_lemmas)\n",
    "\n",
    "Xtr_vec_lemas = vect_lemas.fit_transform(X_train)\n",
    "Xte_vec_lemas = vect_lemas.transform(X_test)\n",
    "clfRF3 = RandomForestClassifier(n_jobs=-1,random_state=8).fit(Xtr_vec_lemas, y_train)\n",
    "ypredTrRF3 = clfRF3.predict(Xtr_vec_lemas)\n",
    "ypredRF3 = clfRF3.predict(Xte_vec_lemas)\n",
    "accuracyCV3 = metrics.accuracy_score(y_test,ypredRF3)\n",
    "accuracyCVTr3 = metrics.accuracy_score(y_train,ypredTrRF3)\n",
    "print(f'El accuracy con lematización es: {accuracyCV3: 2f}')\n",
    "print(f'El accuracy con lematización en los datos de train es: {accuracyCVTr3: 2f}')"
   ]
  },
  {
   "cell_type": "markdown",
   "metadata": {},
   "source": [
    "### Punto 4 - Multiples técnicas\n",
    "\n",
    "En la celda 4 creen un modelo de random forest con la libreria sklearn que prediga el sentimiento de los tweets usando los set de entrenamiento y test definidos anteriormente. Usen la función **CountVectorizer, eliminen stopwords, lematizen el texto con verbos** y presenten el desempeño del modelo con la métrica del acurracy.\n",
    "\n",
    "Recuerden que el preprocesamiento que se haga sobre los datos de entrenamiento  (*.fit_transform()*) deben ser aplicado al set de test (*.transform()*)."
   ]
  },
  {
   "cell_type": "code",
   "execution_count": 18,
   "metadata": {},
   "outputs": [
    {
     "name": "stdout",
     "output_type": "stream",
     "text": [
      "El accuracy con CountVectorizer, quitando stopwords y con lematización es:  0.764901\n",
      "El accuracy con CountVectorizer, quitando stopwords y con lematización en los datos de train es:  0.995820\n"
     ]
    }
   ],
   "source": [
    "# Celda 4\n",
    "vect4 = CountVectorizer(lowercase=True, ngram_range=(1, 1), stop_words='english', analyzer=split_into_lemmas)\n",
    "\n",
    "Xtr_vec_4 = vect_NSW.fit_transform(X_train)\n",
    "Xte_vec_4 = vect_NSW.transform(X_test)\n",
    "clfRF4 = RandomForestClassifier(n_jobs=-1,random_state=8).fit(Xtr_vec_4, y_train)\n",
    "ypredTrRF4 = clfRF4.predict(Xtr_vec_4)\n",
    "ypredRF4 = clfRF4.predict(Xte_vec_4)\n",
    "accuracyCV4 = metrics.accuracy_score(y_test,ypredRF4)\n",
    "accuracyCVTr4 = metrics.accuracy_score(y_train,ypredTrRF4)\n",
    "print(f'El accuracy con CountVectorizer, quitando stopwords y con lematización es: {accuracyCV4: 2f}')\n",
    "print(f'El accuracy con CountVectorizer, quitando stopwords y con lematización en los datos de train es: {accuracyCVTr4: 2f}')"
   ]
  },
  {
   "cell_type": "markdown",
   "metadata": {},
   "source": [
    "### Punto 5 - Comparación y análisis de resultados\n",
    "\n",
    "En la celda 5 comparen los resultados obtenidos de los diferentes modelos (random forest) y comenten las ventajas del mejor modelo y las desventajas del modelo con el menor desempeño."
   ]
  },
  {
   "cell_type": "code",
   "execution_count": 19,
   "metadata": {},
   "outputs": [
    {
     "data": {
      "image/png": "[encoded data removed]",
      "text/plain": [
       "<Figure size 1080x720 with 1 Axes>"
      ]
     },
     "metadata": {
      "needs_background": "light"
     },
     "output_type": "display_data"
    }
   ],
   "source": [
    "# Celda 5\n",
    "accPuntos = pd.DataFrame([accuracyCV1,accuracyCV2,accuracyCV3,accuracyCV4],index=['CountVectorizer','StopWords','Lematización','CV+SW+Lema'],columns=['Accuracy'])\n",
    "ax = accPuntos.plot(kind='bar',figsize=(15, 10),alpha=0.5,rot=0,stacked=True,title=\"Comparación de los accuracy\",xlabel='Modelos',ylabel='Accuracy')\n",
    "for container in ax.containers:\n",
    "    ax.bar_label(container)"
   ]
  },
  {
   "cell_type": "markdown",
   "metadata": {},
   "source": [
    "El mejor modelo es el de toquenización por unigramas con un accuracy de 0.7707, este modelo es rápido de procesar y genera menor cantidad de datos teniendo en cuenta que al dejar por defecto el parametro ngram_range genera unigramas, en terminos los Tweets que son textos cortos puede ser útil que se tengan unigramas mejorando la precisión al tomar las palabras individualmente.\n",
    "\n",
    "Por otro lado, el modelo con el peor desempeño es el de Lematización con un accuracy de 0.7562, esto es posiblemente debido que al buscar las palabras en el lexicón posiblemente por la ortografía y las abreviaciones que se usan en los tweets no encuentra todas las palabras para convertirlas en su respectivo lema. De igual forma, se evidenció el uso de emoticones que tampoco tiene una traducción a un lema dentro del lexicón, lo que hace que genere algunos datos que no son de utilidad para el análisis.\n",
    "\n",
    "Es importante observar que los valores de los accuracy son muy cercanos entre los diferentes modelos, lo que nos da a pensar que estos pueden seguir siendo mejorados con una calibración de los hiperparámetros del Random Forest. Esto también, genera un sobre ajuste como se puede ver en el accuracy con las predicciones en los datos de entrenamiento."
   ]
  },
  {
   "cell_type": "code",
   "execution_count": null,
   "metadata": {},
   "outputs": [],
   "source": []
  }
 ],
 "metadata": {
  "kernelspec": {
   "display_name": "Python 3 (ipykernel)",
   "language": "python",
   "name": "python3"
  },
  "language_info": {
   "codemirror_mode": {
    "name": "ipython",
    "version": 3
   },
   "file_extension": ".py",
   "mimetype": "text/x-python",
   "name": "python",
   "nbconvert_exporter": "python",
   "pygments_lexer": "ipython3",
   "version": "3.9.7"
  }
 },
 "nbformat": 4,
 "nbformat_minor": 2
}
