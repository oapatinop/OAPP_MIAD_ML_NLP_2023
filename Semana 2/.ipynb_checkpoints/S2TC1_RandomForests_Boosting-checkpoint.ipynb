{
 "cells": [
  {
   "cell_type": "markdown",
   "metadata": {},
   "source": [
    "![image info](https://raw.githubusercontent.com/albahnsen/MIAD_ML_and_NLP/main/images/banner_1.png)"
   ]
  },
  {
   "cell_type": "markdown",
   "metadata": {},
   "source": [
    "# Taller: Construcción e implementación de modelos Bagging, Random Forest y XGBoost\n",
    "\n",
    "En este taller podrán poner en práctica sus conocimientos sobre la construcción e implementación de modelos de Bagging, Random Forest y XGBoost. El taller está constituido por 8 puntos, en los cuales deberan seguir las intrucciones de cada numeral para su desarrollo."
   ]
  },
  {
   "cell_type": "markdown",
   "metadata": {},
   "source": [
    "## Datos predicción precio de automóviles\n",
    "\n",
    "En este taller se usará el conjunto de datos de Car Listings de Kaggle donde cada observación representa el precio de un automóvil teniendo en cuenta distintas variables como año, marca, modelo, entre otras. El objetivo es predecir el precio del automóvil. Para más detalles puede visitar el siguiente enlace: [datos](https://www.kaggle.com/jpayne/852k-used-car-listings)."
   ]
  },
  {
   "cell_type": "code",
   "execution_count": 1,
   "metadata": {},
   "outputs": [],
   "source": [
    "import warnings\n",
    "warnings.filterwarnings('ignore')"
   ]
  },
  {
   "cell_type": "code",
   "execution_count": 15,
   "metadata": {
    "scrolled": false
   },
   "outputs": [
    {
     "data": {
      "text/html": [
       "<div>\n",
       "<style scoped>\n",
       "    .dataframe tbody tr th:only-of-type {\n",
       "        vertical-align: middle;\n",
       "    }\n",
       "\n",
       "    .dataframe tbody tr th {\n",
       "        vertical-align: top;\n",
       "    }\n",
       "\n",
       "    .dataframe thead th {\n",
       "        text-align: right;\n",
       "    }\n",
       "</style>\n",
       "<table border=\"1\" class=\"dataframe\">\n",
       "  <thead>\n",
       "    <tr style=\"text-align: right;\">\n",
       "      <th></th>\n",
       "      <th>Price</th>\n",
       "      <th>Year</th>\n",
       "      <th>Mileage</th>\n",
       "      <th>M_Camry</th>\n",
       "      <th>M_Camry4dr</th>\n",
       "      <th>M_CamryBase</th>\n",
       "      <th>M_CamryL</th>\n",
       "      <th>M_CamryLE</th>\n",
       "      <th>M_CamrySE</th>\n",
       "      <th>M_CamryXLE</th>\n",
       "    </tr>\n",
       "  </thead>\n",
       "  <tbody>\n",
       "    <tr>\n",
       "      <th>7</th>\n",
       "      <td>21995</td>\n",
       "      <td>2014</td>\n",
       "      <td>6480</td>\n",
       "      <td>0</td>\n",
       "      <td>0</td>\n",
       "      <td>0</td>\n",
       "      <td>1</td>\n",
       "      <td>0</td>\n",
       "      <td>0</td>\n",
       "      <td>0</td>\n",
       "    </tr>\n",
       "    <tr>\n",
       "      <th>11</th>\n",
       "      <td>13995</td>\n",
       "      <td>2014</td>\n",
       "      <td>39972</td>\n",
       "      <td>0</td>\n",
       "      <td>0</td>\n",
       "      <td>0</td>\n",
       "      <td>0</td>\n",
       "      <td>1</td>\n",
       "      <td>0</td>\n",
       "      <td>0</td>\n",
       "    </tr>\n",
       "    <tr>\n",
       "      <th>167</th>\n",
       "      <td>17941</td>\n",
       "      <td>2016</td>\n",
       "      <td>18989</td>\n",
       "      <td>0</td>\n",
       "      <td>0</td>\n",
       "      <td>0</td>\n",
       "      <td>0</td>\n",
       "      <td>0</td>\n",
       "      <td>1</td>\n",
       "      <td>0</td>\n",
       "    </tr>\n",
       "    <tr>\n",
       "      <th>225</th>\n",
       "      <td>12493</td>\n",
       "      <td>2014</td>\n",
       "      <td>51330</td>\n",
       "      <td>0</td>\n",
       "      <td>0</td>\n",
       "      <td>0</td>\n",
       "      <td>1</td>\n",
       "      <td>0</td>\n",
       "      <td>0</td>\n",
       "      <td>0</td>\n",
       "    </tr>\n",
       "    <tr>\n",
       "      <th>270</th>\n",
       "      <td>7994</td>\n",
       "      <td>2007</td>\n",
       "      <td>116065</td>\n",
       "      <td>0</td>\n",
       "      <td>1</td>\n",
       "      <td>0</td>\n",
       "      <td>0</td>\n",
       "      <td>0</td>\n",
       "      <td>0</td>\n",
       "      <td>0</td>\n",
       "    </tr>\n",
       "  </tbody>\n",
       "</table>\n",
       "</div>"
      ],
      "text/plain": [
       "     Price  Year  Mileage  M_Camry  M_Camry4dr  M_CamryBase  M_CamryL  \\\n",
       "7    21995  2014     6480        0           0            0         1   \n",
       "11   13995  2014    39972        0           0            0         0   \n",
       "167  17941  2016    18989        0           0            0         0   \n",
       "225  12493  2014    51330        0           0            0         1   \n",
       "270   7994  2007   116065        0           1            0         0   \n",
       "\n",
       "     M_CamryLE  M_CamrySE  M_CamryXLE  \n",
       "7            0          0           0  \n",
       "11           1          0           0  \n",
       "167          0          1           0  \n",
       "225          0          0           0  \n",
       "270          0          0           0  "
      ]
     },
     "execution_count": 15,
     "metadata": {},
     "output_type": "execute_result"
    }
   ],
   "source": [
    "# Importación de librerías\n",
    "%matplotlib inline\n",
    "import pandas as pd\n",
    "import numpy as np\n",
    "import matplotlib.pyplot as plt\n",
    "# Lectura de la información de archivo .csv\n",
    "data = pd.read_csv('https://raw.githubusercontent.com/davidzarruk/MIAD_ML_NLP_2023/main/datasets/dataTrain_carListings.zip')\n",
    "\n",
    "# Preprocesamiento de datos para el taller\n",
    "data = data.loc[data['Model'].str.contains('Camry')].drop(['Make', 'State'], axis=1)\n",
    "data = data.join(pd.get_dummies(data['Model'], prefix='M'))\n",
    "data = data.drop(['Model'], axis=1)\n",
    "\n",
    "# Visualización dataset\n",
    "data.head()"
   ]
  },
  {
   "cell_type": "code",
   "execution_count": 3,
   "metadata": {},
   "outputs": [],
   "source": [
    "# Separación de variables predictoras (X) y variable de interés (y)\n",
    "y = data['Price']\n",
    "X = data.drop(['Price'], axis=1)"
   ]
  },
  {
   "cell_type": "code",
   "execution_count": 4,
   "metadata": {},
   "outputs": [],
   "source": [
    "# Separación de datos en set de entrenamiento y test\n",
    "from sklearn.model_selection import train_test_split\n",
    "X_train, X_test, y_train, y_test = train_test_split(X, y, test_size=0.33, random_state=42)"
   ]
  },
  {
   "cell_type": "markdown",
   "metadata": {},
   "source": [
    "### Punto 1 - Árbol de decisión manual\n",
    "\n",
    "En la celda 1 creen un árbol de decisión **manualmente**  que considere los set de entrenamiento y test definidos anteriormente y presenten el RMSE y MAE del modelo en el set de test."
   ]
  },
  {
   "cell_type": "code",
   "execution_count": 5,
   "metadata": {},
   "outputs": [],
   "source": [
    "# Celda 1\n",
    "def best_split(X, y, num_pct=10):\n",
    "    features = range(X.shape[1])\n",
    "    best_split = [0, 0, 0]  # j, split, mse\n",
    "    # Para todas las varibles \n",
    "    for j in features:\n",
    "        splits = np.percentile(X.iloc[:, j], np.arange(0, 100, 100.0 / (num_pct+1)).tolist())\n",
    "        splits = np.unique(splits)[1:]\n",
    "        \n",
    "        # Para cada partición\n",
    "        i=0\n",
    "        for split in splits:\n",
    "            filter_l = X.iloc[:,j] < split\n",
    "            y_l = y.loc[filter_l]\n",
    "            y_r = y.loc[~filter_l]\n",
    "            mse = np.average(np.square(y_l.mean()-y))\n",
    "            if i==0:\n",
    "                best_split = [j, split, mse]\n",
    "            elif (mse < best_split[2]):\n",
    "                best_split = [j, split, mse]\n",
    "            i+=1\n",
    "    \n",
    "    return best_split\n",
    "\n",
    "def tree_grow(X, y, level=0, max_depth=None, num_pct=10):\n",
    "    \n",
    "    # Si solo es una observación\n",
    "    if X.shape[0] == 1:\n",
    "        tree = dict(y_pred=y.iloc[:1].values[0], y_prob=y.mean(), level=level, split=-1, n_samples=1,mse=0)\n",
    "        return tree\n",
    "    \n",
    "    # Calcular la mejor división\n",
    "    j, split, mse = best_split(X, y, num_pct)\n",
    "    \n",
    "    # Guardar el árbol y estimar la predicción\n",
    "    y_pred = int(y.mean()) \n",
    "    y_prob = (y.sum()+1) / (y.shape[0]+2)  # Corrección Laplace \n",
    "    \n",
    "    tree = dict(y_pred=y_pred, y_prob=y_prob, level=level, split=-1, n_samples=X.shape[0],mse=mse)\n",
    "    # Revisar el criterio de parada \n",
    "    if max_depth is not None:\n",
    "        if level >= max_depth:\n",
    "            return tree   \n",
    "    \n",
    "    # Continuar creando la partición\n",
    "    filter_l = X.iloc[:, j] < split\n",
    "    X_l, y_l = X.loc[filter_l], y.loc[filter_l]\n",
    "    X_r, y_r = X.loc[~filter_l], y.loc[~filter_l]\n",
    "    tree['split'] = [j, split]\n",
    "\n",
    "    # Siguiente iteración para cada partición\n",
    "    \n",
    "    tree['sl'] = tree_grow(X_l, y_l, level + 1, max_depth=max_depth, num_pct=num_pct)\n",
    "    tree['sr'] = tree_grow(X_r, y_r, level + 1, max_depth=max_depth, num_pct=num_pct)\n",
    "    \n",
    "    return tree\n",
    "\n",
    "def tree_predict(X, tree, proba=False):\n",
    "    \n",
    "    predicted = np.ones(X.shape[0])\n",
    "\n",
    "    # Revisar si es el nodo final\n",
    "    if tree['split'] == -1:\n",
    "        if not proba:\n",
    "            predicted = predicted * tree['y_pred']\n",
    "        else:\n",
    "            predicted = predicted * tree['y_prob']\n",
    "            \n",
    "    else:\n",
    "        \n",
    "        j, split = tree['split']\n",
    "        filter_l = (X.iloc[:, j] < split)\n",
    "        X_l = X.loc[filter_l]\n",
    "        X_r = X.loc[~filter_l]\n",
    "\n",
    "        if X_l.shape[0] == 0:  # Si el nodo izquierdo está vacio solo continua con el derecho \n",
    "            predicted[~filter_l] = tree_predict(X_r, tree['sr'], proba)\n",
    "        elif X_r.shape[0] == 0:  #  Si el nodo derecho está vacio solo continua con el izquierdo\n",
    "            predicted[filter_l] = tree_predict(X_l, tree['sl'], proba)\n",
    "        else:\n",
    "            predicted[filter_l] = tree_predict(X_l, tree['sl'], proba)\n",
    "            predicted[~filter_l] = tree_predict(X_r, tree['sr'], proba)\n",
    "\n",
    "    return predicted"
   ]
  },
  {
   "cell_type": "code",
   "execution_count": 6,
   "metadata": {},
   "outputs": [
    {
     "data": {
      "text/plain": [
       "array([13135.,  8622., 17644., ..., 17644., 10882., 11367.])"
      ]
     },
     "execution_count": 6,
     "metadata": {},
     "output_type": "execute_result"
    }
   ],
   "source": [
    "tree = tree_grow(X_train, y_train, level=0, max_depth=10, num_pct=10)\n",
    "y_predTreeManual = tree_predict(X_test, tree)\n",
    "y_predTreeManual"
   ]
  },
  {
   "cell_type": "code",
   "execution_count": 7,
   "metadata": {},
   "outputs": [
    {
     "data": {
      "text/plain": [
       "2156.298895352172"
      ]
     },
     "execution_count": 7,
     "metadata": {},
     "output_type": "execute_result"
    }
   ],
   "source": [
    "from sklearn.metrics import mean_squared_error\n",
    "rmse_TreeManual = mean_squared_error(y_test, y_predTreeManual, squared=False)\n",
    "rmse_TreeManual"
   ]
  },
  {
   "cell_type": "code",
   "execution_count": 8,
   "metadata": {},
   "outputs": [
    {
     "data": {
      "text/plain": [
       "1586.6264434180139"
      ]
     },
     "execution_count": 8,
     "metadata": {},
     "output_type": "execute_result"
    }
   ],
   "source": [
    "from sklearn.metrics import mean_absolute_error as mae\n",
    "mae_TreeManual = mae(y_test, y_predTreeManual)\n",
    "mae_TreeManual"
   ]
  },
  {
   "cell_type": "markdown",
   "metadata": {},
   "source": [
    "### Punto 2 - Bagging manual\n",
    "\n",
    "En la celda 2 creen un modelo bagging **manualmente** con 10 árboles de clasificación y comenten sobre el desempeño del modelo."
   ]
  },
  {
   "cell_type": "code",
   "execution_count": 9,
   "metadata": {},
   "outputs": [
    {
     "name": "stdout",
     "output_type": "stream",
     "text": [
      "Árbol  0 tiene un rmse:  2141.613353645869\n",
      "Árbol  1 tiene un rmse:  2136.3519863123465\n",
      "Árbol  2 tiene un rmse:  2122.718759132052\n",
      "Árbol  3 tiene un rmse:  2087.278992468617\n",
      "Árbol  4 tiene un rmse:  2168.518742842026\n",
      "Árbol  5 tiene un rmse:  2113.8811455834793\n",
      "Árbol  6 tiene un rmse:  2127.933470769012\n",
      "Árbol  7 tiene un rmse:  2184.414847251443\n",
      "Árbol  8 tiene un rmse:  2138.1071697514985\n",
      "Árbol  9 tiene un rmse:  2132.097520859104\n"
     ]
    }
   ],
   "source": [
    "# Celda 2\n",
    "# Creación de 10 muestras de bootstrap para los 10 árboles\n",
    "np.random.seed(123)\n",
    "\n",
    "n_samples = X_train.shape[0]\n",
    "n_B = 10\n",
    "\n",
    "samples = [np.random.choice(a=n_samples, size=n_samples, replace=True) for _ in range(1, n_B +1 )]\n",
    "\n",
    "from sklearn.tree import DecisionTreeRegressor\n",
    "treereg = DecisionTreeRegressor(max_depth=None, random_state=123)\n",
    "y_pred = pd.DataFrame(index=y_test.index, columns=[list(range(n_B))])\n",
    "\n",
    "for i, sample in enumerate(samples):\n",
    "    X2_train = X_train.iloc[sample,:]\n",
    "    y2_train = y_train.iloc[sample]\n",
    "    treereg.fit(X2_train, y2_train)\n",
    "    y_pred.iloc[:,i] = treereg.predict(X_test)\n",
    "    \n",
    "# Desempeño de cada árbol\n",
    "for i in range(n_B):\n",
    "    print('Árbol ', i, 'tiene un rmse: ', (mean_squared_error(y_pred.iloc[:,i], y_test, squared=False)))"
   ]
  },
  {
   "cell_type": "code",
   "execution_count": 10,
   "metadata": {},
   "outputs": [
    {
     "name": "stdout",
     "output_type": "stream",
     "text": [
      "El RMSE del modelo es de 1796\n",
      "El MAE del modelo es de 1340\n"
     ]
    }
   ],
   "source": [
    "#Promediamos las predicciones\n",
    "y_predBaggingManual = y_pred.mean(axis=1)\n",
    "#Calculamos desempeño\n",
    "rmse_BaggingManual = mean_squared_error(y_test, y_predBaggingManual, squared=False)\n",
    "mae_BaggingManual = mae(y_test, y_predBaggingManual)\n",
    "\n",
    "print(f'El RMSE del modelo es de {round(rmse_BaggingManual)}')\n",
    "print(f'El MAE del modelo es de {round(mae_BaggingManual)}')"
   ]
  },
  {
   "cell_type": "markdown",
   "metadata": {},
   "source": [
    "**DESEMPEÑO DEL MODELO**\n",
    "\n",
    "Encontramos que en general en comparación con el modelo de un solo árbol de decisión realizando un ensamblaje por Bagging de 10 árboles mejora notablemente el desempeño de la predicción, donde vemos que la comparación del rmse es de 1796 para el Bagging y 2156 para un modelo con solo un árbol.\n",
    "\n",
    "Por otro lado el mean absolute error mejor de 1586 de un solo árbol de decisión a 1340 para el modelo de bagging, para este caso se demuestra como este ensamble de 10 árboles mejora en rendimiento a los resultados de un solo árbol."
   ]
  },
  {
   "cell_type": "markdown",
   "metadata": {},
   "source": [
    "### Punto 3 - Bagging con librería\n",
    "\n",
    "En la celda 3, con la librería sklearn, entrenen un modelo bagging con 10 árboles de clasificación y el parámetro `max_features` igual a `log(n_features)` y comenten sobre el desempeño del modelo."
   ]
  },
  {
   "cell_type": "code",
   "execution_count": 11,
   "metadata": {},
   "outputs": [
    {
     "name": "stdout",
     "output_type": "stream",
     "text": [
      "El RMSE del modelo es de 1825\n",
      "El MAE del modelo es de 1362\n"
     ]
    }
   ],
   "source": [
    "# Celda 3\n",
    "from sklearn.ensemble import BaggingRegressor\n",
    "bagreg = BaggingRegressor(DecisionTreeRegressor(max_features='log2'), n_estimators=10, \n",
    "                          bootstrap=True, oob_score=True, random_state=1)\n",
    "bagreg.fit(X_train, y_train)\n",
    "y_predBagging = bagreg.predict(X_test)\n",
    "rmse_Bagging = mean_squared_error(y_test, y_predBagging, squared=False)\n",
    "mae_Bagging = mae(y_test, y_predBagging)\n",
    "\n",
    "# Cálculo del desempeño del modelo utilizando el RMSE y el MAE\n",
    "print(f'El RMSE del modelo es de {round(rmse_Bagging)}')\n",
    "print(f'El MAE del modelo es de {round(mae_Bagging)}')"
   ]
  },
  {
   "cell_type": "markdown",
   "metadata": {},
   "source": [
    "### Punto 4 - Random forest con librería\n",
    "\n",
    "En la celda 4, usando la librería sklearn entrenen un modelo de Randon Forest para clasificación  y comenten sobre el desempeño del modelo."
   ]
  },
  {
   "cell_type": "code",
   "execution_count": 12,
   "metadata": {},
   "outputs": [
    {
     "name": "stdout",
     "output_type": "stream",
     "text": [
      "El RMSE del modelo es de 1757.4790838730512\n",
      "El MAE del modelo es de 1309.2108310607712\n"
     ]
    }
   ],
   "source": [
    "# Celda 4\n",
    "from sklearn.ensemble import RandomForestRegressor\n",
    "from sklearn.model_selection import cross_val_score\n",
    "\n",
    "# Definición de modelo Random Forest para un problema de clasificación\n",
    "regRF = RandomForestRegressor()\n",
    "regRF.fit(X_train, y_train)\n",
    "y_predRF = regRF.predict(X_test)\n",
    "\n",
    "rmse_RF = mean_squared_error(y_test, y_predRF, squared=False)\n",
    "mae_RF = mae(y_test, y_predRF)\n",
    "\n",
    "# Cálculo del desempeño del modelo utilizando el RMSE y el MAE\n",
    "print(f'El RMSE del modelo es de {rmse_RF}')\n",
    "print(f'El MAE del modelo es de {mae_RF}')"
   ]
  },
  {
   "cell_type": "markdown",
   "metadata": {},
   "source": [
    "Se logra apreciar la construcción de un modelo de Random Forest utilizando la librería de sklearn, en donde no se definió ningún parámetro. Se inició haciendo la implementación de dicho modelo y ajustándolo a los datos de entrenamiento. Luego, se hicieron predicciones con los datos de prueba para poder evaluar su desempeño con el RMSE y el MAE, los cuales arrojaron valores de 1757 y 1307, respectivamente. Por lo tanto, a pesar de que este modelo no se parametrizó, mostró un mejor desempeño que los modelos anteriores."
   ]
  },
  {
   "cell_type": "markdown",
   "metadata": {},
   "source": [
    "### Punto 5 - Calibración de parámetros Random forest\n",
    "\n",
    "En la celda 5, calibren los parámetros max_depth, max_features y n_estimators del modelo de Randon Forest para clasificación, comenten sobre el desempeño del modelo y describan cómo cada parámetro afecta el desempeño del modelo."
   ]
  },
  {
   "cell_type": "code",
   "execution_count": 16,
   "metadata": {},
   "outputs": [
    {
     "name": "stdout",
     "output_type": "stream",
     "text": [
      "El parámetro max_depth que mejor calibra el modelo es 8\n"
     ]
    },
    {
     "data": {
      "image/png": "[encoded data removed]",
      "text/plain": [
       "<Figure size 432x288 with 1 Axes>"
      ]
     },
     "metadata": {
      "needs_background": "light"
     },
     "output_type": "display_data"
    }
   ],
   "source": [
    "# Celda 5\n",
    "np.random.seed(123)\n",
    "\n",
    "# Creación de lista de valores para iterar sobre diferentes valores de max_depth\n",
    "max_depth_range = range(1, 51)\n",
    "\n",
    "# Definición de lista para almacenar el rmse promedio para cada valor de max_depth\n",
    "rmse_scores = []\n",
    "\n",
    "# Uso de un 5-fold cross-validation para cada valor de max_depth\n",
    "for max_depth in max_depth_range:\n",
    "    reg = RandomForestRegressor(max_depth = max_depth, n_jobs=-1)\n",
    "    scores = cross_val_score(reg, X_train, y_train, cv = 5, scoring = 'neg_mean_squared_error', n_jobs=-1)\n",
    "    rmse_scores.append(np.mean(np.sqrt(np.abs(scores))))\n",
    "\n",
    "# Gráfica del desempeño del modelo vs la cantidad de max_depth\n",
    "plt.plot(max_depth_range, rmse_scores)\n",
    "plt.xlabel('max_depth')\n",
    "plt.ylabel('RMSE')\n",
    "\n",
    "print(f'El parámetro max_depth que mejor calibra el modelo es {rmse_scores.index(min(rmse_scores)) + 1}')"
   ]
  },
  {
   "cell_type": "code",
   "execution_count": 17,
   "metadata": {},
   "outputs": [
    {
     "name": "stdout",
     "output_type": "stream",
     "text": [
      "El parámetro max_features que mejor calibra el modelo es 4\n"
     ]
    },
    {
     "data": {
      "image/png": "[encoded data removed]",
      "text/plain": [
       "<Figure size 432x288 with 1 Axes>"
      ]
     },
     "metadata": {
      "needs_background": "light"
     },
     "output_type": "display_data"
    }
   ],
   "source": [
    "np.random.seed(123)\n",
    "\n",
    "# Creación de lista de valores para iterar sobre diferentes valores de max_features\n",
    "feature_range = range(1, X_train.shape[1] + 1)\n",
    "\n",
    "# Definición de lista para almacenar el rmse promedio para cada valor de max_features\n",
    "rmse_scores = []\n",
    "\n",
    "# Uso de un 5-fold cross-validation para cada valor de max_features\n",
    "for feature in feature_range:\n",
    "    reg = RandomForestRegressor(max_depth = 8, max_features = feature, n_jobs=-1)\n",
    "    scores = cross_val_score(reg, X_train, y_train, cv = 5, scoring = 'neg_mean_squared_error', n_jobs=-1)\n",
    "    rmse_scores.append(np.mean(np.sqrt(np.abs(scores))))\n",
    "\n",
    "# Gráfica del desempeño del modelo vs la cantidad de max_features\n",
    "plt.plot(feature_range, rmse_scores)\n",
    "plt.xlabel('max_features')\n",
    "plt.ylabel('RMSE')\n",
    "\n",
    "print(f'El parámetro max_features que mejor calibra el modelo es {rmse_scores.index(min(rmse_scores)) + 1}')"
   ]
  },
  {
   "cell_type": "code",
   "execution_count": 18,
   "metadata": {},
   "outputs": [
    {
     "name": "stdout",
     "output_type": "stream",
     "text": [
      "El parámetro n_estimators que mejor calibra el modelo es 110\n"
     ]
    },
    {
     "data": {
      "image/png": "[encoded data removed]",
      "text/plain": [
       "<Figure size 432x288 with 1 Axes>"
      ]
     },
     "metadata": {
      "needs_background": "light"
     },
     "output_type": "display_data"
    }
   ],
   "source": [
    "np.random.seed(123)\n",
    "\n",
    "# Creación de lista de valores para iterar sobre diferentes valores de n_estimators\n",
    "estimator_range = range(10, 310, 10)\n",
    "\n",
    "# Definición de lista para almacenar el rmse promedio para cada valor de n_estimators\n",
    "rmse_scores = []\n",
    "\n",
    "# Uso de un 5-fold cross-validation para cada valor de n_estimators\n",
    "for estimator in estimator_range:\n",
    "    reg = RandomForestRegressor(max_depth = 8, max_features = 1, n_estimators = estimator, n_jobs=-1)\n",
    "    scores = cross_val_score(reg, X_train, y_train, cv = 5, scoring = 'neg_mean_squared_error', n_jobs=-1)\n",
    "    rmse_scores.append(np.mean(np.sqrt(np.abs(scores))))\n",
    "\n",
    "# Gráfica del desempeño del modelo vs la cantidad de n_estimators\n",
    "plt.plot(estimator_range, rmse_scores)\n",
    "plt.xlabel('n_estimators')\n",
    "plt.ylabel('RMSE')\n",
    "\n",
    "print(f'El parámetro n_estimators que mejor calibra el modelo es {(rmse_scores.index(min(rmse_scores)) + 1) * 10}')"
   ]
  },
  {
   "cell_type": "code",
   "execution_count": 20,
   "metadata": {},
   "outputs": [
    {
     "name": "stdout",
     "output_type": "stream",
     "text": [
      "El RMSE del modelo es de 1555\n",
      "El MAE del modelo es de 1141\n"
     ]
    }
   ],
   "source": [
    "np.random.seed(123)\n",
    "\n",
    "# Implementación y ajuste del modelo de regresión de Random Forest calibrado con los datos de entrenamiento\n",
    "rfcreg = RandomForestRegressor(max_depth = 8, max_features = 5, n_estimators = 90).fit(X_train, y_train)\n",
    "\n",
    "# Predicción con los datos de prueba\n",
    "y_pred = rfcreg.predict(X_test)\n",
    "\n",
    "RMSE_RFC = round(mean_squared_error(y_pred, y_test, squared = False))\n",
    "MAE_RFC = round(mae(y_pred, y_test))\n",
    "\n",
    "# Cálculo del desempeño del modelo utilizando el RMSE y el MAE\n",
    "print(f'El RMSE del modelo es de {RMSE_RFC}')\n",
    "print(f'El MAE del modelo es de {MAE_RFC}')"
   ]
  },
  {
   "cell_type": "markdown",
   "metadata": {},
   "source": [
    "En este modelo de Random Forest, se definieron tres parámetros y se buscaron, dentro de un rango de valores, cuales eran los que mostraban el menor RMSE. Para este caso, los valores de max_depth, max_features y n_estimators que mejor calibraron el modelo fueron 8, 5 y 90, respectivamente. Luego de esto, se implementó un modelo de regresión de Random Forest definiendo los parámetros anteriores y se ajustó con los datos de entrenamiento. Finalmente, se realizaron predicciones con los datos de prueba y de esta manera poder determinar el desempeño del modelo con el RMSE y el MAE, los cuales obtuvieron valores de 1555 y 1141, respectivamente. Por lo tanto, la parametrización del modelo permitió mejorar su desempeño ya que las métricas de predicción utilizadas fueron menores a las del modelo de Random Forest sin calibrar. "
   ]
  },
  {
   "cell_type": "code",
   "execution_count": 21,
   "metadata": {},
   "outputs": [
    {
     "data": {
      "text/html": [
       "<div>\n",
       "<style scoped>\n",
       "    .dataframe tbody tr th:only-of-type {\n",
       "        vertical-align: middle;\n",
       "    }\n",
       "\n",
       "    .dataframe tbody tr th {\n",
       "        vertical-align: top;\n",
       "    }\n",
       "\n",
       "    .dataframe thead th {\n",
       "        text-align: right;\n",
       "    }\n",
       "</style>\n",
       "<table border=\"1\" class=\"dataframe\">\n",
       "  <thead>\n",
       "    <tr style=\"text-align: right;\">\n",
       "      <th></th>\n",
       "      <th>feature</th>\n",
       "      <th>importance</th>\n",
       "    </tr>\n",
       "  </thead>\n",
       "  <tbody>\n",
       "    <tr>\n",
       "      <th>4</th>\n",
       "      <td>M_CamryBase</td>\n",
       "      <td>0.000233</td>\n",
       "    </tr>\n",
       "    <tr>\n",
       "      <th>5</th>\n",
       "      <td>M_CamryL</td>\n",
       "      <td>0.000854</td>\n",
       "    </tr>\n",
       "    <tr>\n",
       "      <th>2</th>\n",
       "      <td>M_Camry</td>\n",
       "      <td>0.006462</td>\n",
       "    </tr>\n",
       "    <tr>\n",
       "      <th>6</th>\n",
       "      <td>M_CamryLE</td>\n",
       "      <td>0.007681</td>\n",
       "    </tr>\n",
       "    <tr>\n",
       "      <th>7</th>\n",
       "      <td>M_CamrySE</td>\n",
       "      <td>0.012006</td>\n",
       "    </tr>\n",
       "    <tr>\n",
       "      <th>8</th>\n",
       "      <td>M_CamryXLE</td>\n",
       "      <td>0.015677</td>\n",
       "    </tr>\n",
       "    <tr>\n",
       "      <th>3</th>\n",
       "      <td>M_Camry4dr</td>\n",
       "      <td>0.056149</td>\n",
       "    </tr>\n",
       "    <tr>\n",
       "      <th>1</th>\n",
       "      <td>Mileage</td>\n",
       "      <td>0.401042</td>\n",
       "    </tr>\n",
       "    <tr>\n",
       "      <th>0</th>\n",
       "      <td>Year</td>\n",
       "      <td>0.499895</td>\n",
       "    </tr>\n",
       "  </tbody>\n",
       "</table>\n",
       "</div>"
      ],
      "text/plain": [
       "       feature  importance\n",
       "4  M_CamryBase    0.000233\n",
       "5     M_CamryL    0.000854\n",
       "2      M_Camry    0.006462\n",
       "6    M_CamryLE    0.007681\n",
       "7    M_CamrySE    0.012006\n",
       "8   M_CamryXLE    0.015677\n",
       "3   M_Camry4dr    0.056149\n",
       "1      Mileage    0.401042\n",
       "0         Year    0.499895"
      ]
     },
     "execution_count": 21,
     "metadata": {},
     "output_type": "execute_result"
    }
   ],
   "source": [
    "# Impresión de resultados de desemepeño del modelo\n",
    "pd.DataFrame({'feature':X_train.columns, 'importance':rfcreg.feature_importances_}).sort_values('importance')"
   ]
  },
  {
   "cell_type": "markdown",
   "metadata": {},
   "source": [
    "### Punto 6 - XGBoost con librería\n",
    "\n",
    "En la celda 6 implementen un modelo XGBoost de clasificación con la librería sklearn y comenten sobre el desempeño del modelo."
   ]
  },
  {
   "cell_type": "code",
   "execution_count": 23,
   "metadata": {},
   "outputs": [
    {
     "name": "stdout",
     "output_type": "stream",
     "text": [
      "El RMSE del modelo es de 1621\n",
      "El MAE del modelo es de 1187\n"
     ]
    }
   ],
   "source": [
    "# Celda 6\n",
    "from xgboost import XGBRegressor\n",
    "np.random.seed(123)\n",
    "\n",
    "# Implementación y ajuste del modelo de clasificación de XGBoost con los datos de entrenamiento \n",
    "xgbreg = XGBRegressor().fit(X_train, y_train)\n",
    "\n",
    "# Predicción con los datos de prueba\n",
    "y_pred = xgbreg.predict(X_test)\n",
    "\n",
    "RMSE_XGB = round(mean_squared_error(y_pred, y_test, squared = False))\n",
    "MAE_XGB = round(mae(y_pred, y_test))\n",
    "\n",
    "# Cálculo del desempeño del modelo utilizando el RMSE y el MAE\n",
    "print(f'El RMSE del modelo es de {RMSE_XGB}')\n",
    "print(f'El MAE del modelo es de {MAE_XGB}')"
   ]
  },
  {
   "cell_type": "markdown",
   "metadata": {},
   "source": [
    "La celda anterior, presenta la implementación de un modelo XGBoost sin parametrizar, en donde se ajustó con los datos de entrenamiento y se realizaron predicciones para poder calcular las métricas de predicción RMSE y MAE, en donde los valores obtenidos de estos fueron 1621 y 1187, respectivamente, los cuales fueron superiores al del Random Forest parametrizado."
   ]
  },
  {
   "cell_type": "markdown",
   "metadata": {},
   "source": [
    "### Punto 7 - Calibración de parámetros XGBoost\n",
    "\n",
    "En la celda 7 calibren los parámetros learning rate, gamma y colsample_bytree del modelo XGBoost para clasificación, comenten sobre el desempeño del modelo y describan cómo cada parámetro afecta el desempeño del modelo."
   ]
  },
  {
   "cell_type": "code",
   "execution_count": 24,
   "metadata": {},
   "outputs": [
    {
     "name": "stdout",
     "output_type": "stream",
     "text": [
      "El parámetro learning rate que mejor calibra el modelo es 0.060000000000000005\n"
     ]
    },
    {
     "data": {
      "image/png": "[encoded data removed]",
      "text/plain": [
       "<Figure size 432x288 with 1 Axes>"
      ]
     },
     "metadata": {
      "needs_background": "light"
     },
     "output_type": "display_data"
    }
   ],
   "source": [
    "# Celda 7\n",
    "np.random.seed(123)\n",
    "\n",
    "# Creación de lista de valores para iterar sobre diferentes valores de learning rate\n",
    "lr_range = np.arange(0.01, 1, 0.01)\n",
    "\n",
    "# Definición de lista para almacenar el rmse promedio para cada valor de learning rate\n",
    "rmse_scores = []\n",
    "\n",
    "# Uso de un 5-fold cross-validation para cada valor de learning rate\n",
    "for lr in lr_range:\n",
    "    reg = XGBRegressor(learning_rate = lr)\n",
    "    scores = cross_val_score(reg, X_train, y_train, cv = 5, scoring = 'neg_mean_squared_error',n_jobs=-1)\n",
    "    rmse_scores.append(np.mean(np.sqrt(np.abs(scores))))\n",
    "\n",
    "# Gráfica del desempeño del modelo vs la cantidad de learning rate\n",
    "plt.plot(lr_range, rmse_scores)\n",
    "plt.xlabel('learning rate')\n",
    "plt.ylabel('RMSE')\n",
    "\n",
    "print(f'El parámetro learning rate que mejor calibra el modelo es {lr_range[rmse_scores.index(min(rmse_scores))]}')"
   ]
  },
  {
   "cell_type": "code",
   "execution_count": 25,
   "metadata": {},
   "outputs": [
    {
     "name": "stdout",
     "output_type": "stream",
     "text": [
      "El parámetro gamma que mejor calibra el modelo es 280\n"
     ]
    },
    {
     "data": {
      "image/png": "[encoded data removed]",
      "text/plain": [
       "<Figure size 432x288 with 1 Axes>"
      ]
     },
     "metadata": {
      "needs_background": "light"
     },
     "output_type": "display_data"
    }
   ],
   "source": [
    "np.random.seed(123)\n",
    "\n",
    "# Creación de lista de valores para iterar sobre diferentes valores de gamma\n",
    "gamma_range = range(0, 501, 10)\n",
    "\n",
    "# Definición de lista para almacenar el rmse promedio para cada valor de gamma\n",
    "rmse_scores = []\n",
    "\n",
    "# Uso de un 5-fold cross-validation para cada valor de gamma\n",
    "for gamma in gamma_range:\n",
    "    reg = XGBRegressor(learning_rate = 0.06, gamma = gamma)\n",
    "    scores = cross_val_score(reg, X_train, y_train, cv = 5, scoring = 'neg_mean_squared_error',n_jobs=-1)\n",
    "    rmse_scores.append(np.mean(np.sqrt(np.abs(scores))))\n",
    "\n",
    "# Gráfica del desempeño del modelo vs la cantidad de gamma\n",
    "plt.plot(gamma_range, rmse_scores)\n",
    "plt.xlabel('gamma')\n",
    "plt.ylabel('RMSE')\n",
    "\n",
    "print(f'El parámetro gamma que mejor calibra el modelo es {gamma_range[rmse_scores.index(min(rmse_scores))]}')"
   ]
  },
  {
   "cell_type": "code",
   "execution_count": 26,
   "metadata": {},
   "outputs": [
    {
     "name": "stdout",
     "output_type": "stream",
     "text": [
      "El parámetro colsample_bytree que mejor calibra el modelo es 0.67\n"
     ]
    },
    {
     "data": {
      "image/png": "[encoded data removed]",
      "text/plain": [
       "<Figure size 432x288 with 1 Axes>"
      ]
     },
     "metadata": {
      "needs_background": "light"
     },
     "output_type": "display_data"
    }
   ],
   "source": [
    "np.random.seed(123)\n",
    "\n",
    "# Creación de lista de valores para iterar sobre diferentes valores de colsample_bytree\n",
    "colsample_bytree_range = np.arange(0.01, 1, 0.01)\n",
    "\n",
    "# Definición de lista para almacenar el rmse promedio para cada valor de colsample_bytree\n",
    "rmse_scores = []\n",
    "\n",
    "# Uso de un 5-fold cross-validation para cada valor de colsample_bytree\n",
    "for colsample_bytree in colsample_bytree_range:\n",
    "    reg = XGBRegressor(learning_rate = 0.06, gamma = 280, colsample_bytree = colsample_bytree)\n",
    "    scores = cross_val_score(reg, X_train, y_train, cv = 5, scoring = 'neg_mean_squared_error',n_jobs=-1)\n",
    "    rmse_scores.append(np.mean(np.sqrt(np.abs(scores))))\n",
    "\n",
    "# Gráfica del desempeño del modelo vs la cantidad de colsample_bytree\n",
    "plt.plot(colsample_bytree_range, rmse_scores)\n",
    "plt.xlabel('colsample_bytree')\n",
    "plt.ylabel('RMSE')\n",
    "\n",
    "print(f'El parámetro colsample_bytree que mejor calibra el modelo es {colsample_bytree_range[rmse_scores.index(min(rmse_scores))]}')"
   ]
  },
  {
   "cell_type": "code",
   "execution_count": 27,
   "metadata": {},
   "outputs": [
    {
     "name": "stdout",
     "output_type": "stream",
     "text": [
      "El RMSE del modelo es de 1543\n",
      "El MAE del modelo es de 1131\n"
     ]
    }
   ],
   "source": [
    "np.random.seed(123)\n",
    "\n",
    "# Implementación y ajuste del modelo de clasificación de XGBoost calibrado con los datos de entrenamiento\n",
    "xgbcreg = XGBRegressor(learning_rate = 0.06, gamma = 280, colsample_bytree = 0.67).fit(X_train, y_train)\n",
    "\n",
    "# Predicción con los datos de prueba\n",
    "y_pred = xgbcreg.predict(X_test)\n",
    "\n",
    "RMSE_XGBC = round(mean_squared_error(y_pred, y_test, squared = False))\n",
    "MAE_XGBC = round(mae(y_pred, y_test))\n",
    "\n",
    "# Cálculo del desempeño del modelo utilizando el RMSE y el MAE\n",
    "print(f'El RMSE del modelo es de {RMSE_XGBC}')\n",
    "print(f'El MAE del modelo es de {MAE_XGBC}')"
   ]
  },
  {
   "cell_type": "markdown",
   "metadata": {},
   "source": [
    "Finalmente, se contruyó un modelo de XGBoost definiendo los parámetros learning_rate, gamma y colsample_bytree, en donde se buscaron los valores que tuvieran el menor RMSE en los tres. Al final, los valores de los parámetros encontrados fueron de 0.06, 280 y 0.67, respectivamente. Luego de haber definido los parámetros a utilizar, se implementó el modelo de XGBoost y se ajustó con los datos de entrenamiento. Después, se hicieron predicciones y se calculó el RMSE y el MAE para evaluar su desempeño, los cuales fueron de 1543 y 1131, respectivamente. Ambos, tuvieron un error ligeramente menor que el del Random Forest calibrado."
   ]
  },
  {
   "cell_type": "markdown",
   "metadata": {},
   "source": [
    "### Punto 8 - Comparación y análisis de resultados\n",
    "En la celda 8 comparen los resultados obtenidos de los diferentes modelos (random forest y XGBoost) y comenten las ventajas del mejor modelo y las desventajas del modelo con el menor desempeño."
   ]
  },
  {
   "cell_type": "code",
   "execution_count": 28,
   "metadata": {},
   "outputs": [
    {
     "data": {
      "image/png": "[encoded data removed]",
      "text/plain": [
       "<Figure size 720x360 with 1 Axes>"
      ]
     },
     "metadata": {
      "needs_background": "light"
     },
     "output_type": "display_data"
    },
    {
     "data": {
      "image/png": "[encoded data removed]",
      "text/plain": [
       "<Figure size 720x360 with 1 Axes>"
      ]
     },
     "metadata": {
      "needs_background": "light"
     },
     "output_type": "display_data"
    }
   ],
   "source": [
    "# Celda 8\n",
    "\n",
    "RMSE = [['Random Forest', rmse_RF],\n",
    "        ['Random Forest Calibrado', RMSE_RFC],\n",
    "        ['XGBoost', RMSE_XGB],\n",
    "        ['XGBoost Calibrado', RMSE_XGBC]]\n",
    "MAE = [['Random Forest', mae_RF],\n",
    "       ['Random Forest Calibrado', MAE_RFC],\n",
    "       ['XGBoost', MAE_XGB],\n",
    "       ['XGBoost Calibrado', MAE_XGBC]]\n",
    "\n",
    "df_RMSE = pd.DataFrame(RMSE, columns = ['Modelo', 'RMSE'])\n",
    "df_MAE = pd.DataFrame(MAE, columns = ['Modelo', 'MAE'])\n",
    "\n",
    "# df_RMSE.plot.bar(x = 'Modelo', y = 'RMSE', rot = 0)\n",
    "# df_MAE.plot.bar(x = 'Modelo', y = 'MAE', rot = 0)\n",
    "\n",
    "\n",
    "ax_RMSE = df_RMSE.plot.bar(x = 'Modelo', y = 'RMSE', rot = 0, figsize = (10, 5), legend = False, xlabel = '', title = 'RMSE')\n",
    "for container in ax_RMSE.containers:\n",
    "    ax_RMSE.bar_label(container)\n",
    "\n",
    "ax_MAE = df_MAE.plot.bar(x = 'Modelo', y = 'MAE', rot = 0, figsize = (10, 5), legend = False, xlabel = '', title = 'MAE')\n",
    "for container in ax_MAE.containers:\n",
    "    ax_MAE.bar_label(container)"
   ]
  },
  {
   "cell_type": "markdown",
   "metadata": {},
   "source": [
    "Las dos gráficas anteriores, permiten observar el RMSE y el MAE de los modelos de Random Forest y XGBoost, ambos sin parametrizar y parametrizados. Se puede observar en ambas gráficas que el modelo de XGBoost parametrizado no solamente es el que muestra el menor RMSE sino también el menor MAE, por lo que se convierte en el modelo con el mejor desempeño de los cuatro que fueron evaluados; mientras que el Random Forest sin parametrizar fue el que presentó el menor desempeño de los modelos evaluados.\n",
    "\n",
    "Entre las ventajas que trae el mejor modelo (XGBoost parametrizado) está que puede manejar enormes volúmenes de datos con un número significativo de variables predictoras, la precisión de los resultados es alta, tiene un tratamiento adecuado de valores faltantes y cuenta con una velocidad de ejecución notable. Por otro lado, las desventajas con las que cuenta el modelo con el menor desempeño (Random Forest sin parametrizar) son el sobreajuste de ciertos grupos de datos en presencia de ruido, las predicciones no van más allá del rango de valores del conjunto de datos usado para entrenamiento y no se tiene un control sobre lo que hace el modelo."
   ]
  },
  {
   "cell_type": "code",
   "execution_count": null,
   "metadata": {},
   "outputs": [],
   "source": []
  }
 ],
 "metadata": {
  "kernelspec": {
   "display_name": "Python 3 (ipykernel)",
   "language": "python",
   "name": "python3"
  },
  "language_info": {
   "codemirror_mode": {
    "name": "ipython",
    "version": 3
   },
   "file_extension": ".py",
   "mimetype": "text/x-python",
   "name": "python",
   "nbconvert_exporter": "python",
   "pygments_lexer": "ipython3",
   "version": "3.9.7"
  }
 },
 "nbformat": 4,
 "nbformat_minor": 4
}
